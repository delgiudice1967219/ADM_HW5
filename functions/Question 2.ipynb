{
 "cells": [
  {
   "cell_type": "markdown",
   "id": "7172d7b6bad88c99",
   "metadata": {},
   "source": [
    "# ADM-HW5: GROUP #10"
   ]
  },
  {
   "cell_type": "markdown",
   "id": "91899141502832b2",
   "metadata": {},
   "source": [
    "#### Xavier Del Giudice, \n",
    "\n",
    "\n",
    "|      STUDENT       |   ID    |                 E-mail                  |\n",
    "|:------------------:|:-------:|:---------------------------------------:|\n",
    "| Xavier Del Giudice | 1967219 | delgiudice.1967219@studenti.uniroma1.it |\n",
    "|  Flavio Mangione   |  |      |\n",
    "|     Leo Rocci      |  |       |\n",
    "|       |  |      |"
   ]
  },
  {
   "cell_type": "markdown",
   "id": "2ae934bb18f98549",
   "metadata": {},
   "source": [
    "## Import and Install required packages"
   ]
  },
  {
   "cell_type": "code",
   "execution_count": 1,
   "id": "initial_id",
   "metadata": {
    "ExecuteTime": {
     "end_time": "2024-12-12T15:06:21.480633Z",
     "start_time": "2024-12-12T15:06:18.317198Z"
    },
    "collapsed": true
   },
   "outputs": [
    {
     "name": "stdout",
     "output_type": "stream",
     "text": [
      "^C\n",
      "Note: you may need to restart the kernel to use updated packages.\n"
     ]
    }
   ],
   "source": [
    "%pip install pandas numpy scikit-learn matplotlib pyspark plotly kagglehub geopy networkx"
   ]
  },
  {
   "cell_type": "code",
   "execution_count": 1,
   "id": "d08a7d07f3168c93",
   "metadata": {
    "ExecuteTime": {
     "end_time": "2024-12-18T20:56:33.976455Z",
     "start_time": "2024-12-18T20:56:32.638022Z"
    }
   },
   "outputs": [],
   "source": [
    "import pandas as pd\n",
    "import os\n",
    "from pyspark.sql import SparkSession\n",
    "import matplotlib.pyplot as plt\n",
    "import numpy as np\n",
    "import kagglehub\n",
    "import networkx as nx\n",
    "import dash\n",
    "from dash import dcc, html\n",
    "from dash.dependencies import Input, Output\n",
    "import folium\n",
    "from folium.plugins import MarkerCluster\n",
    "import geopandas as gpd\n",
    "from geopy.geocoders import Nominatim\n",
    "from geopy.exc import GeocoderTimedOut, GeocoderUnavailable\n",
    "import time\n",
    "import plotly.express as px\n",
    "import plotly.graph_objects as go"
   ]
  },
  {
   "cell_type": "markdown",
   "id": "100c1e4ce764666c",
   "metadata": {},
   "source": [
    "## Import the dataset"
   ]
  },
  {
   "cell_type": "code",
   "execution_count": 3,
   "id": "ac89c16bfca9b7c6",
   "metadata": {
    "ExecuteTime": {
     "end_time": "2024-12-16T14:30:35.177967Z",
     "start_time": "2024-12-16T14:30:34.462079Z"
    }
   },
   "outputs": [
    {
     "name": "stdout",
     "output_type": "stream",
     "text": [
      "Warning: Looks like you're using an outdated `kagglehub` version, please consider updating (latest version: 0.3.5)\n"
     ]
    }
   ],
   "source": [
    "# Download the dataset directly from kaggle\n",
    "path = kagglehub.dataset_download(\"flashgordon/usa-airport-dataset\")"
   ]
  },
  {
   "cell_type": "code",
   "execution_count": 4,
   "id": "531251dcec8edb8a",
   "metadata": {
    "ExecuteTime": {
     "end_time": "2024-12-16T14:30:39.954909Z",
     "start_time": "2024-12-16T14:30:35.178973Z"
    }
   },
   "outputs": [],
   "source": [
    "df = pd.read_csv(os.path.join(path, 'Airports2.csv'))"
   ]
  },
  {
   "cell_type": "code",
   "execution_count": 5,
   "id": "701ed8ee44c69c38",
   "metadata": {
    "ExecuteTime": {
     "end_time": "2024-12-16T14:36:32.060672Z",
     "start_time": "2024-12-16T14:36:32.055757Z"
    }
   },
   "outputs": [
    {
     "data": {
      "text/plain": [
       "(3606803, 15)"
      ]
     },
     "execution_count": 5,
     "metadata": {},
     "output_type": "execute_result"
    }
   ],
   "source": [
    "df.shape"
   ]
  },
  {
   "cell_type": "code",
   "execution_count": 6,
   "id": "c74db46f5f873d1e",
   "metadata": {
    "ExecuteTime": {
     "end_time": "2024-12-16T14:36:34.274341Z",
     "start_time": "2024-12-16T14:36:34.264326Z"
    }
   },
   "outputs": [
    {
     "data": {
      "text/html": [
       "<div>\n",
       "<style scoped>\n",
       "    .dataframe tbody tr th:only-of-type {\n",
       "        vertical-align: middle;\n",
       "    }\n",
       "\n",
       "    .dataframe tbody tr th {\n",
       "        vertical-align: top;\n",
       "    }\n",
       "\n",
       "    .dataframe thead th {\n",
       "        text-align: right;\n",
       "    }\n",
       "</style>\n",
       "<table border=\"1\" class=\"dataframe\">\n",
       "  <thead>\n",
       "    <tr style=\"text-align: right;\">\n",
       "      <th></th>\n",
       "      <th>Origin_airport</th>\n",
       "      <th>Destination_airport</th>\n",
       "      <th>Origin_city</th>\n",
       "      <th>Destination_city</th>\n",
       "      <th>Passengers</th>\n",
       "      <th>Seats</th>\n",
       "      <th>Flights</th>\n",
       "      <th>Distance</th>\n",
       "      <th>Fly_date</th>\n",
       "      <th>Origin_population</th>\n",
       "      <th>Destination_population</th>\n",
       "      <th>Org_airport_lat</th>\n",
       "      <th>Org_airport_long</th>\n",
       "      <th>Dest_airport_lat</th>\n",
       "      <th>Dest_airport_long</th>\n",
       "    </tr>\n",
       "  </thead>\n",
       "  <tbody>\n",
       "    <tr>\n",
       "      <th>0</th>\n",
       "      <td>MHK</td>\n",
       "      <td>AMW</td>\n",
       "      <td>Manhattan, KS</td>\n",
       "      <td>Ames, IA</td>\n",
       "      <td>21</td>\n",
       "      <td>30</td>\n",
       "      <td>1</td>\n",
       "      <td>254</td>\n",
       "      <td>2008-10-01</td>\n",
       "      <td>122049</td>\n",
       "      <td>86219</td>\n",
       "      <td>39.140999</td>\n",
       "      <td>-96.670799</td>\n",
       "      <td>NaN</td>\n",
       "      <td>NaN</td>\n",
       "    </tr>\n",
       "    <tr>\n",
       "      <th>1</th>\n",
       "      <td>EUG</td>\n",
       "      <td>RDM</td>\n",
       "      <td>Eugene, OR</td>\n",
       "      <td>Bend, OR</td>\n",
       "      <td>41</td>\n",
       "      <td>396</td>\n",
       "      <td>22</td>\n",
       "      <td>103</td>\n",
       "      <td>1990-11-01</td>\n",
       "      <td>284093</td>\n",
       "      <td>76034</td>\n",
       "      <td>44.124599</td>\n",
       "      <td>-123.211998</td>\n",
       "      <td>44.254101</td>\n",
       "      <td>-121.150002</td>\n",
       "    </tr>\n",
       "    <tr>\n",
       "      <th>2</th>\n",
       "      <td>EUG</td>\n",
       "      <td>RDM</td>\n",
       "      <td>Eugene, OR</td>\n",
       "      <td>Bend, OR</td>\n",
       "      <td>88</td>\n",
       "      <td>342</td>\n",
       "      <td>19</td>\n",
       "      <td>103</td>\n",
       "      <td>1990-12-01</td>\n",
       "      <td>284093</td>\n",
       "      <td>76034</td>\n",
       "      <td>44.124599</td>\n",
       "      <td>-123.211998</td>\n",
       "      <td>44.254101</td>\n",
       "      <td>-121.150002</td>\n",
       "    </tr>\n",
       "    <tr>\n",
       "      <th>3</th>\n",
       "      <td>EUG</td>\n",
       "      <td>RDM</td>\n",
       "      <td>Eugene, OR</td>\n",
       "      <td>Bend, OR</td>\n",
       "      <td>11</td>\n",
       "      <td>72</td>\n",
       "      <td>4</td>\n",
       "      <td>103</td>\n",
       "      <td>1990-10-01</td>\n",
       "      <td>284093</td>\n",
       "      <td>76034</td>\n",
       "      <td>44.124599</td>\n",
       "      <td>-123.211998</td>\n",
       "      <td>44.254101</td>\n",
       "      <td>-121.150002</td>\n",
       "    </tr>\n",
       "    <tr>\n",
       "      <th>4</th>\n",
       "      <td>MFR</td>\n",
       "      <td>RDM</td>\n",
       "      <td>Medford, OR</td>\n",
       "      <td>Bend, OR</td>\n",
       "      <td>0</td>\n",
       "      <td>18</td>\n",
       "      <td>1</td>\n",
       "      <td>156</td>\n",
       "      <td>1990-02-01</td>\n",
       "      <td>147300</td>\n",
       "      <td>76034</td>\n",
       "      <td>42.374199</td>\n",
       "      <td>-122.873001</td>\n",
       "      <td>44.254101</td>\n",
       "      <td>-121.150002</td>\n",
       "    </tr>\n",
       "  </tbody>\n",
       "</table>\n",
       "</div>"
      ],
      "text/plain": [
       "  Origin_airport Destination_airport    Origin_city Destination_city  \\\n",
       "0            MHK                 AMW  Manhattan, KS         Ames, IA   \n",
       "1            EUG                 RDM     Eugene, OR         Bend, OR   \n",
       "2            EUG                 RDM     Eugene, OR         Bend, OR   \n",
       "3            EUG                 RDM     Eugene, OR         Bend, OR   \n",
       "4            MFR                 RDM    Medford, OR         Bend, OR   \n",
       "\n",
       "   Passengers  Seats  Flights  Distance    Fly_date  Origin_population  \\\n",
       "0          21     30        1       254  2008-10-01             122049   \n",
       "1          41    396       22       103  1990-11-01             284093   \n",
       "2          88    342       19       103  1990-12-01             284093   \n",
       "3          11     72        4       103  1990-10-01             284093   \n",
       "4           0     18        1       156  1990-02-01             147300   \n",
       "\n",
       "   Destination_population  Org_airport_lat  Org_airport_long  \\\n",
       "0                   86219        39.140999        -96.670799   \n",
       "1                   76034        44.124599       -123.211998   \n",
       "2                   76034        44.124599       -123.211998   \n",
       "3                   76034        44.124599       -123.211998   \n",
       "4                   76034        42.374199       -122.873001   \n",
       "\n",
       "   Dest_airport_lat  Dest_airport_long  \n",
       "0               NaN                NaN  \n",
       "1         44.254101        -121.150002  \n",
       "2         44.254101        -121.150002  \n",
       "3         44.254101        -121.150002  \n",
       "4         44.254101        -121.150002  "
      ]
     },
     "execution_count": 6,
     "metadata": {},
     "output_type": "execute_result"
    }
   ],
   "source": [
    "df.head()"
   ]
  },
  {
   "cell_type": "code",
   "execution_count": 7,
   "id": "5671828d5662e7f3",
   "metadata": {
    "ExecuteTime": {
     "end_time": "2024-12-16T14:36:36.939104Z",
     "start_time": "2024-12-16T14:36:36.934471Z"
    }
   },
   "outputs": [
    {
     "name": "stdout",
     "output_type": "stream",
     "text": [
      "<class 'pandas.core.frame.DataFrame'>\n",
      "RangeIndex: 3606803 entries, 0 to 3606802\n",
      "Data columns (total 15 columns):\n",
      " #   Column                  Dtype  \n",
      "---  ------                  -----  \n",
      " 0   Origin_airport          object \n",
      " 1   Destination_airport     object \n",
      " 2   Origin_city             object \n",
      " 3   Destination_city        object \n",
      " 4   Passengers              int64  \n",
      " 5   Seats                   int64  \n",
      " 6   Flights                 int64  \n",
      " 7   Distance                int64  \n",
      " 8   Fly_date                object \n",
      " 9   Origin_population       int64  \n",
      " 10  Destination_population  int64  \n",
      " 11  Org_airport_lat         float64\n",
      " 12  Org_airport_long        float64\n",
      " 13  Dest_airport_lat        float64\n",
      " 14  Dest_airport_long       float64\n",
      "dtypes: float64(4), int64(6), object(5)\n",
      "memory usage: 412.8+ MB\n"
     ]
    }
   ],
   "source": [
    "df.info()"
   ]
  },
  {
   "cell_type": "code",
   "execution_count": 8,
   "id": "e22e2228cfb4dfd2",
   "metadata": {
    "ExecuteTime": {
     "end_time": "2024-12-16T14:36:39.275866Z",
     "start_time": "2024-12-16T14:36:38.909783Z"
    }
   },
   "outputs": [
    {
     "data": {
      "text/plain": [
       "Origin_airport               0\n",
       "Destination_airport          0\n",
       "Origin_city                  0\n",
       "Destination_city             0\n",
       "Passengers                   0\n",
       "Seats                        0\n",
       "Flights                      0\n",
       "Distance                     0\n",
       "Fly_date                     0\n",
       "Origin_population            0\n",
       "Destination_population       0\n",
       "Org_airport_lat           6954\n",
       "Org_airport_long          6954\n",
       "Dest_airport_lat          6807\n",
       "Dest_airport_long         6807\n",
       "dtype: int64"
      ]
     },
     "execution_count": 8,
     "metadata": {},
     "output_type": "execute_result"
    }
   ],
   "source": [
    "df.isnull().sum()"
   ]
  },
  {
   "cell_type": "code",
   "execution_count": 2,
   "id": "e0f34102c4b9e405",
   "metadata": {
    "ExecuteTime": {
     "end_time": "2024-12-17T15:02:52.217195Z",
     "start_time": "2024-12-17T15:02:52.066100Z"
    }
   },
   "outputs": [],
   "source": [
    "def create_geolocator(timeout=10):\n",
    "    return Nominatim(user_agent=\"airport_locator\", timeout=timeout)\n",
    "\n",
    "def get_lat_lon(geolocator, city, state, country, airport_code, max_retries=3):\n",
    "    \"\"\"\n",
    "    Try to collect latitude and longitude information with different ways communicating with geolocator.\n",
    "    Inputs:\n",
    "    - geolocator: Nominatim geolocator\n",
    "    - city: city name\n",
    "    - state: state name\n",
    "    - country: country name\n",
    "    - airport_code: airport code\n",
    "    - max_retries: maximum number of retries\n",
    "    Outputs:\n",
    "    - lat: latitude and lon: longitude if it's been collected successfully\n",
    "    \"\"\"\n",
    "    \n",
    "    # Try with different queries, one with the city of the airport another one with the airport code\n",
    "    queries = [\n",
    "        f\"{city} Airport, {state}, {country}\",\n",
    "        f\"{airport_code} Airport, {state}, {country}\"\n",
    "    ]\n",
    "\n",
    "    for query in queries:\n",
    "        for attempt in range(max_retries):\n",
    "            try:\n",
    "                location = geolocator.geocode(query)\n",
    "                if location:\n",
    "                    return location.latitude, location.longitude\n",
    "            except (GeocoderTimedOut, GeocoderUnavailable):\n",
    "                if attempt < max_retries - 1:\n",
    "                    # Wait two seconds before retry\n",
    "                    time.sleep(2)\n",
    "                else:\n",
    "                    continue\n",
    "    return None, None\n",
    "\n",
    "\n",
    "def update_missing_lat_lon(df):\n",
    "    \"\"\"\"\n",
    "    Function to update the NaN latitude and longitude\n",
    "    Inputs:\n",
    "        df: Original dataframe with missing values\n",
    "    Outputs:  \n",
    "        df: Updated dataframe without missing values\n",
    "    \"\"\"\n",
    "    geolocator = create_geolocator()\n",
    "\n",
    "    # Filter only the rows with NaN values for latitude\n",
    "    # not considering also the NaN in longitude because the moves together\n",
    "    df_nan_org = df[df['Org_airport_lat'].isna()]\n",
    "\n",
    "    # Find unique combinations of origin city and origin airport to avoid to recall the OpenStreetMap API multiple times for the same request\n",
    "    unique_origins = df_nan_org[['Origin_city', 'Origin_airport']].drop_duplicates()\n",
    "\n",
    "    for _, row in unique_origins.iterrows():\n",
    "        city = row[\"Origin_city\"].split(\",\")[0].strip()\n",
    "        state = row[\"Origin_city\"].split(\",\")[-1].strip()\n",
    "        country = \"USA\"\n",
    "        airport_code = row[\"Origin_airport\"]\n",
    "\n",
    "        # Collect latitude and longitude\n",
    "        lat, lon = get_lat_lon(geolocator, city, state, country, airport_code)\n",
    "\n",
    "        # Update the original DataFrame respectively to the considered airport\n",
    "        df.loc[(df['Origin_city'] == row['Origin_city']) & \n",
    "               (df['Origin_airport'] == row['Origin_airport']), \n",
    "               ['Org_airport_lat', 'Org_airport_long']] = lat, lon\n",
    "\n",
    "    # Repeat the process for Destination\n",
    "    df_nan_dest = df[df['Dest_airport_lat'].isna()]\n",
    "\n",
    "    unique_destinations = df_nan_dest[['Destination_city', 'Destination_airport']].drop_duplicates()\n",
    "\n",
    "    for _, row in unique_destinations.iterrows():\n",
    "        city = row[\"Destination_city\"].split(\",\")[0].strip()\n",
    "        state = row[\"Destination_city\"].split(\",\")[-1].strip()\n",
    "        country = \"USA\"\n",
    "        airport_code = row[\"Destination_airport\"]\n",
    "\n",
    "        lat, lon = get_lat_lon(geolocator, city, state, country, airport_code)\n",
    "        \n",
    "        df.loc[(df['Destination_city'] == row['Destination_city']) & \n",
    "               (df['Destination_airport'] == row['Destination_airport']), \n",
    "               ['Dest_airport_lat', 'Dest_airport_long']] = lat, lon\n",
    "\n",
    "    return df"
   ]
  },
  {
   "cell_type": "code",
   "execution_count": 10,
   "id": "9cce922c159a58d8",
   "metadata": {
    "ExecuteTime": {
     "end_time": "2024-12-16T16:59:24.962853Z",
     "start_time": "2024-12-16T16:59:24.959837Z"
    }
   },
   "outputs": [
    {
     "data": {
      "text/plain": [
       "(3606803, 15)"
      ]
     },
     "execution_count": 10,
     "metadata": {},
     "output_type": "execute_result"
    }
   ],
   "source": [
    "df.shape"
   ]
  },
  {
   "cell_type": "code",
   "execution_count": 94,
   "id": "b0b5d95bd893929f",
   "metadata": {
    "ExecuteTime": {
     "end_time": "2024-12-16T16:59:02.955720Z",
     "start_time": "2024-12-16T16:44:46.621653Z"
    }
   },
   "outputs": [],
   "source": [
    "df = update_missing_lat_lon(df)"
   ]
  },
  {
   "cell_type": "markdown",
   "id": "cf0c6c90c69dc92b",
   "metadata": {},
   "source": [
    "We incredibly reduced the number of NaN values in our DataFrame thanks to this data gathering process."
   ]
  },
  {
   "cell_type": "code",
   "execution_count": 4,
   "id": "93bc7fe6f193a3a1",
   "metadata": {
    "ExecuteTime": {
     "end_time": "2024-12-16T17:04:11.798106Z",
     "start_time": "2024-12-16T17:04:11.457846Z"
    }
   },
   "outputs": [
    {
     "data": {
      "text/plain": [
       "Origin_airport              0\n",
       "Destination_airport         0\n",
       "Origin_city                 0\n",
       "Destination_city            0\n",
       "Passengers                  0\n",
       "Seats                       0\n",
       "Flights                     0\n",
       "Distance                    0\n",
       "Fly_date                    0\n",
       "Origin_population           0\n",
       "Destination_population      0\n",
       "Org_airport_lat           254\n",
       "Org_airport_long          254\n",
       "Dest_airport_lat          246\n",
       "Dest_airport_long         246\n",
       "dtype: int64"
      ]
     },
     "execution_count": 4,
     "metadata": {},
     "output_type": "execute_result"
    }
   ],
   "source": [
    "df.isnull().sum()"
   ]
  },
  {
   "cell_type": "markdown",
   "id": "e671f537d3d4764b",
   "metadata": {},
   "source": [
    "We can still consider this NaN values and avoid their representation on the map, since we just have those positional missing information, while we still have all the information about the route, like passegengers, distance, seats, ecc...\n",
    "\n",
    "Also considering that this NaN are respective to only 19 airports so we will not be able to represent on the map these airports but we still need to consider them to our analysis."
   ]
  },
  {
   "cell_type": "code",
   "execution_count": 9,
   "id": "82351681bc75cd64",
   "metadata": {
    "ExecuteTime": {
     "end_time": "2024-12-18T21:07:35.371594Z",
     "start_time": "2024-12-18T21:07:35.363307Z"
    }
   },
   "outputs": [
    {
     "name": "stdout",
     "output_type": "stream",
     "text": [
      "{'HLM', 'XWL', 'KY1', 'UCA', 'OH3', 'VWT', 'UXJ', 'ZXX', 'MI2', 'IN1', 'CPS', 'OH1', 'TN3', 'WQM', 'STF', 'XXW', 'JZU', 'WV1', 'BGS'}\n",
      "Number of airports with missing coordinates: 19\n"
     ]
    }
   ],
   "source": [
    "last_origin_missing = df[df['Org_airport_lat'].isna()]\n",
    "last_destination_missing = df[df['Dest_airport_lat'].isna()]\n",
    " \n",
    "unique_origin = last_origin_missing['Origin_airport'].unique()\n",
    "unique_destination = last_destination_missing['Destination_airport'].unique()\n",
    " \n",
    "unique_airports = set.union(set(unique_origin), set(unique_destination))\n",
    " \n",
    "print(unique_airports)\n",
    "print(f'Number of airports with missing coordinates: {len(unique_airports)}')"
   ]
  },
  {
   "cell_type": "code",
   "execution_count": 4,
   "id": "ce02b66c6b9f6b2c",
   "metadata": {
    "ExecuteTime": {
     "end_time": "2024-12-16T17:03:29.099086Z",
     "start_time": "2024-12-16T17:03:16.621251Z"
    }
   },
   "outputs": [
    {
     "ename": "NameError",
     "evalue": "name 'df' is not defined",
     "output_type": "error",
     "traceback": [
      "\u001b[1;31m---------------------------------------------------------------------------\u001b[0m",
      "\u001b[1;31mNameError\u001b[0m                                 Traceback (most recent call last)",
      "Cell \u001b[1;32mIn[4], line 1\u001b[0m\n\u001b[1;32m----> 1\u001b[0m df\u001b[38;5;241m.\u001b[39mto_csv(\u001b[38;5;124m'\u001b[39m\u001b[38;5;124mfinal_df.csv\u001b[39m\u001b[38;5;124m'\u001b[39m, index\u001b[38;5;241m=\u001b[39m\u001b[38;5;28;01mFalse\u001b[39;00m)\n",
      "\u001b[1;31mNameError\u001b[0m: name 'df' is not defined"
     ]
    }
   ],
   "source": [
    "df.to_csv('final_df.csv', index=False)"
   ]
  },
  {
   "cell_type": "markdown",
   "id": "5075202ded27d98d",
   "metadata": {},
   "source": [
    "## 1. Flight Network Analysis (Q1)"
   ]
  },
  {
   "cell_type": "code",
   "execution_count": 2,
   "id": "fd1b248c2dc9054",
   "metadata": {
    "ExecuteTime": {
     "end_time": "2024-12-18T20:56:41.750751Z",
     "start_time": "2024-12-18T20:56:38.204895Z"
    }
   },
   "outputs": [],
   "source": [
    "df = pd.read_csv('final_df.csv')"
   ]
  },
  {
   "cell_type": "markdown",
   "id": "85c7fe1a1b961029",
   "metadata": {},
   "source": [
    "First of all we need to create our graph. We decided to create an oriented graph because most of the routes has its own reverse, overall there are more routes with the reverse path than not."
   ]
  },
  {
   "cell_type": "code",
   "execution_count": 4,
   "id": "72b831c9bc33ffb7",
   "metadata": {
    "ExecuteTime": {
     "end_time": "2024-12-18T20:58:04.072075Z",
     "start_time": "2024-12-18T20:56:41.751760Z"
    }
   },
   "outputs": [],
   "source": [
    "# Initialize an oriented graph\n",
    "graph = nx.DiGraph()\n",
    "\n",
    "# Add edges to the graph aggregating the routes with same origin and destination\n",
    "for index, row in df.iterrows():\n",
    "    origin = row['Origin_airport']\n",
    "    destination = row['Destination_airport']\n",
    "    passengers = row['Passengers']\n",
    "    distance = row['Distance']\n",
    "    origin_city = row['Origin_city']\n",
    "    destination_city = row['Destination_city']\n",
    "    origin_population = row['Origin_population']\n",
    "    destination_population = row['Destination_population']\n",
    "    origin_lat = row['Org_airport_lat']\n",
    "    origin_long = row['Org_airport_long']\n",
    "    dest_lat = row['Dest_airport_lat']\n",
    "    dest_long = row['Dest_airport_long']\n",
    "    \n",
    "    # Add attributes to the nodes, in this way we can use the graph to compute summaries instead of the DataFrame\n",
    "    if not graph.has_node(origin):\n",
    "        graph.add_node(origin, \n",
    "                       city=origin_city, \n",
    "                       population=origin_population, \n",
    "                       latitude=origin_lat, \n",
    "                       longitude=origin_long)\n",
    "    \n",
    "    if not graph.has_node(destination):\n",
    "        graph.add_node(destination, \n",
    "                       city=destination_city, \n",
    "                       population=destination_population, \n",
    "                       latitude=dest_lat, \n",
    "                       longitude=dest_long)\n",
    "    \n",
    "    # If the edge has been collected yet, add the passengers to it\n",
    "    # in this way we are storing the total number of passengers for each route\n",
    "    if graph.has_edge(origin, destination):\n",
    "        graph[origin][destination]['passengers'] += passengers\n",
    "    else:\n",
    "        # Otherwise, add the new edge considering as a weight the distance between the nodes\n",
    "        graph.add_edge(origin, destination, weight=distance, passengers=passengers)"
   ]
  },
  {
   "cell_type": "markdown",
   "id": "8f8c0f32",
   "metadata": {},
   "source": [
    "# 2. Nodes' Contribution  (Q2)"
   ]
  },
  {
   "cell_type": "markdown",
   "id": "baa1e07e",
   "metadata": {},
   "source": [
    "**In any network, certain nodes (such as airports) play a critical role in maintaining connectivity and flow. Centrality measures are used to identify these important nodes.** \n",
    "\n",
    "In this section, we will implement four centrality measures for a given airport:\n",
    "\n",
    "### **Betweenness Centrality**\n",
    "Betweenness centrality measures how often a node appears on the shortest paths between other nodes.\n",
    "\n",
    "**Formula:**\n",
    "\n",
    "\n",
    "$C_B(v) = \\sum_{s \\neq v \\neq t \\in T } \\frac{\\sigma_{st}(v)}{\\sigma_{st}}$\n",
    "\n",
    "\n",
    "Where:\n",
    "- **$C_B(v)$** is the betweenness centrality of node \\( v \\).\n",
    "- **$sigma_{st}$** is the total number of shortest paths between nodes \\( s \\) and \\( t \\).\n",
    "- **$sigma_{st}(v)$** is the number of shortest paths between nodes \\( s \\) and \\( t \\) that pass through node \\( v \\).\n",
    "\n",
    "---\n",
    "\n",
    "### **Closeness Centrality**\n",
    "Closeness centrality measures how easily a node can access all other nodes in the network, essentially reflecting the average distance from the node to all other nodes.\n",
    "\n",
    "**Formula:**\n",
    "\n",
    "\n",
    "$C_C(v) = \\frac{n-1}{\\sum_{v \\neq u} d(v, u)}$\n",
    "\n",
    "\n",
    "Where:\n",
    "- **$ C_C(v) $** is the closeness centrality of node \\( v \\).\n",
    "- **$ n $** is the total number of nodes (airports) in the network.\n",
    "- **$ d(v, u) $** is the shortest distance between nodes \\( v \\) and \\( u \\).\n",
    "\n",
    "---\n",
    "\n",
    "### **Degree Centrality**\n",
    "Degree centrality measures the number of direct connections a node has to other nodes. In the case of airports, it counts the number of direct flights to other airports.\n",
    "\n",
    "**Formula:**\n",
    "\n",
    "\n",
    "$C_D(v) = \\frac{deg(v)}{n - 1}$\n",
    "\n",
    "\n",
    "Where:\n",
    "- **$ C_D(v) $** is the degree centrality of node \\( v \\).\n",
    "- **$ deg(v) $** is the degree of node \\( v \\), in this case the number of direct connections (flights) it has to other nodes (airports).\n",
    "- **$ n $** is the total number of nodes (airports) in the network.\n",
    "\n",
    "---\n",
    "\n",
    "### **PageRank**\n",
    "PageRank computes the \"importance\" of a node based on the incoming connections it receives and the weights of those connections.\n",
    "\n",
    "**Formula:**\n",
    "\n",
    "\n",
    "$PR(v) = \\frac{1 - p}{n} + p \\sum_{u \\in M(v)} \\frac{PR(u)}{L(u)}$\n",
    "\n",
    "\n",
    "Where:\n",
    "- **$ PR(v) $** is the PageRank of node \\( v \\).\n",
    "- **$ p $** is the damping factor (typically set to 0.85), representing the probability that a random surfer will continue following links instead of jumping to a random node.\n",
    "- **$ n $** is the total number of nodes (airports) in the network.\n",
    "- **$ M(v) $** is the set of nodes that link to node \\( v \\).\n",
    "- **$ PR(u) $** is the PageRank of node \\( u \\), which represents the importance of airport \\( u \\).\n",
    "- **$ L(u) $** is the number of outbound links from node \\( u \\), in this case the number of direct flights from airport \\( u \\).\n"
   ]
  },
  {
   "cell_type": "markdown",
   "id": "1f045bfd",
   "metadata": {},
   "source": [
    "## 2.1 Analyze Centrality\n",
    "\n",
    "For this section, to compute the following centrality measures we have defined a class named **GraphMetrics**. This class take as input a network graph (in this case directed graph) and compute this measures. We can find more details with `help` function of Python below. "
   ]
  },
  {
   "cell_type": "code",
   "execution_count": 4,
   "id": "c2e239b6",
   "metadata": {},
   "outputs": [
    {
     "name": "stdout",
     "output_type": "stream",
     "text": [
      "Help on class GraphMetrics in module Network_Metrics:\n",
      "\n",
      "class GraphMetrics(builtins.object)\n",
      " |  GraphMetrics(graph)\n",
      " |  \n",
      " |  The GraphMetrics class provides various methods to analyze centrality measures in a directed graph using NetworkX. \n",
      " |  It includes functions to compute betweenness centrality, closeness centrality, degree centrality, PageRank, and Katz centrality. \n",
      " |  The class uses Dijkstra's algorithm to calculate shortest paths for centrality calculations. \n",
      " |  It also provides a method, analyze_centrality, that returns a DataFrame summarizing these centrality scores for a given node (airport).\n",
      " |  \n",
      " |  Methods defined here:\n",
      " |  \n",
      " |  __init__(self, graph)\n",
      " |      Initialize the network analyzer with a graph representation.\n",
      " |      \n",
      " |      Args:\n",
      " |          graph --> nx.DiGraph(): Directed Graph from Networkx Library\n",
      " |  \n",
      " |  analyze_centrality(self, airport: str)\n",
      " |      Comprehensive centrality analysis for a specific node.\n",
      " |      This function compute the following centrality measures for a given airport:\n",
      " |      - Betweenness Centrality\n",
      " |      - Closeness Centrality\n",
      " |      - Degree Centrality\n",
      " |      - Pagerank Score\n",
      " |      \n",
      " |      Args:\n",
      " |          airport: Node to analyze\n",
      " |      \n",
      " |      Returns:\n",
      " |             DataFrame of centrality measures\n",
      " |  \n",
      " |  betweenness_centrality(self)\n",
      " |      Compute betweenness centrality for each node using a modified Brandes' algorithm.\n",
      " |      \n",
      " |      Args: None\n",
      " |      \n",
      " |      Returns:\n",
      " |             betweenness: dictionary with betweenness centrality scores for each node.\n",
      " |  \n",
      " |  closeness_centrality(self, node: str)\n",
      " |      Compute closeness centrality for a specific node.\n",
      " |      \n",
      " |      Args: \n",
      " |          node: Node to compute centrality \n",
      " |      \n",
      " |      Returns: \n",
      " |             Closeness centrality score\n",
      " |  \n",
      " |  degree_centrality(self, node: str)\n",
      " |      Compute degree centrality (number of direct connections).\n",
      " |      \n",
      " |      Args:\n",
      " |          node: Node to compute centrality \n",
      " |      \n",
      " |      Returns: \n",
      " |             Degree centrality score\n",
      " |  \n",
      " |  katz_centrality(self, alpha=0.005, threshold=0.001, max_iterations=200)\n",
      " |      Calculate Katz centrality for nodes in a graph with convergence check.\n",
      " |      Args:\n",
      " |          alpha: The decay parameter\n",
      " |          epsilon: Convergence threshold\n",
      " |          max_iterations: Maximum number of iterations\n",
      " |      Returns:\n",
      " |             Dictionary of katz centrality scores\n",
      " |  \n",
      " |  pagerank(self, p=0.85, epsilon=0.001, max_iterations=200)\n",
      " |      Compute PageRank for all nodes in the network.\n",
      " |      \n",
      " |      Args:\n",
      " |          p: Probability of following a link\n",
      " |          epsilon: Convergence threshold\n",
      " |          max_iterations: Maximum number of iterations\n",
      " |      \n",
      " |      Returns: \n",
      " |             pagerank_scores: dictionary of PageRank scores\n",
      " |  \n",
      " |  shortest_paths(self, start: str)\n",
      " |      Compute shortest paths from a start node using Dijkstra's algorithm.\n",
      " |      \n",
      " |      Args:\n",
      " |          start: Starting node\n",
      " |      \n",
      " |      Returns:\n",
      " |             A dictionary of shortest distances and paths\n",
      " |  \n",
      " |  ----------------------------------------------------------------------\n",
      " |  Data descriptors defined here:\n",
      " |  \n",
      " |  __dict__\n",
      " |      dictionary for instance variables (if defined)\n",
      " |  \n",
      " |  __weakref__\n",
      " |      list of weak references to the object (if defined)\n",
      "\n"
     ]
    }
   ],
   "source": [
    "from Network_Metrics import GraphMetrics\n",
    "help(GraphMetrics)"
   ]
  },
  {
   "cell_type": "code",
   "execution_count": 5,
   "id": "4d90a905",
   "metadata": {},
   "outputs": [],
   "source": [
    "G=GraphMetrics(graph) # Initialize the Graph Metrics class taking the previously created graph as input"
   ]
  },
  {
   "cell_type": "markdown",
   "id": "72c5b37d",
   "metadata": {},
   "source": [
    "We use the class's `analyze_centrality` function to calculate all the centrality measures for the airport we give as input"
   ]
  },
  {
   "cell_type": "code",
   "execution_count": 6,
   "id": "34ef16a6",
   "metadata": {},
   "outputs": [
    {
     "data": {
      "text/html": [
       "<div>\n",
       "<style scoped>\n",
       "    .dataframe tbody tr th:only-of-type {\n",
       "        vertical-align: middle;\n",
       "    }\n",
       "\n",
       "    .dataframe tbody tr th {\n",
       "        vertical-align: top;\n",
       "    }\n",
       "\n",
       "    .dataframe thead th {\n",
       "        text-align: right;\n",
       "    }\n",
       "</style>\n",
       "<table border=\"1\" class=\"dataframe\">\n",
       "  <thead>\n",
       "    <tr style=\"text-align: right;\">\n",
       "      <th></th>\n",
       "      <th>Airport</th>\n",
       "      <th>Betweenness Centrality</th>\n",
       "      <th>Closeness Centrality</th>\n",
       "      <th>Degree Centrality</th>\n",
       "      <th>PageRank Score</th>\n",
       "    </tr>\n",
       "  </thead>\n",
       "  <tbody>\n",
       "    <tr>\n",
       "      <th>0</th>\n",
       "      <td>CHA</td>\n",
       "      <td>0.000763</td>\n",
       "      <td>0.001221</td>\n",
       "      <td>0.172176</td>\n",
       "      <td>0.003343</td>\n",
       "    </tr>\n",
       "  </tbody>\n",
       "</table>\n",
       "</div>"
      ],
      "text/plain": [
       "  Airport  Betweenness Centrality  Closeness Centrality  Degree Centrality  \\\n",
       "0     CHA                0.000763              0.001221           0.172176   \n",
       "\n",
       "   PageRank Score  \n",
       "0        0.003343  "
      ]
     },
     "execution_count": 6,
     "metadata": {},
     "output_type": "execute_result"
    }
   ],
   "source": [
    "import random\n",
    "airport=random.choice(list(G.nodes)) # Choose a random airoport from list of all nodes (airports) of the graph\n",
    "centrality=G.analyze_centrality(airport) # Store the results of the function in centrality variable\n",
    "centrality # Show the results "
   ]
  },
  {
   "cell_type": "markdown",
   "id": "c18591ff",
   "metadata": {},
   "source": [
    "## 2.2 Compare Centralities\n",
    "\n",
    "1. In this section we compute and compare centrality values for all nodes in the graph with `compare_centralities(graph)` of **Centrality_Graph** module;\n",
    "2. Plot centrality distributions (histograms for each centrality measure);\n",
    "3. Return the top 5 airports for each centrality measure."
   ]
  },
  {
   "cell_type": "code",
   "execution_count": null,
   "id": "e1a1ba9d1e9146cf",
   "metadata": {},
   "outputs": [
    {
     "data": {
      "image/png": "[encoded data removed]",
      "text/plain": [
       "<Figure size 1500x800 with 4 Axes>"
      ]
     },
     "metadata": {},
     "output_type": "display_data"
    },
    {
     "data": {
      "text/html": [
       "<div>\n",
       "<style scoped>\n",
       "    .dataframe tbody tr th:only-of-type {\n",
       "        vertical-align: middle;\n",
       "    }\n",
       "\n",
       "    .dataframe tbody tr th {\n",
       "        vertical-align: top;\n",
       "    }\n",
       "\n",
       "    .dataframe thead th {\n",
       "        text-align: right;\n",
       "    }\n",
       "</style>\n",
       "<table border=\"1\" class=\"dataframe\">\n",
       "  <thead>\n",
       "    <tr style=\"text-align: right;\">\n",
       "      <th></th>\n",
       "      <th>Centrality Measure</th>\n",
       "      <th>Airport</th>\n",
       "      <th>Score</th>\n",
       "    </tr>\n",
       "  </thead>\n",
       "  <tbody>\n",
       "    <tr>\n",
       "      <th>0</th>\n",
       "      <td>Betweenness</td>\n",
       "      <td>YIP</td>\n",
       "      <td>0.119531</td>\n",
       "    </tr>\n",
       "    <tr>\n",
       "      <th>1</th>\n",
       "      <td>Betweenness</td>\n",
       "      <td>DFW</td>\n",
       "      <td>0.053557</td>\n",
       "    </tr>\n",
       "    <tr>\n",
       "      <th>2</th>\n",
       "      <td>Betweenness</td>\n",
       "      <td>ELP</td>\n",
       "      <td>0.029974</td>\n",
       "    </tr>\n",
       "    <tr>\n",
       "      <th>3</th>\n",
       "      <td>Betweenness</td>\n",
       "      <td>MEM</td>\n",
       "      <td>0.015893</td>\n",
       "    </tr>\n",
       "    <tr>\n",
       "      <th>4</th>\n",
       "      <td>Betweenness</td>\n",
       "      <td>ATL</td>\n",
       "      <td>0.012741</td>\n",
       "    </tr>\n",
       "    <tr>\n",
       "      <th>5</th>\n",
       "      <td>Degree</td>\n",
       "      <td>YIP</td>\n",
       "      <td>0.460055</td>\n",
       "    </tr>\n",
       "    <tr>\n",
       "      <th>6</th>\n",
       "      <td>Degree</td>\n",
       "      <td>MSP</td>\n",
       "      <td>0.402204</td>\n",
       "    </tr>\n",
       "    <tr>\n",
       "      <th>7</th>\n",
       "      <td>Degree</td>\n",
       "      <td>MEM</td>\n",
       "      <td>0.395317</td>\n",
       "    </tr>\n",
       "    <tr>\n",
       "      <th>8</th>\n",
       "      <td>Degree</td>\n",
       "      <td>ORD</td>\n",
       "      <td>0.393939</td>\n",
       "    </tr>\n",
       "    <tr>\n",
       "      <th>9</th>\n",
       "      <td>Degree</td>\n",
       "      <td>ATL</td>\n",
       "      <td>0.385675</td>\n",
       "    </tr>\n",
       "    <tr>\n",
       "      <th>10</th>\n",
       "      <td>Closeness</td>\n",
       "      <td>FVS</td>\n",
       "      <td>0.007463</td>\n",
       "    </tr>\n",
       "    <tr>\n",
       "      <th>11</th>\n",
       "      <td>Closeness</td>\n",
       "      <td>MEM</td>\n",
       "      <td>0.001315</td>\n",
       "    </tr>\n",
       "    <tr>\n",
       "      <th>12</th>\n",
       "      <td>Closeness</td>\n",
       "      <td>NQA</td>\n",
       "      <td>0.001289</td>\n",
       "    </tr>\n",
       "    <tr>\n",
       "      <th>13</th>\n",
       "      <td>Closeness</td>\n",
       "      <td>BNA</td>\n",
       "      <td>0.001273</td>\n",
       "    </tr>\n",
       "    <tr>\n",
       "      <th>14</th>\n",
       "      <td>Closeness</td>\n",
       "      <td>PAH</td>\n",
       "      <td>0.001272</td>\n",
       "    </tr>\n",
       "    <tr>\n",
       "      <th>15</th>\n",
       "      <td>PageRank</td>\n",
       "      <td>YIP</td>\n",
       "      <td>0.011911</td>\n",
       "    </tr>\n",
       "    <tr>\n",
       "      <th>16</th>\n",
       "      <td>PageRank</td>\n",
       "      <td>SHV</td>\n",
       "      <td>0.007148</td>\n",
       "    </tr>\n",
       "    <tr>\n",
       "      <th>17</th>\n",
       "      <td>PageRank</td>\n",
       "      <td>MSP</td>\n",
       "      <td>0.007125</td>\n",
       "    </tr>\n",
       "    <tr>\n",
       "      <th>18</th>\n",
       "      <td>PageRank</td>\n",
       "      <td>MCI</td>\n",
       "      <td>0.006606</td>\n",
       "    </tr>\n",
       "    <tr>\n",
       "      <th>19</th>\n",
       "      <td>PageRank</td>\n",
       "      <td>MEM</td>\n",
       "      <td>0.006597</td>\n",
       "    </tr>\n",
       "  </tbody>\n",
       "</table>\n",
       "</div>"
      ],
      "text/plain": [
       "   Centrality Measure Airport     Score\n",
       "0         Betweenness     YIP  0.119531\n",
       "1         Betweenness     DFW  0.053557\n",
       "2         Betweenness     ELP  0.029974\n",
       "3         Betweenness     MEM  0.015893\n",
       "4         Betweenness     ATL  0.012741\n",
       "5              Degree     YIP  0.460055\n",
       "6              Degree     MSP  0.402204\n",
       "7              Degree     MEM  0.395317\n",
       "8              Degree     ORD  0.393939\n",
       "9              Degree     ATL  0.385675\n",
       "10          Closeness     FVS  0.007463\n",
       "11          Closeness     MEM  0.001315\n",
       "12          Closeness     NQA  0.001289\n",
       "13          Closeness     BNA  0.001273\n",
       "14          Closeness     PAH  0.001272\n",
       "15           PageRank     YIP  0.011911\n",
       "16           PageRank     SHV  0.007148\n",
       "17           PageRank     MSP  0.007125\n",
       "18           PageRank     MCI  0.006606\n",
       "19           PageRank     MEM  0.006597"
      ]
     },
     "execution_count": 7,
     "metadata": {},
     "output_type": "execute_result"
    }
   ],
   "source": [
    "from Centrality_Graph import compare_centralities\n",
    "\n",
    "results= compare_centralities(graph) # Save the top 5 scores for each measure in results variable\n",
    "results # Show the results"
   ]
  },
  {
   "cell_type": "markdown",
   "id": "cc70b921",
   "metadata": {},
   "source": [
    "### Consideration about the metrics distribution \n",
    "\n",
    "1. **Betweenness Centrality**: Extremely right-skewed with most values near 0, indicating only a tiny fraction of airports serve as major connection hubs;\n",
    "2. **Degree Centrality**: Right-skewed, showing many airports with few connections (0-0.1) and progressively fewer airports with more connections (extending to 0.4). This reflects a typical hub-and-spoke structure;\n",
    "3. **Closeness Centrality**: The closeness centrality distribution peaks around 0.001, indicating that most airports share a similar level of accessibility, which is relatively low compared to the rest of the network.\n",
    "4. **PageRank**: Similar to the degree distribution but more concentrated at lower values (0-0.001), indicating influence is concentrated in a few major hubs.\n",
    "\n",
    "This pattern confirms a hierarchical network with a few dominant hub airports facilitating most connections.\n"
   ]
  },
  {
   "cell_type": "markdown",
   "id": "5c8dffeb",
   "metadata": {},
   "source": [
    "## <h2> 2.3 New Centrality Measure by <strong> ChatGPT 4 </strong> <img src=https://cdn.iconscout.com/icon/free/png-256/free-chatgpt-logo-icon-download-in-svg-png-gif-file-formats--chat-gpt-ai-tool-artificial-intelligence-productivity-apps-pack-logos-icons-8630392.png width=100 style=\"vertical-align: middle\"> </h2>\n",
    "\n",
    " To improve the results OpenAI’s Large Language Model suggested that I try using the **Katz Centrality Measure** for this task. This takes into account not only the number of direct connections a node has, but also the influence it can exert through indirect connections, taking into account the importance of its neighbors. This is particularly useful when you want to take into account the long-range effect and overall influence of a node in a graph, which in the case of airports can be important to understand not only which airports are directly connected to each other, but also which airports have a significant impact through indirect or less obvious routes. **Katz centrality** can be useful for identifying airports that are critical not only because of the number of direct flights, but also the indirect flights that pass through them. \n",
    "\n",
    " ### How can you check that the results given by the **LLM** are trustable?\n",
    "\n",
    "The Katz centrality formula used here is a  measure for ranking nodes in networks, especially directed ones like airport networks. It considers both direct and indirect connections, weighted by a decay factor, making it effective for sparse or hierarchical structures. The approach aligns with the definition on [here](https://en.wikipedia.org/wiki/Katz_centrality), ensuring theoretical correctness and practical robustness."
   ]
  },
  {
   "cell_type": "markdown",
   "id": "94ae843a",
   "metadata": {},
   "source": [
    "To verify the solution suggested by the LLM we apply the **Katz Centrality** to the Graph of Airport Network using `GraphMetrics` class\n",
    " \n",
    "The Katz centrality we implemented based by LLM suggest is defined as:\n",
    "\n",
    "\n",
    "$C_K(i) = \\alpha \\sum_{j \\in \\mathcal{N}(i)} C_K(j) + \\frac{1 - \\alpha}{N}$\n",
    "\n",
    "Where:\n",
    "- $C_K(i)$: Katz centrality of node i.\n",
    "- $alpha $ Decay factor, controlling the influence of neighbors.\n",
    "- $mathcal{N}(i)$: Set of neighbors of node i (outgoing edges in a directed graph).\n",
    "- $N$: Total number of nodes in the graph.\n",
    "- $ \\frac{1 - \\alpha}{N}$: Normalization term, ensuring a baseline centrality for all nodes.\n",
    "\n",
    "---\n",
    "\n",
    "### Key features of this variant \n",
    "\n",
    "1. **Normalization**:\n",
    "   - Instead of a fixed bias term $\\beta$, it distributes a minimum centrality uniformly across all nodes via $\\frac{1 - \\alpha}{N}$.\n",
    "\n",
    "2. **Iterative Update**:\n",
    "   - The centrality of each node is iteratively updated based on the centrality of its neighbors, scaled by $\\alpha$."
   ]
  },
  {
   "cell_type": "code",
   "execution_count": 22,
   "id": "8d4a8193",
   "metadata": {},
   "outputs": [
    {
     "data": {
      "text/html": [
       "<div>\n",
       "<style scoped>\n",
       "    .dataframe tbody tr th:only-of-type {\n",
       "        vertical-align: middle;\n",
       "    }\n",
       "\n",
       "    .dataframe tbody tr th {\n",
       "        vertical-align: top;\n",
       "    }\n",
       "\n",
       "    .dataframe thead th {\n",
       "        text-align: right;\n",
       "    }\n",
       "</style>\n",
       "<table border=\"1\" class=\"dataframe\">\n",
       "  <thead>\n",
       "    <tr style=\"text-align: right;\">\n",
       "      <th></th>\n",
       "      <th>Katz Value</th>\n",
       "    </tr>\n",
       "  </thead>\n",
       "  <tbody>\n",
       "    <tr>\n",
       "      <th>count</th>\n",
       "      <td>727.000000</td>\n",
       "    </tr>\n",
       "    <tr>\n",
       "      <th>mean</th>\n",
       "      <td>0.023731</td>\n",
       "    </tr>\n",
       "    <tr>\n",
       "      <th>std</th>\n",
       "      <td>0.028522</td>\n",
       "    </tr>\n",
       "    <tr>\n",
       "      <th>min</th>\n",
       "      <td>0.001971</td>\n",
       "    </tr>\n",
       "    <tr>\n",
       "      <th>25%</th>\n",
       "      <td>0.003299</td>\n",
       "    </tr>\n",
       "    <tr>\n",
       "      <th>50%</th>\n",
       "      <td>0.009076</td>\n",
       "    </tr>\n",
       "    <tr>\n",
       "      <th>75%</th>\n",
       "      <td>0.034345</td>\n",
       "    </tr>\n",
       "    <tr>\n",
       "      <th>max</th>\n",
       "      <td>0.105407</td>\n",
       "    </tr>\n",
       "  </tbody>\n",
       "</table>\n",
       "</div>"
      ],
      "text/plain": [
       "       Katz Value\n",
       "count  727.000000\n",
       "mean     0.023731\n",
       "std      0.028522\n",
       "min      0.001971\n",
       "25%      0.003299\n",
       "50%      0.009076\n",
       "75%      0.034345\n",
       "max      0.105407"
      ]
     },
     "execution_count": 22,
     "metadata": {},
     "output_type": "execute_result"
    }
   ],
   "source": [
    "# Compute Katz to Graph and store the results in katz variable\n",
    "katz = G.katz_centrality() \n",
    "# Let's create a DataFrame of Katz values ​​and \n",
    "# use the describe function to show lots of information about the range of values\n",
    "pd.DataFrame({\"Katz Value\":list(katz.values())}).describe()"
   ]
  },
  {
   "cell_type": "markdown",
   "id": "2d51f1a5",
   "metadata": {},
   "source": [
    "## 2.4 Update Compare Centralities\n",
    "Looking at this table with seems to be new information compared to the other centrality measures. Let's now proceed to compare the other metrics that we already computed.\n",
    "\n",
    "In this section we used the `compare centralities v2` function of the **Centrality_Graph** module to compare the five centrality measures and their respective distributions using 5 histograms.\n",
    "\n",
    "Furthermore, the function returns a DataFrame with the top 5 scores for each measure."
   ]
  },
  {
   "cell_type": "code",
   "execution_count": 24,
   "id": "f99ed15b",
   "metadata": {},
   "outputs": [
    {
     "data": {
      "image/png": "[encoded data removed]",
      "text/plain": [
       "<Figure size 1500x800 with 5 Axes>"
      ]
     },
     "metadata": {},
     "output_type": "display_data"
    },
    {
     "data": {
      "text/html": [
       "<div>\n",
       "<style scoped>\n",
       "    .dataframe tbody tr th:only-of-type {\n",
       "        vertical-align: middle;\n",
       "    }\n",
       "\n",
       "    .dataframe tbody tr th {\n",
       "        vertical-align: top;\n",
       "    }\n",
       "\n",
       "    .dataframe thead th {\n",
       "        text-align: right;\n",
       "    }\n",
       "</style>\n",
       "<table border=\"1\" class=\"dataframe\">\n",
       "  <thead>\n",
       "    <tr style=\"text-align: right;\">\n",
       "      <th></th>\n",
       "      <th>Centrality Measure</th>\n",
       "      <th>Airport</th>\n",
       "      <th>Score</th>\n",
       "    </tr>\n",
       "  </thead>\n",
       "  <tbody>\n",
       "    <tr>\n",
       "      <th>0</th>\n",
       "      <td>Betweenness</td>\n",
       "      <td>YIP</td>\n",
       "      <td>0.119531</td>\n",
       "    </tr>\n",
       "    <tr>\n",
       "      <th>1</th>\n",
       "      <td>Betweenness</td>\n",
       "      <td>DFW</td>\n",
       "      <td>0.053557</td>\n",
       "    </tr>\n",
       "    <tr>\n",
       "      <th>2</th>\n",
       "      <td>Betweenness</td>\n",
       "      <td>ELP</td>\n",
       "      <td>0.029974</td>\n",
       "    </tr>\n",
       "    <tr>\n",
       "      <th>3</th>\n",
       "      <td>Betweenness</td>\n",
       "      <td>MEM</td>\n",
       "      <td>0.015893</td>\n",
       "    </tr>\n",
       "    <tr>\n",
       "      <th>4</th>\n",
       "      <td>Betweenness</td>\n",
       "      <td>ATL</td>\n",
       "      <td>0.012741</td>\n",
       "    </tr>\n",
       "    <tr>\n",
       "      <th>5</th>\n",
       "      <td>Degree</td>\n",
       "      <td>YIP</td>\n",
       "      <td>0.460055</td>\n",
       "    </tr>\n",
       "    <tr>\n",
       "      <th>6</th>\n",
       "      <td>Degree</td>\n",
       "      <td>MSP</td>\n",
       "      <td>0.402204</td>\n",
       "    </tr>\n",
       "    <tr>\n",
       "      <th>7</th>\n",
       "      <td>Degree</td>\n",
       "      <td>MEM</td>\n",
       "      <td>0.395317</td>\n",
       "    </tr>\n",
       "    <tr>\n",
       "      <th>8</th>\n",
       "      <td>Degree</td>\n",
       "      <td>ORD</td>\n",
       "      <td>0.393939</td>\n",
       "    </tr>\n",
       "    <tr>\n",
       "      <th>9</th>\n",
       "      <td>Degree</td>\n",
       "      <td>ATL</td>\n",
       "      <td>0.385675</td>\n",
       "    </tr>\n",
       "    <tr>\n",
       "      <th>10</th>\n",
       "      <td>Closeness</td>\n",
       "      <td>FVS</td>\n",
       "      <td>0.007463</td>\n",
       "    </tr>\n",
       "    <tr>\n",
       "      <th>11</th>\n",
       "      <td>Closeness</td>\n",
       "      <td>MEM</td>\n",
       "      <td>0.001315</td>\n",
       "    </tr>\n",
       "    <tr>\n",
       "      <th>12</th>\n",
       "      <td>Closeness</td>\n",
       "      <td>NQA</td>\n",
       "      <td>0.001289</td>\n",
       "    </tr>\n",
       "    <tr>\n",
       "      <th>13</th>\n",
       "      <td>Closeness</td>\n",
       "      <td>BNA</td>\n",
       "      <td>0.001273</td>\n",
       "    </tr>\n",
       "    <tr>\n",
       "      <th>14</th>\n",
       "      <td>Closeness</td>\n",
       "      <td>PAH</td>\n",
       "      <td>0.001272</td>\n",
       "    </tr>\n",
       "    <tr>\n",
       "      <th>15</th>\n",
       "      <td>PageRank</td>\n",
       "      <td>YIP</td>\n",
       "      <td>0.011911</td>\n",
       "    </tr>\n",
       "    <tr>\n",
       "      <th>16</th>\n",
       "      <td>PageRank</td>\n",
       "      <td>SHV</td>\n",
       "      <td>0.007148</td>\n",
       "    </tr>\n",
       "    <tr>\n",
       "      <th>17</th>\n",
       "      <td>PageRank</td>\n",
       "      <td>MSP</td>\n",
       "      <td>0.007125</td>\n",
       "    </tr>\n",
       "    <tr>\n",
       "      <th>18</th>\n",
       "      <td>PageRank</td>\n",
       "      <td>MCI</td>\n",
       "      <td>0.006606</td>\n",
       "    </tr>\n",
       "    <tr>\n",
       "      <th>19</th>\n",
       "      <td>PageRank</td>\n",
       "      <td>MEM</td>\n",
       "      <td>0.006597</td>\n",
       "    </tr>\n",
       "    <tr>\n",
       "      <th>20</th>\n",
       "      <td>Katz</td>\n",
       "      <td>MSP</td>\n",
       "      <td>0.105407</td>\n",
       "    </tr>\n",
       "    <tr>\n",
       "      <th>21</th>\n",
       "      <td>Katz</td>\n",
       "      <td>ORD</td>\n",
       "      <td>0.104671</td>\n",
       "    </tr>\n",
       "    <tr>\n",
       "      <th>22</th>\n",
       "      <td>Katz</td>\n",
       "      <td>MEM</td>\n",
       "      <td>0.103681</td>\n",
       "    </tr>\n",
       "    <tr>\n",
       "      <th>23</th>\n",
       "      <td>Katz</td>\n",
       "      <td>ATL</td>\n",
       "      <td>0.103663</td>\n",
       "    </tr>\n",
       "    <tr>\n",
       "      <th>24</th>\n",
       "      <td>Katz</td>\n",
       "      <td>YIP</td>\n",
       "      <td>0.102068</td>\n",
       "    </tr>\n",
       "  </tbody>\n",
       "</table>\n",
       "</div>"
      ],
      "text/plain": [
       "   Centrality Measure Airport     Score\n",
       "0         Betweenness     YIP  0.119531\n",
       "1         Betweenness     DFW  0.053557\n",
       "2         Betweenness     ELP  0.029974\n",
       "3         Betweenness     MEM  0.015893\n",
       "4         Betweenness     ATL  0.012741\n",
       "5              Degree     YIP  0.460055\n",
       "6              Degree     MSP  0.402204\n",
       "7              Degree     MEM  0.395317\n",
       "8              Degree     ORD  0.393939\n",
       "9              Degree     ATL  0.385675\n",
       "10          Closeness     FVS  0.007463\n",
       "11          Closeness     MEM  0.001315\n",
       "12          Closeness     NQA  0.001289\n",
       "13          Closeness     BNA  0.001273\n",
       "14          Closeness     PAH  0.001272\n",
       "15           PageRank     YIP  0.011911\n",
       "16           PageRank     SHV  0.007148\n",
       "17           PageRank     MSP  0.007125\n",
       "18           PageRank     MCI  0.006606\n",
       "19           PageRank     MEM  0.006597\n",
       "20               Katz     MSP  0.105407\n",
       "21               Katz     ORD  0.104671\n",
       "22               Katz     MEM  0.103681\n",
       "23               Katz     ATL  0.103663\n",
       "24               Katz     YIP  0.102068"
      ]
     },
     "execution_count": 24,
     "metadata": {},
     "output_type": "execute_result"
    }
   ],
   "source": [
    "from Centrality_Graph import compare_centralities_v2\n",
    "\n",
    "results_v2 = compare_centralities_v2(graph) # Save the top 5 scores for each measure in results_v2 variable\n",
    "results_v2 # Show the results"
   ]
  },
  {
   "cell_type": "markdown",
   "id": "949e452c",
   "metadata": {},
   "source": [
    " **Katz vs Other Centralities**\n",
    "\n",
    "Most of centrality metrics show high skewness, but the Katz centrality show a smoother distribution than the sharp peaks seen in Betweenness and PageRank. Katz better distinguishes node importance than Closeness centrality, by weighting all paths, not just shortest ones. Its broader value range respect to PageRank's  distribution below 0.004 reveals important secondary hubs through indirect connections."
   ]
  },
  {
   "cell_type": "markdown",
   "id": "f28deb96",
   "metadata": {},
   "source": [
    "# 3. Finding Best Routes\n",
    "\n",
    "Whenever you plan to fly to a specific city, your goal is to find the most efficient and fastest flight to reach your destination. In the system we are designing, the best route is defined as the one that minimizes the total distance flown to the greatest extent possible.\n",
    "\n",
    "In this section, we  implement a function that, given an origin and destination city, determines the best possible route between them. To simplify, the focus will be limited to flights operating on a specific day."
   ]
  },
  {
   "cell_type": "code",
   "execution_count": 4,
   "id": "5922f1da",
   "metadata": {},
   "outputs": [],
   "source": [
    "# Removes the state part, leaving only the city name in the \"Origin_city\" and \"Destination_city\" columns\n",
    "df[[\"Origin_city\", \"Destination_city\"]] = df[[\"Origin_city\", \"Destination_city\"]].apply(lambda col: col.str.split(\",\").str[0])"
   ]
  },
  {
   "cell_type": "code",
   "execution_count": 4,
   "id": "1ce91d13",
   "metadata": {},
   "outputs": [
    {
     "name": "stdout",
     "output_type": "stream",
     "text": [
      "['Manhattan' 'Eugene' 'Medford' 'Seattle' 'Portland' 'Klamath Falls'\n",
      " 'San Francisco' 'Los Angeles' 'Wenatchee' 'Yakima' 'Elko' 'Salem'\n",
      " 'Spokane' 'Redding' 'Lewiston' 'Astoria' 'Port Angeles' 'Pendleton'\n",
      " 'San Jose' 'Eureka' 'Pullman' 'Sacramento' 'Fort Lauderdale' 'Phoenix'\n",
      " 'Longview' 'Great Falls' 'Fresno' 'Tucson' 'Moses Lake' 'Billings'\n",
      " 'Dallas' 'Roseburg' 'Salt Lake City' 'Casper' 'Bend' 'Reno' 'Fairbanks'\n",
      " 'Anchorage' 'El Paso' 'Chico' 'Santa Fe' 'Albuquerque' 'Fort Smith'\n",
      " 'Las Vegas' 'Wichita' 'Duluth' 'Crescent City' 'Oklahoma City'\n",
      " 'San Diego' 'Santa Rosa' 'Durango' 'Oakland' 'Houston' 'Dubuque' 'Helena'\n",
      " 'Tulsa' 'Omaha' 'Waco' 'Butte' 'Austin' 'Peoria' 'Wausau' 'Pueblo'\n",
      " 'Topeka' 'Colorado Springs' 'Grand Junction' 'North Platte'\n",
      " 'Wichita Falls' 'Cheyenne' 'Aberdeen' 'Brainerd' 'Amarillo' 'Roswell'\n",
      " 'Bismarck' 'Missoula' 'Gillette' 'Lubbock' 'Liberal' 'Midland' 'Madison'\n",
      " 'Lincoln' 'Waterloo' 'Rockford' 'Green Bay' 'La Crosse' 'Kalispell'\n",
      " 'Milwaukee' 'Bellingham' 'Fort Dodge' 'Des Moines' 'Eau Claire'\n",
      " 'Mason City' 'Rapid City' 'Little Rock' 'Shreveport' 'Kansas City'\n",
      " 'Grand Forks' 'Bakersfield' 'San Antonio' 'Minneapolis' 'Springfield'\n",
      " 'Scottsbluff' 'Sioux Falls' 'Grand Island' 'Cedar Rapids' 'Fayetteville'\n",
      " 'Sioux City' 'Garden City' 'Baton Rouge' 'Idaho Falls' 'Santa Barbara'\n",
      " 'Corpus Christi' 'Decatur' 'Chicago' 'Bozeman' 'Pierre' 'Monroe' 'Yuma'\n",
      " 'Minot' 'Gary' 'Fargo' 'Rochester' 'St. Louis' 'Nashville' 'Evansville'\n",
      " 'Memphis' 'Jackson' 'Modesto' 'Champaign' 'Stockton' 'Indianapolis'\n",
      " 'Bloomington' 'Twin Falls' 'Laredo' 'Akron' 'Montrose' 'Cleveland'\n",
      " 'College Station' 'Detroit' 'Abilene' 'Dayton' 'Cincinnati' 'Columbus'\n",
      " 'South Bend' 'Fort Wayne' 'Kalamazoo' 'Rock Springs' 'Beaumont'\n",
      " 'Pocatello' 'Salina' 'Quincy' 'Lawton' 'Toledo' 'Riverton' 'Brownsville'\n",
      " 'San Angelo' 'San Luis Obispo' 'Sheridan' 'Merced' 'Killeen' 'Cedar City'\n",
      " 'Ponca City' 'Harrison' 'Enid' 'Brownwood' 'Dodge City' 'Pittsburgh'\n",
      " 'Worcester' 'Ithaca' 'Elmira' 'Boston' 'Atlanta' 'Philadelphia'\n",
      " 'Greensboro' 'Flint' 'Buffalo' 'Newark' 'Bangor' 'Charlotte' 'New York'\n",
      " 'Syracuse' 'Richmond' 'Grand Rapids' 'Allentown' 'Providence' 'Lexington'\n",
      " 'Birmingham' 'Atlantic City' 'Orlando' 'Youngstown' 'Harrisburg'\n",
      " 'Binghamton' 'Washington' 'Albany' 'New Orleans' 'Scranton' 'Roanoke'\n",
      " 'Raleigh' 'Greenville' 'Burlington' 'Charleston' 'Chattanooga'\n",
      " 'State College' 'Charlottesville' 'Lansing' 'Hartford' 'Columbia'\n",
      " 'Jamestown' 'Manchester' 'Wilmington' 'Florence' 'Kinston' 'Baltimore'\n",
      " 'Erie' 'Knoxville' 'Huntsville' 'Bowling Green' 'London' 'Winchester'\n",
      " 'Goldsboro' 'Myrtle Beach' 'Saginaw' 'Shelbyville' 'Tallahassee' 'Marion'\n",
      " 'Montgomery' 'Mansfield' 'Pensacola' 'Talladega' 'Traverse City'\n",
      " 'Madisonville' 'Miami' 'Gulfport' 'Tuscaloosa' 'Del Rio' 'Alexandria'\n",
      " 'Terre Haute' 'Rocky Mount' 'Tampa' 'Santa Ana' 'Great Bend' 'Kearney'\n",
      " 'Joplin' 'Fort Leonard Wood' 'Honolulu' 'Kahului' 'Fallon' 'Lafayette'\n",
      " 'Ketchikan' 'Lake Charles' 'Mobile' 'Logan' 'Las Cruces' 'Riverside'\n",
      " 'Tyler' 'Jacksonville' 'West Palm Beach' 'Savannah' 'Flagstaff'\n",
      " 'Stillwater' 'El Dorado' 'Panama City' 'Gainesville' 'Alamogordo'\n",
      " 'Lake Havasu City' 'El Centro' 'Tacoma' 'Trenton' 'Appleton'\n",
      " 'Battle Creek' 'Reading' 'Muskegon' 'Hagerstown' 'Marquette' 'Utica'\n",
      " 'Augusta' 'Asheville' 'Valdosta' 'Dover' 'Clovis' 'Elkhart' 'Bemidji'\n",
      " 'Warrensburg' 'Laramie' 'Oshkosh' 'Morristown' 'Alpena' 'Kirksville'\n",
      " 'Paducah' 'Crossville' 'Sandusky' 'Ardmore' 'Carlsbad' 'Hobbs'\n",
      " 'Farmington' 'Ruidoso' 'Brookings' 'Huron' 'Brunswick' 'Dothan'\n",
      " 'Meridian' 'Lynchburg' 'Macon' 'Key West' 'New Iberia' 'Naples'\n",
      " 'New Bern' 'Athens' 'Blytheville' 'Altus' 'Hickory' 'Clarksburg' 'Tupelo'\n",
      " 'Hattiesburg' 'Ocala' 'Muncie' 'Sumter' 'Johnstown' 'Anderson' 'Ogden'\n",
      " 'Hot Springs' 'Lakeland' 'Staunton' 'Lake City' 'Williston' 'Dickinson'\n",
      " 'Brigham City' 'St. George' 'Mountain Home' 'Norfolk' 'Hilo' 'Carbondale'\n",
      " 'Nogales' 'Anniston' 'Findlay' 'Bridgeport' 'New Haven' 'Rutland'\n",
      " 'Ogdensburg' 'Rockland' 'Watertown' 'St. Cloud' 'Auburn' 'Plattsburgh'\n",
      " 'Iron Mountain' 'Provo' 'Cape Girardeau' 'Parkersburg' 'York' 'Salisbury'\n",
      " 'Punta Gorda' 'Rexburg' 'Silver City' 'Corsicana' 'Williamsport'\n",
      " 'Jonesboro' 'Sterling' 'Eagle Pass' 'Gadsden' 'Victoria' 'Rome'\n",
      " 'St. Joseph' 'Branson' 'Mount Vernon' 'Holland' 'Bradford' 'Gallup'\n",
      " 'Ukiah' 'Oxnard' 'Visalia' 'Show Low' 'Havre' 'Hays' 'Juneau' 'Kodiak'\n",
      " 'Altoona' 'Grenada' 'Houma' 'Marshall' 'Sturgis' 'Jefferson City'\n",
      " 'Searcy' 'Glasgow' 'Spartanburg' 'Dyersburg' 'Connersville' 'Seymour'\n",
      " 'Borger' 'Lancaster' 'Walla Walla' 'Kokomo' 'Poughkeepsie' 'Napa'\n",
      " 'Escanaba' 'Clinton' 'Big Spring' 'Sweetwater' 'Bedford' 'Zanesville'\n",
      " 'Fergus Falls' 'Greenwood' 'Freeport' 'Danville' 'Lima' 'Beckley'\n",
      " 'Dalton' 'Pittsfield' 'Duncan' 'Uvalde' 'Mount Pleasant' 'Wooster'\n",
      " 'Owensboro' 'Sikeston' 'Wapakoneta' 'Sedalia' 'Frankfort' 'Safford'\n",
      " 'Union City' 'Paris' 'Shelby' 'Elizabethtown' 'Lewisburg' 'Pine Bluff'\n",
      " 'Batesville' 'Tullahoma' 'Sheboygan' 'Mount Sterling' 'Chillicothe'\n",
      " 'Americus' 'Davenport' 'Bellefontaine' 'Yankton' 'Ottumwa' 'Greeneville'\n",
      " 'Peru' 'Laurel' 'Price' 'Nacogdoches' 'Bay City' 'Selma' 'Statesville'\n",
      " 'Vernal' 'Mankato' 'Prescott' 'Russellville' 'Oak Harbor' 'Olympia'\n",
      " 'Galesburg' 'Bremerton' 'Shelton' 'Ellensburg' 'La Grande' 'Hanford'\n",
      " 'Madera' 'Hutchinson' 'Glens Falls' 'Oneonta' 'Hudson' 'Portsmouth'\n",
      " 'Cadillac' 'Morgantown' 'Statesboro' 'Cumberland' 'Storm Lake' 'Ames'\n",
      " 'Lawrence' 'Owatonna' 'Lawrenceburg' 'Bennington' 'Kankakee' 'Fremont'\n",
      " 'Tifton' 'Elizabeth City' 'Starkville' 'Los Alamos' 'Taos'\n",
      " 'Washington Court House' 'Sebastian' 'Mitchell' 'Truckee' 'Hastings'\n",
      " 'Big Rapids' 'Georgetown' 'Wheeling' 'Lock Haven' 'Bishop' 'Laconia']\n"
     ]
    }
   ],
   "source": [
    "# Show all Origin Cities names of the DataFrame\n",
    "print(df[\"Origin_city\"].unique())"
   ]
  },
  {
   "cell_type": "markdown",
   "id": "750c00e5",
   "metadata": {},
   "source": [
    "The `information_collection` function from the **AirlineRouteNetwork** module allows users to gather flight details by specifying the departure city, destination city and the flight date. \n",
    "\n",
    "Key features of the function:\n",
    "1. **Departure City**: The user is prompted to enter the departure city. The function checks if the city exists in the airports dataset;\n",
    "2. **Destination City**: After selecting the departure city, the available destination cities are displayed for the user to choose from;\n",
    "3. **Flight Date**: The function displays available flight dates for the chosen route. If only one date is available, it is automatically selected; otherwise, the user is prompted to enter a date;\n",
    "4. **Validation**: The function ensures that the user input is valid, handling errors like unrecognized cities or invalid dates, and provides feedback if no flights match the selected criteria.\n",
    "\n",
    "This function is designed to provide a user-friendly interface for querying flight information.\n",
    "\n",
    "Further information is provided below using the Python `help` function."
   ]
  },
  {
   "cell_type": "code",
   "execution_count": 3,
   "id": "59be10d0",
   "metadata": {},
   "outputs": [
    {
     "name": "stdout",
     "output_type": "stream",
     "text": [
      "Help on function information_collection in module AirlineRouteNetwork:\n",
      "\n",
      "information_collection(flights: pandas.core.frame.DataFrame)\n",
      "    Filters flight information based on user input for departure city, destination city, and flight date.\n",
      "    \n",
      "    Args:\n",
      "        flights (pd.DataFrame): A DataFrame containing flight information with columns such as \n",
      "                                'Origin_city', 'Destination_city', and 'Fly_date'.\n",
      "    \n",
      "    Returns:\n",
      "           tuple: A tuple containing the selected origin city, destination city, and flight date (str).\n",
      "    \n",
      "    Raises:\n",
      "        TypeError: If the departure city or destination city is not found.\n",
      "        ValueError: If no flights are found for the given date.\n",
      "\n"
     ]
    }
   ],
   "source": [
    "from AirlineRouteNetwork import information_collection\n",
    "help(information_collection)"
   ]
  },
  {
   "cell_type": "markdown",
   "id": "6a28a1b3",
   "metadata": {},
   "source": [
    "### Function Description\n",
    "\n",
    "Detailed description of the `find best routes` function of the **FlightNetwork** class:\n",
    "\n",
    "---\n",
    "\n",
    "### Inputs\n",
    "\n",
    "---\n",
    "\n",
    "This function takes in the following inputs:\n",
    "\n",
    "- **Flights network**: A data structure representing the flight network. It can be a graph where the nodes are airports;\n",
    "- **Origin city name**: The name of the city from which the flight starts;\n",
    "- **Destination city name**: The name of the city to which the flight is headed;\n",
    "- **Considered Date**: The date in `yyyy-mm-dd` format.\n",
    "\n",
    "### Output\n",
    "\n",
    "---\n",
    "\n",
    "The output will be a table with three columns:\n",
    "\n",
    "1. **Origin_city_airport**: The airport in the origin city;\n",
    "2. **Destination_city_airport**: The airport in the destination city;\n",
    "3. **Best_route**: A list of airport names connected by `→` showing the order in which they are to be visited during the optimal route. If no such route exists, the entry should display `No route found`."
   ]
  },
  {
   "cell_type": "code",
   "execution_count": 6,
   "id": "1374227c",
   "metadata": {},
   "outputs": [
    {
     "name": "stdout",
     "output_type": "stream",
     "text": [
      "Help on class FlightNetwork in module AirlineRouteNetwork:\n",
      "\n",
      "class FlightNetwork(builtins.object)\n",
      " |  A class to represent and analyze a flight network, where airports are nodes and flights are directed edges \n",
      " |  with weights corresponding to the distance between airports. The class allows adding flights, computing \n",
      " |  shortest paths using Dijkstra's algorithm, and finding the best routes between airports for a given date.\n",
      " |  \n",
      " |  Methods:\n",
      " |  \n",
      " |  add_flight(origin, destination, distance): Adds a flight between two airports to the network.\n",
      " |  \n",
      " |  shortest_paths(start): Computes the shortest paths from a starting airport to all other airports using Dijkstra's algorithm.\n",
      " |  \n",
      " |  find_best_routes(origin_city, destination_city, date, flights): Finds the best routes between origin and \n",
      " |  destination cities for the given date based on available flights.\n",
      " |  \n",
      " |  Functions: \n",
      " |  \n",
      " |  information_collection(flights):\n",
      " |  \n",
      " |  Allows the user to select a departure city, destination city and flight date from a DataFrame of flights. \n",
      " |  Filters the data based on the user's choices and returns the selected information (Origin city name, Destination city name and considered date).\n",
      " |  \n",
      " |  Methods defined here:\n",
      " |  \n",
      " |  __init__(self)\n",
      " |      Initialize the network analyzer with an empty directed graph and an empty set of nodes.\n",
      " |      \n",
      " |      This constructor initializes:\n",
      " |          A directed graph (DiGraph) to represent the network of airports and flights.\n",
      " |          A set to store all unique nodes (airports) in the network.\n",
      " |  \n",
      " |  add_flight(self, origin, destination, distance)\n",
      " |      Add a flight to the network graph.\n",
      " |      \n",
      " |      Args:\n",
      " |          origin (str): Origin airport.\n",
      " |          destination (str): Destination airport.\n",
      " |          distance (float): Distance of the flight.\n",
      " |  \n",
      " |  find_best_routes(self, origin_city: str, destination_city: str, date, flights: pandas.core.frame.DataFrame)\n",
      " |      Find the best routes between cities for the given date.\n",
      " |      \n",
      " |      Args:\n",
      " |          origin_city (str): Origin city.\n",
      " |          destination_city (str): Destination city.\n",
      " |          date (datetime): Flight date in yyyy-mm-dd format.\n",
      " |          flights (DataFrame): DataFrame of flight dictionaries.\n",
      " |      \n",
      " |      Returns:\n",
      " |          DataFrame: A DataFrame containing the best routes between airports.\n",
      " |  \n",
      " |  shortest_paths(self, start: str)\n",
      " |      Compute shortest paths from a start node using Dijkstra's algorithm.\n",
      " |      \n",
      " |      Args:\n",
      " |          start: Starting node\n",
      " |      \n",
      " |      Returns:\n",
      " |             A dictionary of shortest distances and paths\n",
      " |  \n",
      " |  ----------------------------------------------------------------------\n",
      " |  Data descriptors defined here:\n",
      " |  \n",
      " |  __dict__\n",
      " |      dictionary for instance variables (if defined)\n",
      " |  \n",
      " |  __weakref__\n",
      " |      list of weak references to the object (if defined)\n",
      "\n"
     ]
    }
   ],
   "source": [
    "# Import the class that has find best routes function \n",
    "from AirlineRouteNetwork import FlightNetwork\n",
    "# More details about the class\n",
    "help(FlightNetwork) "
   ]
  },
  {
   "cell_type": "markdown",
   "id": "5a5c255b",
   "metadata": {},
   "source": [
    "### 1. Example : \n",
    "\n",
    "Origin City : Rome --> Destination City : Dallas"
   ]
  },
  {
   "cell_type": "code",
   "execution_count": 5,
   "id": "adf2ecbf",
   "metadata": {},
   "outputs": [
    {
     "name": "stdout",
     "output_type": "stream",
     "text": [
      "origin_city:  Rome\n",
      "List of destination city availables: ['Dallas' 'Detroit']\n",
      "Available dates:  2007-10-01\n",
      "You selected the following information:\n",
      "Departure City: Rome\n",
      "Arrival City: Dallas\n",
      "Selected Date: 2007-10-01\n"
     ]
    }
   ],
   "source": [
    "# Call the information_collection function to collect flight details based on user input\n",
    "# It returns the selected origin city, destination city and date from the user’s choices\n",
    "origin_city,destination_city,date=information_collection(df)"
   ]
  },
  {
   "cell_type": "code",
   "execution_count": 7,
   "id": "b9ea8e96",
   "metadata": {},
   "outputs": [
    {
     "data": {
      "text/html": [
       "<div>\n",
       "<style scoped>\n",
       "    .dataframe tbody tr th:only-of-type {\n",
       "        vertical-align: middle;\n",
       "    }\n",
       "\n",
       "    .dataframe tbody tr th {\n",
       "        vertical-align: top;\n",
       "    }\n",
       "\n",
       "    .dataframe thead th {\n",
       "        text-align: right;\n",
       "    }\n",
       "</style>\n",
       "<table border=\"1\" class=\"dataframe\">\n",
       "  <thead>\n",
       "    <tr style=\"text-align: right;\">\n",
       "      <th></th>\n",
       "      <th>Origin_city_airport</th>\n",
       "      <th>Destination_city_airport</th>\n",
       "      <th>Best_route</th>\n",
       "    </tr>\n",
       "  </thead>\n",
       "  <tbody>\n",
       "    <tr>\n",
       "      <th>0</th>\n",
       "      <td>RMG</td>\n",
       "      <td>DFW</td>\n",
       "      <td>RMG → DAL → DFW</td>\n",
       "    </tr>\n",
       "    <tr>\n",
       "      <th>1</th>\n",
       "      <td>RMG</td>\n",
       "      <td>AFW</td>\n",
       "      <td>RMG → DAL → AUS → AFW</td>\n",
       "    </tr>\n",
       "    <tr>\n",
       "      <th>2</th>\n",
       "      <td>RMG</td>\n",
       "      <td>DAL</td>\n",
       "      <td>RMG → DAL</td>\n",
       "    </tr>\n",
       "    <tr>\n",
       "      <th>3</th>\n",
       "      <td>RMG</td>\n",
       "      <td>ADS</td>\n",
       "      <td>RMG → DAL → LRD → ADS</td>\n",
       "    </tr>\n",
       "  </tbody>\n",
       "</table>\n",
       "</div>"
      ],
      "text/plain": [
       "  Origin_city_airport Destination_city_airport             Best_route\n",
       "0                 RMG                      DFW        RMG → DAL → DFW\n",
       "1                 RMG                      AFW  RMG → DAL → AUS → AFW\n",
       "2                 RMG                      DAL              RMG → DAL\n",
       "3                 RMG                      ADS  RMG → DAL → LRD → ADS"
      ]
     },
     "execution_count": 7,
     "metadata": {},
     "output_type": "execute_result"
    }
   ],
   "source": [
    "# Call the find_best_routes method to get the best flight routes between the origin and destination cities for the selected date\n",
    "results=FlightNetwork().find_best_routes(origin_city,destination_city,date,df)\n",
    "results # Show the table "
   ]
  },
  {
   "cell_type": "markdown",
   "id": "ad0b30be",
   "metadata": {},
   "source": [
    "### 2. Example : \n",
    "Origin City : New York --> Destination City : Las Vegas"
   ]
  },
  {
   "cell_type": "code",
   "execution_count": 8,
   "id": "2d17ea8a",
   "metadata": {},
   "outputs": [
    {
     "name": "stdout",
     "output_type": "stream",
     "text": [
      "origin_city:  New York\n",
      "List of destination city availables: ['Erie' 'Gary' 'Reno' 'Waco' 'Yuma' 'Akron' 'Dover' 'Fargo' 'Flint'\n",
      " 'Macon' 'Miami' 'Ogden' 'Omaha' 'Tampa' 'Tulsa' 'Albany' 'Austin'\n",
      " 'Bangor' 'Boston' 'Casper' 'Clovis' 'Dallas' 'Dayton' 'Duluth' 'Elmira'\n",
      " 'Fresno' 'Helena' 'Ithaca' 'Laredo' 'Lawton' 'Marion' 'Mobile' 'Monroe'\n",
      " 'Newark' 'Peoria' 'Pueblo' 'Sumter' 'Tacoma' 'Toledo' 'Topeka' 'Tucson'\n",
      " 'Yakima' 'Abilene' 'Atlanta' 'Augusta' 'Beckley' 'Buffalo' 'Chicago'\n",
      " 'Detroit' 'El Paso' 'Houston' 'Jackson' 'Kahului' 'Killeen' 'Kinston'\n",
      " 'Lansing' 'Lincoln' 'Lubbock' 'Madison' 'Medford' 'Memphis' 'Oakland'\n",
      " 'Orlando' 'Phoenix' 'Raleigh' 'Reading' 'Roanoke' 'Roswell' 'Saginaw'\n",
      " 'Seattle' 'Shelton' 'Spokane' 'Trenton' 'Wichita' 'Amarillo' 'Appleton'\n",
      " 'Beaumont' 'Billings' 'Bismarck' 'Cheyenne' 'Columbia' 'Columbus'\n",
      " 'Gulfport' 'Hartford' 'Honolulu' 'Key West' 'Lewiston' 'Longview'\n",
      " 'Meridian' 'Montrose' 'New Bern' 'New York' 'Portland' 'Richmond'\n",
      " 'Rockford' 'San Jose' 'Santa Fe' 'Savannah' 'Scranton' 'Staunton'\n",
      " 'Syracuse' 'Waterloo' 'Allentown' 'Anchorage' 'Asheville' 'Baltimore'\n",
      " 'Champaign' 'Charlotte' 'Cleveland' 'Fairbanks' 'Goldsboro' 'Green Bay'\n",
      " 'Jamestown' 'Kalamazoo' 'Knoxville' 'La Crosse' 'Lafayette' 'Las Vegas'\n",
      " 'Lexington' 'Lynchburg' 'Marquette' 'Milwaukee' 'Nashville' 'New Haven'\n",
      " 'Pensacola' 'Pocatello' 'Riverside' 'Rochester' 'Salisbury' 'San Diego'\n",
      " 'Santa Ana' 'St. Louis' 'Worcester' 'Alexandria' 'Big Spring'\n",
      " 'Binghamton' 'Birmingham' 'Bridgeport' 'Burlington' 'Charleston'\n",
      " 'Cincinnati' 'Clarksburg' 'Des Moines' 'Eau Claire' 'Evansville'\n",
      " 'Fort Smith' 'Fort Wayne' 'Greensboro' 'Greenville' 'Hagerstown'\n",
      " 'Harrisburg' 'Huntsville' 'Manchester' 'Montgomery' 'Pittsburgh'\n",
      " 'Providence' 'Rapid City' 'Sacramento' 'Shreveport' 'Sioux City'\n",
      " 'South Bend' 'Washington' 'Wilmington' 'Youngstown' 'Albuquerque'\n",
      " 'Baton Rouge' 'Bloomington' 'Chattanooga' 'Gainesville' 'Glens Falls'\n",
      " 'Grand Forks' 'Great Falls' 'Idaho Falls' 'Kansas City' 'Little Rock'\n",
      " 'Los Angeles' 'Minneapolis' 'New Orleans' 'Panama City' 'San Antonio'\n",
      " 'Scottsbluff' 'Sioux Falls' 'Springfield' 'Tallahassee' 'Terre Haute'\n",
      " 'Warrensburg' 'Cedar Rapids' 'Fayetteville' 'Grand Rapids' 'Indianapolis'\n",
      " 'Jacksonville' 'Lake Charles' 'Myrtle Beach' 'Philadelphia'\n",
      " 'Williamsport' 'Atlantic City' 'Oklahoma City' 'San Francisco'\n",
      " 'Santa Barbara' 'State College' 'Traverse City' 'Wichita Falls'\n",
      " 'Corpus Christi' 'Grand Junction' 'Salt Lake City' 'Charlottesville'\n",
      " 'College Station' 'Fort Lauderdale' 'West Palm Beach' 'Colorado Springs']\n",
      "Available dates:  1990-08-01 1990-10-01 1990-07-01 1990-05-01 1990-09-01 1990-03-01 1990-12-01 1990-11-01 1990-01-01 1990-06-01 1990-04-01 1990-02-01 1991-05-01 1991-09-01 1991-10-01 1991-03-01 1991-04-01 1991-12-01 1991-06-01 1991-11-01 1991-01-01 1991-08-01 1991-07-01 1991-02-01 1992-10-01 1992-07-01 1992-05-01 1992-06-01 1992-04-01 1992-09-01 1992-01-01 1992-08-01 1992-02-01 1992-03-01 1992-11-01 1992-12-01 1993-01-01 1993-12-01 1993-08-01 1993-09-01 1993-03-01 1993-06-01 1993-07-01 1993-11-01 1993-04-01 1993-10-01 1993-02-01 1993-05-01 1994-06-01 1994-02-01 1994-12-01 1994-03-01 1994-01-01 1994-07-01 1994-11-01 1994-10-01 1994-05-01 1994-04-01 1994-08-01 1994-09-01 1995-01-01 1995-11-01 1995-10-01 1995-12-01 1995-03-01 1995-08-01 1995-07-01 1995-02-01 1995-05-01 1995-06-01 1995-09-01 1995-04-01 1996-07-01 1996-03-01 1996-10-01 1996-06-01 1996-02-01 1996-09-01 1996-04-01 1996-08-01 1996-05-01 1996-11-01 1996-12-01 1996-01-01 1997-09-01 1997-12-01 1997-10-01 1997-05-01 1997-08-01 1997-11-01 1997-02-01 1997-01-01 1997-06-01 1997-07-01 1997-03-01 1997-04-01 1998-09-01 1998-06-01 1998-03-01 1998-05-01 1998-07-01 1998-02-01 1998-01-01 1998-12-01 1998-11-01 1998-04-01 1998-08-01 1998-10-01 1999-05-01 1999-01-01 1999-02-01 1999-08-01 1999-06-01 1999-03-01 1999-09-01 1999-10-01 1999-12-01 1999-07-01 1999-04-01 1999-11-01 2000-04-01 2000-07-01 2000-03-01 2000-01-01 2000-12-01 2000-05-01 2000-09-01 2000-10-01 2000-06-01 2000-11-01 2000-08-01 2000-02-01 2001-06-01 2001-08-01 2001-09-01 2001-01-01 2001-12-01 2001-11-01 2001-07-01 2001-02-01 2001-10-01 2001-04-01 2001-03-01 2001-05-01 2002-09-01 2002-02-01 2002-12-01 2002-06-01 2002-05-01 2002-08-01 2002-11-01 2002-04-01 2002-07-01 2002-01-01 2002-10-01 2002-03-01 2003-10-01 2003-08-01 2003-11-01 2003-12-01 2003-07-01 2003-06-01 2003-04-01 2003-03-01 2003-01-01 2003-02-01 2003-05-01 2003-09-01 2004-12-01 2004-05-01 2004-01-01 2004-04-01 2004-03-01 2004-06-01 2004-02-01 2004-10-01 2004-09-01 2004-11-01 2004-08-01 2004-07-01 2005-09-01 2005-06-01 2005-03-01 2005-07-01 2005-05-01 2005-10-01 2005-04-01 2005-01-01 2005-02-01 2005-08-01 2005-12-01 2005-11-01 2006-12-01 2006-06-01 2006-05-01 2006-07-01 2006-08-01 2006-11-01 2006-04-01 2006-09-01 2006-01-01 2006-03-01 2006-10-01 2006-02-01 2007-06-01 2007-11-01 2007-12-01 2007-03-01 2007-05-01 2007-04-01 2007-10-01 2007-02-01 2007-08-01 2007-09-01 2007-01-01 2007-07-01 2008-06-01 2008-10-01 2008-03-01 2008-09-01 2008-11-01 2008-12-01 2008-04-01 2008-01-01 2008-07-01 2008-05-01 2008-08-01 2008-02-01 2009-04-01 2009-11-01 2009-05-01 2009-10-01 2009-08-01 2009-01-01 2009-12-01 2009-07-01 2009-02-01 2009-09-01 2009-03-01 2009-06-01\n",
      "You selected the following information:\n",
      "Departure City: New York\n",
      "Arrival City: Las Vegas\n",
      "Selected Date: 2009-06-01\n"
     ]
    }
   ],
   "source": [
    "origin_city,destination_city,date=information_collection(df)"
   ]
  },
  {
   "cell_type": "code",
   "execution_count": 9,
   "id": "3782df70",
   "metadata": {},
   "outputs": [
    {
     "data": {
      "text/html": [
       "<div>\n",
       "<style scoped>\n",
       "    .dataframe tbody tr th:only-of-type {\n",
       "        vertical-align: middle;\n",
       "    }\n",
       "\n",
       "    .dataframe tbody tr th {\n",
       "        vertical-align: top;\n",
       "    }\n",
       "\n",
       "    .dataframe thead th {\n",
       "        text-align: right;\n",
       "    }\n",
       "</style>\n",
       "<table border=\"1\" class=\"dataframe\">\n",
       "  <thead>\n",
       "    <tr style=\"text-align: right;\">\n",
       "      <th></th>\n",
       "      <th>Origin_city_airport</th>\n",
       "      <th>Destination_city_airport</th>\n",
       "      <th>Best_route</th>\n",
       "    </tr>\n",
       "  </thead>\n",
       "  <tbody>\n",
       "    <tr>\n",
       "      <th>0</th>\n",
       "      <td>LGA</td>\n",
       "      <td>LAS</td>\n",
       "      <td>LGA → CLE → LAS</td>\n",
       "    </tr>\n",
       "    <tr>\n",
       "      <th>1</th>\n",
       "      <td>LGA</td>\n",
       "      <td>LSV</td>\n",
       "      <td>LGA → STL → ABQ → TUS → LSV</td>\n",
       "    </tr>\n",
       "    <tr>\n",
       "      <th>2</th>\n",
       "      <td>JFK</td>\n",
       "      <td>LAS</td>\n",
       "      <td>JFK → LAS</td>\n",
       "    </tr>\n",
       "    <tr>\n",
       "      <th>3</th>\n",
       "      <td>JFK</td>\n",
       "      <td>LSV</td>\n",
       "      <td>JFK → ABQ → TUS → LSV</td>\n",
       "    </tr>\n",
       "    <tr>\n",
       "      <th>4</th>\n",
       "      <td>JRB</td>\n",
       "      <td>LAS</td>\n",
       "      <td>JRB → EWR → LAS</td>\n",
       "    </tr>\n",
       "    <tr>\n",
       "      <th>5</th>\n",
       "      <td>JRB</td>\n",
       "      <td>LSV</td>\n",
       "      <td>JRB → EWR → DAY → STL → ABQ → TUS → LSV</td>\n",
       "    </tr>\n",
       "    <tr>\n",
       "      <th>6</th>\n",
       "      <td>TSS</td>\n",
       "      <td>LAS</td>\n",
       "      <td>TSS → EWR → LAS</td>\n",
       "    </tr>\n",
       "    <tr>\n",
       "      <th>7</th>\n",
       "      <td>TSS</td>\n",
       "      <td>LSV</td>\n",
       "      <td>TSS → EWR → DAY → STL → ABQ → TUS → LSV</td>\n",
       "    </tr>\n",
       "  </tbody>\n",
       "</table>\n",
       "</div>"
      ],
      "text/plain": [
       "  Origin_city_airport Destination_city_airport  \\\n",
       "0                 LGA                      LAS   \n",
       "1                 LGA                      LSV   \n",
       "2                 JFK                      LAS   \n",
       "3                 JFK                      LSV   \n",
       "4                 JRB                      LAS   \n",
       "5                 JRB                      LSV   \n",
       "6                 TSS                      LAS   \n",
       "7                 TSS                      LSV   \n",
       "\n",
       "                                Best_route  \n",
       "0                          LGA → CLE → LAS  \n",
       "1              LGA → STL → ABQ → TUS → LSV  \n",
       "2                                JFK → LAS  \n",
       "3                    JFK → ABQ → TUS → LSV  \n",
       "4                          JRB → EWR → LAS  \n",
       "5  JRB → EWR → DAY → STL → ABQ → TUS → LSV  \n",
       "6                          TSS → EWR → LAS  \n",
       "7  TSS → EWR → DAY → STL → ABQ → TUS → LSV  "
      ]
     },
     "execution_count": 9,
     "metadata": {},
     "output_type": "execute_result"
    }
   ],
   "source": [
    "results=FlightNetwork().find_best_routes(origin_city,destination_city,date,df)\n",
    "results"
   ]
  }
 ],
 "metadata": {
  "kernelspec": {
   "display_name": "base",
   "language": "python",
   "name": "python3"
  },
  "language_info": {
   "codemirror_mode": {
    "name": "ipython",
    "version": 3
   },
   "file_extension": ".py",
   "mimetype": "text/x-python",
   "name": "python",
   "nbconvert_exporter": "python",
   "pygments_lexer": "ipython3",
   "version": "3.11.5"
  }
 },
 "nbformat": 4,
 "nbformat_minor": 5
}
