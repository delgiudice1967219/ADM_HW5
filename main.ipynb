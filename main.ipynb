{
 "cells": [
  {
   "metadata": {},
   "cell_type": "markdown",
   "source": "# ADM-HW4: GROUP #10",
   "id": "7172d7b6bad88c99"
  },
  {
   "metadata": {},
   "cell_type": "markdown",
   "source": [
    "#### Xavier Del Giudice, \n",
    "\n",
    "\n",
    "|      STUDENT       |   ID    |                 E-mail                  |\n",
    "|:------------------:|:-------:|:---------------------------------------:|\n",
    "| Xavier Del Giudice | 1967219 | delgiudice.1967219@studenti.uniroma1.it |\n",
    "|  Flavio Mangione   |  |      |\n",
    "|     Leo Rocci      |  |       |\n",
    "|       |  |      |"
   ],
   "id": "91899141502832b2"
  },
  {
   "metadata": {},
   "cell_type": "markdown",
   "source": "## Import and Install required packages",
   "id": "2ae934bb18f98549"
  },
  {
   "cell_type": "code",
   "id": "initial_id",
   "metadata": {
    "collapsed": true,
    "ExecuteTime": {
     "end_time": "2024-12-10T10:32:39.144557Z",
     "start_time": "2024-12-10T10:31:20.123531Z"
    }
   },
   "source": "%pip install pandas numpy scikit-learn matplotlib pyspark plotly kagglehub",
   "outputs": [
    {
     "name": "stdout",
     "output_type": "stream",
     "text": [
      "Collecting pandas\n",
      "  Obtaining dependency information for pandas from https://files.pythonhosted.org/packages/ed/8c/87ddf1fcb55d11f9f847e3c69bb1c6f8e46e2f40ab1a2d2abadb2401b007/pandas-2.2.3-cp311-cp311-win_amd64.whl.metadata\n",
      "  Using cached pandas-2.2.3-cp311-cp311-win_amd64.whl.metadata (19 kB)\n",
      "Collecting numpy\n",
      "  Obtaining dependency information for numpy from https://files.pythonhosted.org/packages/d0/06/3d1ff6ed377cb0340baf90487a35f15f9dc1db8e0a07de2bf2c54a8e490f/numpy-2.2.0-cp311-cp311-win_amd64.whl.metadata\n",
      "  Downloading numpy-2.2.0-cp311-cp311-win_amd64.whl.metadata (60 kB)\n",
      "     ---------------------------------------- 0.0/60.8 kB ? eta -:--:--\n",
      "     ------------------------- ------------ 41.0/60.8 kB 667.8 kB/s eta 0:00:01\n",
      "     ---------------------------------------- 60.8/60.8 kB 1.1 MB/s eta 0:00:00\n",
      "Collecting scikit-learn\n",
      "  Obtaining dependency information for scikit-learn from https://files.pythonhosted.org/packages/96/a2/cbfb5743de748d574ffdfd557e9cb29ba4f8b8a3e07836c6c176f713de2f/scikit_learn-1.6.0-cp311-cp311-win_amd64.whl.metadata\n",
      "  Downloading scikit_learn-1.6.0-cp311-cp311-win_amd64.whl.metadata (15 kB)\n",
      "Collecting matplotlib\n",
      "  Obtaining dependency information for matplotlib from https://files.pythonhosted.org/packages/33/97/40a1bed11f7817ba553afd2e7662e7364e3bac7ce4040835391eb558c86e/matplotlib-3.9.3-cp311-cp311-win_amd64.whl.metadata\n",
      "  Using cached matplotlib-3.9.3-cp311-cp311-win_amd64.whl.metadata (11 kB)\n",
      "Collecting pyspark\n",
      "  Using cached pyspark-3.5.3-py2.py3-none-any.whl\n",
      "Collecting plotly\n",
      "  Obtaining dependency information for plotly from https://files.pythonhosted.org/packages/e5/ae/580600f441f6fc05218bd6c9d5794f4aef072a7d9093b291f1c50a9db8bc/plotly-5.24.1-py3-none-any.whl.metadata\n",
      "  Using cached plotly-5.24.1-py3-none-any.whl.metadata (7.3 kB)\n",
      "Collecting kagglehub\n",
      "  Obtaining dependency information for kagglehub from https://files.pythonhosted.org/packages/3c/74/10ea2151b11f8591f82d39c70c1dcc43d0160ba41f8ddb644eb1f5eac348/kagglehub-0.3.4-py3-none-any.whl.metadata\n",
      "  Using cached kagglehub-0.3.4-py3-none-any.whl.metadata (22 kB)\n",
      "Requirement already satisfied: python-dateutil>=2.8.2 in c:\\users\\xavie\\documents\\adm_hw5\\adm_hw5\\venv\\lib\\site-packages (from pandas) (2.9.0.post0)\n",
      "Collecting pytz>=2020.1 (from pandas)\n",
      "  Obtaining dependency information for pytz>=2020.1 from https://files.pythonhosted.org/packages/11/c3/005fcca25ce078d2cc29fd559379817424e94885510568bc1bc53d7d5846/pytz-2024.2-py2.py3-none-any.whl.metadata\n",
      "  Using cached pytz-2024.2-py2.py3-none-any.whl.metadata (22 kB)\n",
      "Collecting tzdata>=2022.7 (from pandas)\n",
      "  Obtaining dependency information for tzdata>=2022.7 from https://files.pythonhosted.org/packages/a6/ab/7e5f53c3b9d14972843a647d8d7a853969a58aecc7559cb3267302c94774/tzdata-2024.2-py2.py3-none-any.whl.metadata\n",
      "  Using cached tzdata-2024.2-py2.py3-none-any.whl.metadata (1.4 kB)\n",
      "Collecting scipy>=1.6.0 (from scikit-learn)\n",
      "  Obtaining dependency information for scipy>=1.6.0 from https://files.pythonhosted.org/packages/ea/c2/5ecadc5fcccefaece775feadcd795060adf5c3b29a883bff0e678cfe89af/scipy-1.14.1-cp311-cp311-win_amd64.whl.metadata\n",
      "  Using cached scipy-1.14.1-cp311-cp311-win_amd64.whl.metadata (60 kB)\n",
      "Collecting joblib>=1.2.0 (from scikit-learn)\n",
      "  Obtaining dependency information for joblib>=1.2.0 from https://files.pythonhosted.org/packages/91/29/df4b9b42f2be0b623cbd5e2140cafcaa2bef0759a00b7b70104dcfe2fb51/joblib-1.4.2-py3-none-any.whl.metadata\n",
      "  Using cached joblib-1.4.2-py3-none-any.whl.metadata (5.4 kB)\n",
      "Collecting threadpoolctl>=3.1.0 (from scikit-learn)\n",
      "  Obtaining dependency information for threadpoolctl>=3.1.0 from https://files.pythonhosted.org/packages/4b/2c/ffbf7a134b9ab11a67b0cf0726453cedd9c5043a4fe7a35d1cefa9a1bcfb/threadpoolctl-3.5.0-py3-none-any.whl.metadata\n",
      "  Using cached threadpoolctl-3.5.0-py3-none-any.whl.metadata (13 kB)\n",
      "Collecting contourpy>=1.0.1 (from matplotlib)\n",
      "  Obtaining dependency information for contourpy>=1.0.1 from https://files.pythonhosted.org/packages/a8/7e/cd93cab453720a5d6cb75588cc17dcdc08fc3484b9de98b885924ff61900/contourpy-1.3.1-cp311-cp311-win_amd64.whl.metadata\n",
      "  Using cached contourpy-1.3.1-cp311-cp311-win_amd64.whl.metadata (5.4 kB)\n",
      "Collecting cycler>=0.10 (from matplotlib)\n",
      "  Obtaining dependency information for cycler>=0.10 from https://files.pythonhosted.org/packages/e7/05/c19819d5e3d95294a6f5947fb9b9629efb316b96de511b418c53d245aae6/cycler-0.12.1-py3-none-any.whl.metadata\n",
      "  Using cached cycler-0.12.1-py3-none-any.whl.metadata (3.8 kB)\n",
      "Collecting fonttools>=4.22.0 (from matplotlib)\n",
      "  Obtaining dependency information for fonttools>=4.22.0 from https://files.pythonhosted.org/packages/86/b1/1198970a2b0ebccceae5fc8963e2e9c2a2aae23bd2f5a9be603dc3894f31/fonttools-4.55.2-cp311-cp311-win_amd64.whl.metadata\n",
      "  Using cached fonttools-4.55.2-cp311-cp311-win_amd64.whl.metadata (168 kB)\n",
      "Collecting kiwisolver>=1.3.1 (from matplotlib)\n",
      "  Obtaining dependency information for kiwisolver>=1.3.1 from https://files.pythonhosted.org/packages/a1/65/d43e9a20aabcf2e798ad1aff6c143ae3a42cf506754bcb6a7ed8259c8425/kiwisolver-1.4.7-cp311-cp311-win_amd64.whl.metadata\n",
      "  Using cached kiwisolver-1.4.7-cp311-cp311-win_amd64.whl.metadata (6.4 kB)\n",
      "Requirement already satisfied: packaging>=20.0 in c:\\users\\xavie\\documents\\adm_hw5\\adm_hw5\\venv\\lib\\site-packages (from matplotlib) (24.2)\n",
      "Collecting pillow>=8 (from matplotlib)\n",
      "  Obtaining dependency information for pillow>=8 from https://files.pythonhosted.org/packages/dc/83/1470c220a4ff06cd75fc609068f6605e567ea51df70557555c2ab6516b2c/pillow-11.0.0-cp311-cp311-win_amd64.whl.metadata\n",
      "  Using cached pillow-11.0.0-cp311-cp311-win_amd64.whl.metadata (9.3 kB)\n",
      "Collecting pyparsing>=2.3.1 (from matplotlib)\n",
      "  Obtaining dependency information for pyparsing>=2.3.1 from https://files.pythonhosted.org/packages/be/ec/2eb3cd785efd67806c46c13a17339708ddc346cbb684eade7a6e6f79536a/pyparsing-3.2.0-py3-none-any.whl.metadata\n",
      "  Using cached pyparsing-3.2.0-py3-none-any.whl.metadata (5.0 kB)\n",
      "Collecting py4j==0.10.9.7 (from pyspark)\n",
      "  Obtaining dependency information for py4j==0.10.9.7 from https://files.pythonhosted.org/packages/10/30/a58b32568f1623aaad7db22aa9eafc4c6c194b429ff35bdc55ca2726da47/py4j-0.10.9.7-py2.py3-none-any.whl.metadata\n",
      "  Using cached py4j-0.10.9.7-py2.py3-none-any.whl.metadata (1.5 kB)\n",
      "Collecting tenacity>=6.2.0 (from plotly)\n",
      "  Obtaining dependency information for tenacity>=6.2.0 from https://files.pythonhosted.org/packages/b6/cb/b86984bed139586d01532a587464b5805f12e397594f19f931c4c2fbfa61/tenacity-9.0.0-py3-none-any.whl.metadata\n",
      "  Using cached tenacity-9.0.0-py3-none-any.whl.metadata (1.2 kB)\n",
      "Requirement already satisfied: requests in c:\\users\\xavie\\documents\\adm_hw5\\adm_hw5\\venv\\lib\\site-packages (from kagglehub) (2.32.3)\n",
      "Collecting tqdm (from kagglehub)\n",
      "  Obtaining dependency information for tqdm from https://files.pythonhosted.org/packages/d0/30/dc54f88dd4a2b5dc8a0279bdd7270e735851848b762aeb1c1184ed1f6b14/tqdm-4.67.1-py3-none-any.whl.metadata\n",
      "  Using cached tqdm-4.67.1-py3-none-any.whl.metadata (57 kB)\n",
      "Requirement already satisfied: six>=1.5 in c:\\users\\xavie\\documents\\adm_hw5\\adm_hw5\\venv\\lib\\site-packages (from python-dateutil>=2.8.2->pandas) (1.17.0)\n",
      "Requirement already satisfied: charset-normalizer<4,>=2 in c:\\users\\xavie\\documents\\adm_hw5\\adm_hw5\\venv\\lib\\site-packages (from requests->kagglehub) (3.4.0)\n",
      "Requirement already satisfied: idna<4,>=2.5 in c:\\users\\xavie\\documents\\adm_hw5\\adm_hw5\\venv\\lib\\site-packages (from requests->kagglehub) (3.10)\n",
      "Requirement already satisfied: urllib3<3,>=1.21.1 in c:\\users\\xavie\\documents\\adm_hw5\\adm_hw5\\venv\\lib\\site-packages (from requests->kagglehub) (2.2.3)\n",
      "Requirement already satisfied: certifi>=2017.4.17 in c:\\users\\xavie\\documents\\adm_hw5\\adm_hw5\\venv\\lib\\site-packages (from requests->kagglehub) (2024.8.30)\n",
      "Requirement already satisfied: colorama in c:\\users\\xavie\\documents\\adm_hw5\\adm_hw5\\venv\\lib\\site-packages (from tqdm->kagglehub) (0.4.6)\n",
      "Using cached pandas-2.2.3-cp311-cp311-win_amd64.whl (11.6 MB)\n",
      "Downloading numpy-2.2.0-cp311-cp311-win_amd64.whl (12.9 MB)\n",
      "   ---------------------------------------- 0.0/12.9 MB ? eta -:--:--\n",
      "   - -------------------------------------- 0.5/12.9 MB 9.8 MB/s eta 0:00:02\n",
      "   -------------------- ------------------- 6.7/12.9 MB 71.7 MB/s eta 0:00:01\n",
      "   -------------------- ------------------- 6.8/12.9 MB 48.2 MB/s eta 0:00:01\n",
      "   --------------------- ------------------ 6.8/12.9 MB 36.4 MB/s eta 0:00:01\n",
      "   --------------------- ------------------ 7.1/12.9 MB 32.2 MB/s eta 0:00:01\n",
      "   -------------------------- ------------- 8.4/12.9 MB 29.9 MB/s eta 0:00:01\n",
      "   ------------------------------------ --- 11.7/12.9 MB 36.3 MB/s eta 0:00:01\n",
      "   ---------------------------------------- 12.9/12.9 MB 34.4 MB/s eta 0:00:00\n",
      "Downloading scikit_learn-1.6.0-cp311-cp311-win_amd64.whl (11.1 MB)\n",
      "   ---------------------------------------- 0.0/11.1 MB ? eta -:--:--\n",
      "   ---------------------------------------  11.1/11.1 MB 319.7 MB/s eta 0:00:01\n",
      "   ---------------------------------------- 11.1/11.1 MB 162.2 MB/s eta 0:00:00\n",
      "Using cached matplotlib-3.9.3-cp311-cp311-win_amd64.whl (7.8 MB)\n",
      "Using cached py4j-0.10.9.7-py2.py3-none-any.whl (200 kB)\n",
      "Using cached plotly-5.24.1-py3-none-any.whl (19.1 MB)\n",
      "Using cached kagglehub-0.3.4-py3-none-any.whl (43 kB)\n",
      "Using cached contourpy-1.3.1-cp311-cp311-win_amd64.whl (219 kB)\n",
      "Using cached cycler-0.12.1-py3-none-any.whl (8.3 kB)\n",
      "Using cached fonttools-4.55.2-cp311-cp311-win_amd64.whl (2.2 MB)\n",
      "Using cached joblib-1.4.2-py3-none-any.whl (301 kB)\n",
      "Using cached kiwisolver-1.4.7-cp311-cp311-win_amd64.whl (56 kB)\n",
      "Using cached pillow-11.0.0-cp311-cp311-win_amd64.whl (2.6 MB)\n",
      "Using cached pyparsing-3.2.0-py3-none-any.whl (106 kB)\n",
      "Using cached pytz-2024.2-py2.py3-none-any.whl (508 kB)\n",
      "Using cached scipy-1.14.1-cp311-cp311-win_amd64.whl (44.8 MB)\n",
      "Using cached tenacity-9.0.0-py3-none-any.whl (28 kB)\n",
      "Using cached threadpoolctl-3.5.0-py3-none-any.whl (18 kB)\n",
      "Using cached tzdata-2024.2-py2.py3-none-any.whl (346 kB)\n",
      "Using cached tqdm-4.67.1-py3-none-any.whl (78 kB)\n",
      "Installing collected packages: pytz, py4j, tzdata, tqdm, threadpoolctl, tenacity, pyspark, pyparsing, pillow, numpy, kiwisolver, joblib, fonttools, cycler, scipy, plotly, pandas, kagglehub, contourpy, scikit-learn, matplotlib\n",
      "Successfully installed contourpy-1.3.1 cycler-0.12.1 fonttools-4.55.2 joblib-1.4.2 kagglehub-0.3.4 kiwisolver-1.4.7 matplotlib-3.9.3 numpy-2.2.0 pandas-2.2.3 pillow-11.0.0 plotly-5.24.1 py4j-0.10.9.7 pyparsing-3.2.0 pyspark-3.5.3 pytz-2024.2 scikit-learn-1.6.0 scipy-1.14.1 tenacity-9.0.0 threadpoolctl-3.5.0 tqdm-4.67.1 tzdata-2024.2\n",
      "Note: you may need to restart the kernel to use updated packages.\n"
     ]
    },
    {
     "name": "stderr",
     "output_type": "stream",
     "text": [
      "\n",
      "[notice] A new release of pip is available: 23.2.1 -> 24.3.1\n",
      "[notice] To update, run: python.exe -m pip install --upgrade pip\n"
     ]
    }
   ],
   "execution_count": 1
  },
  {
   "metadata": {
    "ExecuteTime": {
     "end_time": "2024-12-10T10:32:43.382205Z",
     "start_time": "2024-12-10T10:32:39.145564Z"
    }
   },
   "cell_type": "code",
   "source": [
    "import pandas as pd\n",
    "import os\n",
    "from pyspark.sql import SparkSession\n",
    "import matplotlib.pyplot as plt\n",
    "import numpy as np\n",
    "import kagglehub"
   ],
   "id": "d08a7d07f3168c93",
   "outputs": [],
   "execution_count": 2
  },
  {
   "metadata": {},
   "cell_type": "markdown",
   "source": "## Import the dataset",
   "id": "100c1e4ce764666c"
  },
  {
   "metadata": {
    "ExecuteTime": {
     "end_time": "2024-12-10T10:32:47.567711Z",
     "start_time": "2024-12-10T10:32:43.382205Z"
    }
   },
   "cell_type": "code",
   "source": [
    "# Download the dataset directly from kaggle\n",
    "path = kagglehub.dataset_download(\"flashgordon/usa-airport-dataset\")"
   ],
   "id": "ac89c16bfca9b7c6",
   "outputs": [
    {
     "name": "stdout",
     "output_type": "stream",
     "text": [
      "Downloading from https://www.kaggle.com/api/v1/datasets/download/flashgordon/usa-airport-dataset?dataset_version_number=2...\n"
     ]
    },
    {
     "name": "stderr",
     "output_type": "stream",
     "text": [
      "100%|██████████| 40.8M/40.8M [00:02<00:00, 20.5MB/s]"
     ]
    },
    {
     "name": "stdout",
     "output_type": "stream",
     "text": [
      "Extracting files...\n"
     ]
    },
    {
     "name": "stderr",
     "output_type": "stream",
     "text": [
      "\n"
     ]
    }
   ],
   "execution_count": 3
  },
  {
   "metadata": {
    "ExecuteTime": {
     "end_time": "2024-12-10T10:32:50.933504Z",
     "start_time": "2024-12-10T10:32:47.567711Z"
    }
   },
   "cell_type": "code",
   "source": "df = pd.read_csv(os.path.join(path, 'Airports2.csv'))",
   "id": "531251dcec8edb8a",
   "outputs": [],
   "execution_count": 4
  },
  {
   "metadata": {
    "ExecuteTime": {
     "end_time": "2024-12-10T10:46:01.163865Z",
     "start_time": "2024-12-10T10:46:01.154842Z"
    }
   },
   "cell_type": "code",
   "source": "df.shape",
   "id": "701ed8ee44c69c38",
   "outputs": [
    {
     "data": {
      "text/plain": [
       "(3606803, 15)"
      ]
     },
     "execution_count": 5,
     "metadata": {},
     "output_type": "execute_result"
    }
   ],
   "execution_count": 5
  },
  {
   "metadata": {
    "ExecuteTime": {
     "end_time": "2024-12-10T10:46:10.957075Z",
     "start_time": "2024-12-10T10:46:10.944380Z"
    }
   },
   "cell_type": "code",
   "source": "df.head()",
   "id": "c74db46f5f873d1e",
   "outputs": [
    {
     "data": {
      "text/plain": [
       "  Origin_airport Destination_airport    Origin_city Destination_city  \\\n",
       "0            MHK                 AMW  Manhattan, KS         Ames, IA   \n",
       "1            EUG                 RDM     Eugene, OR         Bend, OR   \n",
       "2            EUG                 RDM     Eugene, OR         Bend, OR   \n",
       "3            EUG                 RDM     Eugene, OR         Bend, OR   \n",
       "4            MFR                 RDM    Medford, OR         Bend, OR   \n",
       "\n",
       "   Passengers  Seats  Flights  Distance    Fly_date  Origin_population  \\\n",
       "0          21     30        1       254  2008-10-01             122049   \n",
       "1          41    396       22       103  1990-11-01             284093   \n",
       "2          88    342       19       103  1990-12-01             284093   \n",
       "3          11     72        4       103  1990-10-01             284093   \n",
       "4           0     18        1       156  1990-02-01             147300   \n",
       "\n",
       "   Destination_population  Org_airport_lat  Org_airport_long  \\\n",
       "0                   86219        39.140999        -96.670799   \n",
       "1                   76034        44.124599       -123.211998   \n",
       "2                   76034        44.124599       -123.211998   \n",
       "3                   76034        44.124599       -123.211998   \n",
       "4                   76034        42.374199       -122.873001   \n",
       "\n",
       "   Dest_airport_lat  Dest_airport_long  \n",
       "0               NaN                NaN  \n",
       "1         44.254101        -121.150002  \n",
       "2         44.254101        -121.150002  \n",
       "3         44.254101        -121.150002  \n",
       "4         44.254101        -121.150002  "
      ],
      "text/html": [
       "<div>\n",
       "<style scoped>\n",
       "    .dataframe tbody tr th:only-of-type {\n",
       "        vertical-align: middle;\n",
       "    }\n",
       "\n",
       "    .dataframe tbody tr th {\n",
       "        vertical-align: top;\n",
       "    }\n",
       "\n",
       "    .dataframe thead th {\n",
       "        text-align: right;\n",
       "    }\n",
       "</style>\n",
       "<table border=\"1\" class=\"dataframe\">\n",
       "  <thead>\n",
       "    <tr style=\"text-align: right;\">\n",
       "      <th></th>\n",
       "      <th>Origin_airport</th>\n",
       "      <th>Destination_airport</th>\n",
       "      <th>Origin_city</th>\n",
       "      <th>Destination_city</th>\n",
       "      <th>Passengers</th>\n",
       "      <th>Seats</th>\n",
       "      <th>Flights</th>\n",
       "      <th>Distance</th>\n",
       "      <th>Fly_date</th>\n",
       "      <th>Origin_population</th>\n",
       "      <th>Destination_population</th>\n",
       "      <th>Org_airport_lat</th>\n",
       "      <th>Org_airport_long</th>\n",
       "      <th>Dest_airport_lat</th>\n",
       "      <th>Dest_airport_long</th>\n",
       "    </tr>\n",
       "  </thead>\n",
       "  <tbody>\n",
       "    <tr>\n",
       "      <th>0</th>\n",
       "      <td>MHK</td>\n",
       "      <td>AMW</td>\n",
       "      <td>Manhattan, KS</td>\n",
       "      <td>Ames, IA</td>\n",
       "      <td>21</td>\n",
       "      <td>30</td>\n",
       "      <td>1</td>\n",
       "      <td>254</td>\n",
       "      <td>2008-10-01</td>\n",
       "      <td>122049</td>\n",
       "      <td>86219</td>\n",
       "      <td>39.140999</td>\n",
       "      <td>-96.670799</td>\n",
       "      <td>NaN</td>\n",
       "      <td>NaN</td>\n",
       "    </tr>\n",
       "    <tr>\n",
       "      <th>1</th>\n",
       "      <td>EUG</td>\n",
       "      <td>RDM</td>\n",
       "      <td>Eugene, OR</td>\n",
       "      <td>Bend, OR</td>\n",
       "      <td>41</td>\n",
       "      <td>396</td>\n",
       "      <td>22</td>\n",
       "      <td>103</td>\n",
       "      <td>1990-11-01</td>\n",
       "      <td>284093</td>\n",
       "      <td>76034</td>\n",
       "      <td>44.124599</td>\n",
       "      <td>-123.211998</td>\n",
       "      <td>44.254101</td>\n",
       "      <td>-121.150002</td>\n",
       "    </tr>\n",
       "    <tr>\n",
       "      <th>2</th>\n",
       "      <td>EUG</td>\n",
       "      <td>RDM</td>\n",
       "      <td>Eugene, OR</td>\n",
       "      <td>Bend, OR</td>\n",
       "      <td>88</td>\n",
       "      <td>342</td>\n",
       "      <td>19</td>\n",
       "      <td>103</td>\n",
       "      <td>1990-12-01</td>\n",
       "      <td>284093</td>\n",
       "      <td>76034</td>\n",
       "      <td>44.124599</td>\n",
       "      <td>-123.211998</td>\n",
       "      <td>44.254101</td>\n",
       "      <td>-121.150002</td>\n",
       "    </tr>\n",
       "    <tr>\n",
       "      <th>3</th>\n",
       "      <td>EUG</td>\n",
       "      <td>RDM</td>\n",
       "      <td>Eugene, OR</td>\n",
       "      <td>Bend, OR</td>\n",
       "      <td>11</td>\n",
       "      <td>72</td>\n",
       "      <td>4</td>\n",
       "      <td>103</td>\n",
       "      <td>1990-10-01</td>\n",
       "      <td>284093</td>\n",
       "      <td>76034</td>\n",
       "      <td>44.124599</td>\n",
       "      <td>-123.211998</td>\n",
       "      <td>44.254101</td>\n",
       "      <td>-121.150002</td>\n",
       "    </tr>\n",
       "    <tr>\n",
       "      <th>4</th>\n",
       "      <td>MFR</td>\n",
       "      <td>RDM</td>\n",
       "      <td>Medford, OR</td>\n",
       "      <td>Bend, OR</td>\n",
       "      <td>0</td>\n",
       "      <td>18</td>\n",
       "      <td>1</td>\n",
       "      <td>156</td>\n",
       "      <td>1990-02-01</td>\n",
       "      <td>147300</td>\n",
       "      <td>76034</td>\n",
       "      <td>42.374199</td>\n",
       "      <td>-122.873001</td>\n",
       "      <td>44.254101</td>\n",
       "      <td>-121.150002</td>\n",
       "    </tr>\n",
       "  </tbody>\n",
       "</table>\n",
       "</div>"
      ]
     },
     "execution_count": 6,
     "metadata": {},
     "output_type": "execute_result"
    }
   ],
   "execution_count": 6
  },
  {
   "metadata": {
    "ExecuteTime": {
     "end_time": "2024-12-10T10:47:22.053516Z",
     "start_time": "2024-12-10T10:47:22.042664Z"
    }
   },
   "cell_type": "code",
   "source": "df.info()",
   "id": "5671828d5662e7f3",
   "outputs": [
    {
     "name": "stdout",
     "output_type": "stream",
     "text": [
      "<class 'pandas.core.frame.DataFrame'>\n",
      "RangeIndex: 3606803 entries, 0 to 3606802\n",
      "Data columns (total 15 columns):\n",
      " #   Column                  Dtype  \n",
      "---  ------                  -----  \n",
      " 0   Origin_airport          object \n",
      " 1   Destination_airport     object \n",
      " 2   Origin_city             object \n",
      " 3   Destination_city        object \n",
      " 4   Passengers              int64  \n",
      " 5   Seats                   int64  \n",
      " 6   Flights                 int64  \n",
      " 7   Distance                int64  \n",
      " 8   Fly_date                object \n",
      " 9   Origin_population       int64  \n",
      " 10  Destination_population  int64  \n",
      " 11  Org_airport_lat         float64\n",
      " 12  Org_airport_long        float64\n",
      " 13  Dest_airport_lat        float64\n",
      " 14  Dest_airport_long       float64\n",
      "dtypes: float64(4), int64(6), object(5)\n",
      "memory usage: 412.8+ MB\n"
     ]
    }
   ],
   "execution_count": 8
  },
  {
   "metadata": {
    "ExecuteTime": {
     "end_time": "2024-12-10T10:47:35.543118Z",
     "start_time": "2024-12-10T10:47:35.202588Z"
    }
   },
   "cell_type": "code",
   "source": "df.isnull().sum()",
   "id": "e22e2228cfb4dfd2",
   "outputs": [
    {
     "data": {
      "text/plain": [
       "Origin_airport               0\n",
       "Destination_airport          0\n",
       "Origin_city                  0\n",
       "Destination_city             0\n",
       "Passengers                   0\n",
       "Seats                        0\n",
       "Flights                      0\n",
       "Distance                     0\n",
       "Fly_date                     0\n",
       "Origin_population            0\n",
       "Destination_population       0\n",
       "Org_airport_lat           6954\n",
       "Org_airport_long          6954\n",
       "Dest_airport_lat          6807\n",
       "Dest_airport_long         6807\n",
       "dtype: int64"
      ]
     },
     "execution_count": 9,
     "metadata": {},
     "output_type": "execute_result"
    }
   ],
   "execution_count": 9
  },
  {
   "metadata": {},
   "cell_type": "markdown",
   "source": "## 1. Flight Network Analysis (Q1)",
   "id": "5075202ded27d98d"
  },
  {
   "metadata": {},
   "cell_type": "markdown",
   "source": [
    "### Implement a function `analyze_graph_features(flight_network)` that takes the flight network as input and computes the following:\n",
    "   - Count the number of airports (nodes) and flights (edges) in the graph.\n",
    "   - Compute the density of the graph using the formula:  $Density = \\frac{2 \\cdot E}{N \\cdot (N - 1)}$\n",
    "   - Calculate both in-degree and out-degree for each airport and visualize them using histograms.\n",
    "   - Identify airports with degrees higher than the 90th percentile and list them as \"hubs.\"\n",
    "   - Determine if the graph is sparse or dense based on its density."
   ],
   "id": "c5781289435a7085"
  },
  {
   "metadata": {},
   "cell_type": "code",
   "outputs": [],
   "execution_count": null,
   "source": "from functions import flight_network",
   "id": "6e891e4661382ad1"
  },
  {
   "metadata": {},
   "cell_type": "markdown",
   "source": "",
   "id": "97d201cc7cfca3fd"
  },
  {
   "metadata": {},
   "cell_type": "markdown",
   "source": [
    "### Write a function `summarize_graph_features(flight_network)` that generates a detailed report of the graph's features. A summary report needs to include:\n",
    "   - The number of nodes and edges.\n",
    "   - The graph density.\n",
    "   - Degree distribution plots for in-degree and out-degree.\n",
    "   - A table of identified hubs."
   ],
   "id": "ddb04fa4fb82e00"
  },
  {
   "metadata": {},
   "cell_type": "markdown",
   "source": [
    "### Now let's dive deeper into the analysis of the dataset. Do the following:\n",
    "   - Compute total passenger flow between origin and destination cities.\n",
    "   - Identify and visualize the busiest routes by passenger traffic.\n",
    "   - Calculate the average passengers per flight for each route and highlight under/over-utilized connections.\n",
    "   - Create an interactive map visualizing the geographic spread of the flight network."
   ],
   "id": "4c99f555bb4e827d"
  },
  {
   "metadata": {},
   "cell_type": "markdown",
   "source": [
    "### **Questions to Address:**\n",
    "\n",
    "After completing the analysis, answer the following questions:\n",
    "- Is the graph sparse or dense?\n",
    "- What patterns do you observe in the degree distribution?\n",
    "- Which airports are identified as hubs, and why?\n",
    "- What are the busiest routes in terms of passenger traffic?\n",
    "- Which routes are under/over-utilized?\n"
   ],
   "id": "3e1b660c398feb3f"
  },
  {
   "metadata": {},
   "cell_type": "markdown",
   "source": "## 2. Nodes' Contribution (Q2)",
   "id": "45a00ef32c9acbf3"
  },
  {
   "metadata": {},
   "cell_type": "markdown",
   "source": [
    "### Implement a function `analyze_centrality(flight_network, airport)` that computes the following centrality measures for a given airport:\n",
    "   - _Betweenness centrality_: Measures how often a node appears on the shortest paths between other nodes.\n",
    "   - _Closeness centrality_: Measures how easily a node can access all other nodes in the network.\n",
    "   - _Degree centrality_: Simply counts the number of direct connections to the node.\n",
    "   - _PageRank_: Computes the \"importance\" of a node based on incoming connections and their weights."
   ],
   "id": "6f0700f3ed623752"
  },
  {
   "metadata": {},
   "cell_type": "markdown",
   "source": [
    "### Write a function `compare_centralities(flight_network)` to:\n",
    "   - Compute and compare centrality values for all nodes in the graph.\n",
    "   - Plot centrality distributions (histograms for each centrality measure).\n",
    "   - Return the top 5 airports for each centrality measure."
   ],
   "id": "9aed8f5e110645a"
  },
  {
   "metadata": {},
   "cell_type": "markdown",
   "source": "### Ask LLM (eg. ChatGPT) to suggest alternative centrality measures that might be relevant to this task. How can you check that the results given by the LLM are trustable?",
   "id": "376f30a49bf41785"
  },
  {
   "metadata": {},
   "cell_type": "markdown",
   "source": "### Implement one of these measures suggested by the LLM, compare its results to the centralities you've already computed, and analyze whether it adds any new insights.",
   "id": "67bd24a16b2e1a20"
  },
  {
   "metadata": {},
   "cell_type": "markdown",
   "source": "## 3. Finding Best Routes (Q3)",
   "id": "d37d0f3ebc4c81a5"
  },
  {
   "metadata": {},
   "cell_type": "markdown",
   "source": "### In this task, you need to implement a function that, given an origin and destination city, determines the best possible route between them. To simplify, the focus will be limited to flights operating on a specific day.",
   "id": "43d9455ef91d99c3"
  },
  {
   "metadata": {},
   "cell_type": "markdown",
   "source": "## 4. Airline Network Partitioning (Q4)",
   "id": "566ae83fff0093d3"
  },
  {
   "metadata": {},
   "cell_type": "markdown",
   "source": "### In graph theory, this task is known as a graph disconnection problem. Your goal is to write a function that removes the minimum number of flights between airports to separate the original flight network into two disconnected subgraphs.",
   "id": "ee7b8081dde04138"
  },
  {
   "metadata": {},
   "cell_type": "markdown",
   "source": "## 5. Finding and Extracting Communities (Q5)",
   "id": "40fffbf34e0c1757"
  },
  {
   "metadata": {},
   "cell_type": "markdown",
   "source": "### In this task, you are asked to analyze the graph and identify the communities based on the flight network provided. For the airline, the primary focus is on the cities, so your communities should reflect the connectivity between cities through the flights that link them.",
   "id": "6d7493b1c2b97f70"
  },
  {
   "metadata": {},
   "cell_type": "markdown",
   "source": "### Ask a LLM (ChatGPT, Claude AI, Gemini, Perplexity, etc.) to suggest an alternative algorithm for extracting communities and explain the steps required to implement it. Then, implement this algorithm and compare its results with the current method you've chosen. Discuss the differences in the outcomes and analyze which approach you think is better, providing reasons for your choice.",
   "id": "be4fb72555bb0992"
  },
  {
   "metadata": {},
   "cell_type": "markdown",
   "source": "## Bonus Question - Connected Components on MapReduce ",
   "id": "c92e7671798f336c"
  },
  {
   "metadata": {},
   "cell_type": "markdown",
   "source": "### In this task, you are required to use PySpark and the MapReduce paradigm to identify the connected components in a flight network graph. The focus should be on airports rather than cities. As you know, a connected component refers to a group of airports where every pair of airports within the group is connected either directly or indirectly.",
   "id": "ad7ee0a5a58fff3d"
  },
  {
   "metadata": {},
   "cell_type": "markdown",
   "source": "### Compare the execution time and the results of your implementation with those of the GraphFrames package for identifying connected components. If there is any difference in the results, provide an explanation for why that might occur.",
   "id": "4e4cafcd371ea804"
  },
  {
   "metadata": {},
   "cell_type": "markdown",
   "source": "## Algorithmic Question (AQ)",
   "id": "e0d1be3cc9e7dde8"
  },
  {
   "metadata": {},
   "cell_type": "markdown",
   "source": [
    "Arya needs to travel between cities using a network of flights. Each flight has a fixed cost (in euros), and she wants to find the cheapest possible way to travel from her starting city to her destination city. However, there are some constraints on the journey:\n",
    "\n",
    "1. Arya can make at most `k` stops during her trip (this means up to `k+1` flights).\n",
    "2. If no valid route exists within these constraints, the result should be `-1`.\n",
    "\n",
    "Given a graph of cities connected by flights, your job is to find the minimum cost for Arya to travel between two specified cities (`src` to `dst`) while following the constraints. \n",
    "\n",
    "### Your Task\n",
    "\n",
    "- **a)** Write a pseudocode that describes the algorithm to find the cheapest route with at most `k` stops. \n",
    "  \n",
    "- **b)** Implement the algorithm in Python and simulate the given test cases.\n",
    "\n",
    "- **c)** Analyze the algorithm's efficiency. Provide its time complexity and space complexity, and explain whether it is efficient for large graphs (e.g., `n > 100`).\n",
    "\n",
    "- **d)** Optimize the algorithm to handle larger graphs. Provide an updated pseudocode and analyze the computational complexity of your optimization.\n",
    "\n",
    "- **e)** Ask LLM (e.g., ChatGPT) for an optimized version of your algorithm. Compare its solution to yours in terms of performance, time complexity, and correctness.\n",
    "\n",
    "### Examples\n",
    "\n",
    "#### Example 1\n",
    "\n",
    "**Input:**\n",
    "\n",
    "```py\n",
    "n = 4  \n",
    "flights = [[0, 1, 100], [1, 2, 100], [2, 0, 100], [1, 3, 600], [2, 3, 200]]  \n",
    "src = 0  \n",
    "dst = 3  \n",
    "k = 1  \n",
    "```\n",
    "**Output:**\n",
    "\n",
    "```py\n",
    "700  \n",
    "```\n",
    "\n",
    "**Explanation:**  \n",
    "Arya's optimal path with at most 1 stop is `0 → 1 → 3`, costing 100 + 600 = 700 euros.  \n",
    "The path `0 → 1 → 2 → 3` is cheaper but requires 2 stops, which violates the constraints.\n",
    "\n",
    "\n",
    "#### Example 2\n",
    "\n",
    "**Input:**\n",
    "```py\n",
    "n = 3  \n",
    "flights = [[0, 1, 100], [1, 2, 100], [0, 2, 500]]  \n",
    "src = 0  \n",
    "dst = 2  \n",
    "k = 1  \n",
    "```\n",
    "**Output:**\n",
    "```py\n",
    "200  \n",
    "```\n",
    "**Explanation:**  \n",
    "Arya's optimal path with at most 1 stop is `0 → 1 → 2`, costing 100 + 100 = 200 euros.\n",
    "\n",
    "\n",
    "#### Example 3\n",
    "\n",
    "**Input:**\n",
    "```py\n",
    "n = 3  \n",
    "flights = [[0, 1, 100], [1, 2, 100], [0, 2, 500]]  \n",
    "src = 0  \n",
    "dst = 2  \n",
    "k = 0  \n",
    "```\n",
    "**Output:**\n",
    "```py\n",
    "500  \n",
    "```\n",
    "**Explanation:**  \n",
    "Arya cannot make any stops. The only valid route is `0 → 2`, costing 500 euros.\n",
    "\n",
    "#### Example 4\n",
    "\n",
    "**Input:**\n",
    "```py\n",
    "n = 4  \n",
    "flights = [[0, 1, 100], [0, 2, 200], [1, 3, 300], [2, 3, 300]]  \n",
    "src = 0  \n",
    "dst = 3  \n",
    "k = 2  \n",
    "```\n",
    "**Output:**\n",
    "```py\n",
    "400  \n",
    "```\n",
    "**Explanation:**  \n",
    "Arya can take `0 → 1 → 3` and `0 → 2 → 3`, however first one is cheaper, costing 400 euros.\n",
    "\n",
    "#### Example 5\n",
    "\n",
    "**Input:**\n",
    "```py\n",
    "n = 4  \n",
    "flights = [[0, 1, 100], [0, 2, 200], [1, 3, 300], [2, 3, 200]]  \n",
    "src = 0  \n",
    "dst = 3  \n",
    "k = 2  \n",
    "```\n",
    "**Output:**\n",
    "```py\n",
    "400  \n",
    "```\n",
    "**Explanation:**  \n",
    "Arya can take `0 → 1 → 3` and `0 → 2 → 3` like last example. However we have a tie, so it does not matter the route we take, the cost is still 400."
   ],
   "id": "75c90bc4e100abe5"
  },
  {
   "metadata": {},
   "cell_type": "code",
   "outputs": [],
   "execution_count": null,
   "source": "",
   "id": "e1a1ba9d1e9146cf"
  }
 ],
 "metadata": {
  "kernelspec": {
   "display_name": "Python 3",
   "language": "python",
   "name": "python3"
  },
  "language_info": {
   "codemirror_mode": {
    "name": "ipython",
    "version": 2
   },
   "file_extension": ".py",
   "mimetype": "text/x-python",
   "name": "python",
   "nbconvert_exporter": "python",
   "pygments_lexer": "ipython2",
   "version": "2.7.6"
  }
 },
 "nbformat": 4,
 "nbformat_minor": 5
}
