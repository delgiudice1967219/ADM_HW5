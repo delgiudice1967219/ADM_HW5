{
 "cells": [
  {
   "metadata": {},
   "cell_type": "markdown",
   "source": "# ADM-HW4: GROUP #10",
   "id": "7172d7b6bad88c99"
  },
  {
   "metadata": {},
   "cell_type": "markdown",
   "source": [
    "#### Xavier Del Giudice, \n",
    "\n",
    "\n",
    "|      STUDENT       |   ID    |                 E-mail                  |\n",
    "|:------------------:|:-------:|:---------------------------------------:|\n",
    "| Xavier Del Giudice | 1967219 | delgiudice.1967219@studenti.uniroma1.it |\n",
    "|  Flavio Mangione   |  |      |\n",
    "|     Leo Rocci      |  |       |\n",
    "|       |  |      |"
   ],
   "id": "91899141502832b2"
  },
  {
   "metadata": {},
   "cell_type": "markdown",
   "source": "## Import and Install required packages",
   "id": "2ae934bb18f98549"
  },
  {
   "cell_type": "code",
   "id": "initial_id",
   "metadata": {
    "collapsed": true,
    "ExecuteTime": {
     "end_time": "2024-12-12T15:06:21.480633Z",
     "start_time": "2024-12-12T15:06:18.317198Z"
    }
   },
   "source": "%pip install pandas numpy scikit-learn matplotlib pyspark plotly kagglehub geopy networkx",
   "outputs": [
    {
     "name": "stdout",
     "output_type": "stream",
     "text": [
      "Requirement already satisfied: pandas in c:\\users\\xavie\\documents\\adm_hw5\\adm_hw5\\venv\\lib\\site-packages (2.2.3)\n",
      "Requirement already satisfied: numpy in c:\\users\\xavie\\documents\\adm_hw5\\adm_hw5\\venv\\lib\\site-packages (2.2.0)\n",
      "Requirement already satisfied: scikit-learn in c:\\users\\xavie\\documents\\adm_hw5\\adm_hw5\\venv\\lib\\site-packages (1.6.0)\n",
      "Requirement already satisfied: matplotlib in c:\\users\\xavie\\documents\\adm_hw5\\adm_hw5\\venv\\lib\\site-packages (3.9.3)\n",
      "Requirement already satisfied: pyspark in c:\\users\\xavie\\documents\\adm_hw5\\adm_hw5\\venv\\lib\\site-packages (3.5.3)\n",
      "Requirement already satisfied: plotly in c:\\users\\xavie\\documents\\adm_hw5\\adm_hw5\\venv\\lib\\site-packages (5.24.1)\n",
      "Requirement already satisfied: kagglehub in c:\\users\\xavie\\documents\\adm_hw5\\adm_hw5\\venv\\lib\\site-packages (0.3.4)\n",
      "Collecting geopy\n",
      "  Obtaining dependency information for geopy from https://files.pythonhosted.org/packages/e5/15/cf2a69ade4b194aa524ac75112d5caac37414b20a3a03e6865dfe0bd1539/geopy-2.4.1-py3-none-any.whl.metadata\n",
      "  Using cached geopy-2.4.1-py3-none-any.whl.metadata (6.8 kB)\n",
      "Requirement already satisfied: python-dateutil>=2.8.2 in c:\\users\\xavie\\documents\\adm_hw5\\adm_hw5\\venv\\lib\\site-packages (from pandas) (2.9.0.post0)\n",
      "Requirement already satisfied: pytz>=2020.1 in c:\\users\\xavie\\documents\\adm_hw5\\adm_hw5\\venv\\lib\\site-packages (from pandas) (2024.2)\n",
      "Requirement already satisfied: tzdata>=2022.7 in c:\\users\\xavie\\documents\\adm_hw5\\adm_hw5\\venv\\lib\\site-packages (from pandas) (2024.2)\n",
      "Requirement already satisfied: scipy>=1.6.0 in c:\\users\\xavie\\documents\\adm_hw5\\adm_hw5\\venv\\lib\\site-packages (from scikit-learn) (1.14.1)\n",
      "Requirement already satisfied: joblib>=1.2.0 in c:\\users\\xavie\\documents\\adm_hw5\\adm_hw5\\venv\\lib\\site-packages (from scikit-learn) (1.4.2)\n",
      "Requirement already satisfied: threadpoolctl>=3.1.0 in c:\\users\\xavie\\documents\\adm_hw5\\adm_hw5\\venv\\lib\\site-packages (from scikit-learn) (3.5.0)\n",
      "Requirement already satisfied: contourpy>=1.0.1 in c:\\users\\xavie\\documents\\adm_hw5\\adm_hw5\\venv\\lib\\site-packages (from matplotlib) (1.3.1)\n",
      "Requirement already satisfied: cycler>=0.10 in c:\\users\\xavie\\documents\\adm_hw5\\adm_hw5\\venv\\lib\\site-packages (from matplotlib) (0.12.1)\n",
      "Requirement already satisfied: fonttools>=4.22.0 in c:\\users\\xavie\\documents\\adm_hw5\\adm_hw5\\venv\\lib\\site-packages (from matplotlib) (4.55.2)\n",
      "Requirement already satisfied: kiwisolver>=1.3.1 in c:\\users\\xavie\\documents\\adm_hw5\\adm_hw5\\venv\\lib\\site-packages (from matplotlib) (1.4.7)\n",
      "Requirement already satisfied: packaging>=20.0 in c:\\users\\xavie\\documents\\adm_hw5\\adm_hw5\\venv\\lib\\site-packages (from matplotlib) (24.2)\n",
      "Requirement already satisfied: pillow>=8 in c:\\users\\xavie\\documents\\adm_hw5\\adm_hw5\\venv\\lib\\site-packages (from matplotlib) (11.0.0)\n",
      "Requirement already satisfied: pyparsing>=2.3.1 in c:\\users\\xavie\\documents\\adm_hw5\\adm_hw5\\venv\\lib\\site-packages (from matplotlib) (3.2.0)\n",
      "Requirement already satisfied: py4j==0.10.9.7 in c:\\users\\xavie\\documents\\adm_hw5\\adm_hw5\\venv\\lib\\site-packages (from pyspark) (0.10.9.7)\n",
      "Requirement already satisfied: tenacity>=6.2.0 in c:\\users\\xavie\\documents\\adm_hw5\\adm_hw5\\venv\\lib\\site-packages (from plotly) (9.0.0)\n",
      "Requirement already satisfied: requests in c:\\users\\xavie\\documents\\adm_hw5\\adm_hw5\\venv\\lib\\site-packages (from kagglehub) (2.32.3)\n",
      "Requirement already satisfied: tqdm in c:\\users\\xavie\\documents\\adm_hw5\\adm_hw5\\venv\\lib\\site-packages (from kagglehub) (4.67.1)\n",
      "Collecting geographiclib<3,>=1.52 (from geopy)\n",
      "  Obtaining dependency information for geographiclib<3,>=1.52 from https://files.pythonhosted.org/packages/9f/5a/a26132406f1f40cf51ea349a5f11b0a46cec02a2031ff82e391c2537247a/geographiclib-2.0-py3-none-any.whl.metadata\n",
      "  Using cached geographiclib-2.0-py3-none-any.whl.metadata (1.4 kB)\n",
      "Requirement already satisfied: six>=1.5 in c:\\users\\xavie\\documents\\adm_hw5\\adm_hw5\\venv\\lib\\site-packages (from python-dateutil>=2.8.2->pandas) (1.17.0)\n",
      "Requirement already satisfied: charset-normalizer<4,>=2 in c:\\users\\xavie\\documents\\adm_hw5\\adm_hw5\\venv\\lib\\site-packages (from requests->kagglehub) (3.4.0)\n",
      "Requirement already satisfied: idna<4,>=2.5 in c:\\users\\xavie\\documents\\adm_hw5\\adm_hw5\\venv\\lib\\site-packages (from requests->kagglehub) (3.10)\n",
      "Requirement already satisfied: urllib3<3,>=1.21.1 in c:\\users\\xavie\\documents\\adm_hw5\\adm_hw5\\venv\\lib\\site-packages (from requests->kagglehub) (2.2.3)\n",
      "Requirement already satisfied: certifi>=2017.4.17 in c:\\users\\xavie\\documents\\adm_hw5\\adm_hw5\\venv\\lib\\site-packages (from requests->kagglehub) (2024.8.30)\n",
      "Requirement already satisfied: colorama in c:\\users\\xavie\\documents\\adm_hw5\\adm_hw5\\venv\\lib\\site-packages (from tqdm->kagglehub) (0.4.6)\n",
      "Using cached geopy-2.4.1-py3-none-any.whl (125 kB)\n",
      "Using cached geographiclib-2.0-py3-none-any.whl (40 kB)\n",
      "Installing collected packages: geographiclib, geopy\n",
      "Successfully installed geographiclib-2.0 geopy-2.4.1\n",
      "Note: you may need to restart the kernel to use updated packages.\n"
     ]
    },
    {
     "name": "stderr",
     "output_type": "stream",
     "text": [
      "\n",
      "[notice] A new release of pip is available: 23.2.1 -> 24.3.1\n",
      "[notice] To update, run: python.exe -m pip install --upgrade pip\n"
     ]
    }
   ],
   "execution_count": 1
  },
  {
   "metadata": {
    "ExecuteTime": {
     "end_time": "2024-12-17T15:42:25.941572Z",
     "start_time": "2024-12-17T15:42:24.846928Z"
    }
   },
   "cell_type": "code",
   "source": [
    "import pandas as pd\n",
    "import os\n",
    "from pyspark.sql import SparkSession\n",
    "import matplotlib.pyplot as plt\n",
    "import numpy as np\n",
    "import kagglehub\n",
    "import networkx as nx\n",
    "import dash\n",
    "from dash import dcc, html\n",
    "from dash.dependencies import Input, Output\n",
    "import folium\n",
    "from folium.plugins import MarkerCluster\n",
    "import geopandas as gpd\n",
    "from geopy.geocoders import Nominatim\n",
    "from geopy.exc import GeocoderTimedOut, GeocoderUnavailable\n",
    "import time"
   ],
   "id": "d08a7d07f3168c93",
   "outputs": [],
   "execution_count": 1
  },
  {
   "metadata": {},
   "cell_type": "markdown",
   "source": "## Import the dataset",
   "id": "100c1e4ce764666c"
  },
  {
   "metadata": {
    "ExecuteTime": {
     "end_time": "2024-12-16T14:30:35.177967Z",
     "start_time": "2024-12-16T14:30:34.462079Z"
    }
   },
   "cell_type": "code",
   "source": [
    "# Download the dataset directly from kaggle\n",
    "path = kagglehub.dataset_download(\"flashgordon/usa-airport-dataset\")"
   ],
   "id": "ac89c16bfca9b7c6",
   "outputs": [
    {
     "name": "stdout",
     "output_type": "stream",
     "text": [
      "Warning: Looks like you're using an outdated `kagglehub` version, please consider updating (latest version: 0.3.5)\n"
     ]
    }
   ],
   "execution_count": 2
  },
  {
   "metadata": {
    "ExecuteTime": {
     "end_time": "2024-12-16T14:30:39.954909Z",
     "start_time": "2024-12-16T14:30:35.178973Z"
    }
   },
   "cell_type": "code",
   "source": "df = pd.read_csv(os.path.join(path, 'Airports2.csv'))",
   "id": "531251dcec8edb8a",
   "outputs": [],
   "execution_count": 3
  },
  {
   "metadata": {
    "ExecuteTime": {
     "end_time": "2024-12-16T14:36:32.060672Z",
     "start_time": "2024-12-16T14:36:32.055757Z"
    }
   },
   "cell_type": "code",
   "source": "df.shape",
   "id": "701ed8ee44c69c38",
   "outputs": [
    {
     "data": {
      "text/plain": [
       "(3606803, 15)"
      ]
     },
     "execution_count": 4,
     "metadata": {},
     "output_type": "execute_result"
    }
   ],
   "execution_count": 4
  },
  {
   "metadata": {
    "ExecuteTime": {
     "end_time": "2024-12-16T14:36:34.274341Z",
     "start_time": "2024-12-16T14:36:34.264326Z"
    }
   },
   "cell_type": "code",
   "source": "df.head()",
   "id": "c74db46f5f873d1e",
   "outputs": [
    {
     "data": {
      "text/plain": [
       "  Origin_airport Destination_airport    Origin_city Destination_city  \\\n",
       "0            MHK                 AMW  Manhattan, KS         Ames, IA   \n",
       "1            EUG                 RDM     Eugene, OR         Bend, OR   \n",
       "2            EUG                 RDM     Eugene, OR         Bend, OR   \n",
       "3            EUG                 RDM     Eugene, OR         Bend, OR   \n",
       "4            MFR                 RDM    Medford, OR         Bend, OR   \n",
       "\n",
       "   Passengers  Seats  Flights  Distance    Fly_date  Origin_population  \\\n",
       "0          21     30        1       254  2008-10-01             122049   \n",
       "1          41    396       22       103  1990-11-01             284093   \n",
       "2          88    342       19       103  1990-12-01             284093   \n",
       "3          11     72        4       103  1990-10-01             284093   \n",
       "4           0     18        1       156  1990-02-01             147300   \n",
       "\n",
       "   Destination_population  Org_airport_lat  Org_airport_long  \\\n",
       "0                   86219        39.140999        -96.670799   \n",
       "1                   76034        44.124599       -123.211998   \n",
       "2                   76034        44.124599       -123.211998   \n",
       "3                   76034        44.124599       -123.211998   \n",
       "4                   76034        42.374199       -122.873001   \n",
       "\n",
       "   Dest_airport_lat  Dest_airport_long  \n",
       "0               NaN                NaN  \n",
       "1         44.254101        -121.150002  \n",
       "2         44.254101        -121.150002  \n",
       "3         44.254101        -121.150002  \n",
       "4         44.254101        -121.150002  "
      ],
      "text/html": [
       "<div>\n",
       "<style scoped>\n",
       "    .dataframe tbody tr th:only-of-type {\n",
       "        vertical-align: middle;\n",
       "    }\n",
       "\n",
       "    .dataframe tbody tr th {\n",
       "        vertical-align: top;\n",
       "    }\n",
       "\n",
       "    .dataframe thead th {\n",
       "        text-align: right;\n",
       "    }\n",
       "</style>\n",
       "<table border=\"1\" class=\"dataframe\">\n",
       "  <thead>\n",
       "    <tr style=\"text-align: right;\">\n",
       "      <th></th>\n",
       "      <th>Origin_airport</th>\n",
       "      <th>Destination_airport</th>\n",
       "      <th>Origin_city</th>\n",
       "      <th>Destination_city</th>\n",
       "      <th>Passengers</th>\n",
       "      <th>Seats</th>\n",
       "      <th>Flights</th>\n",
       "      <th>Distance</th>\n",
       "      <th>Fly_date</th>\n",
       "      <th>Origin_population</th>\n",
       "      <th>Destination_population</th>\n",
       "      <th>Org_airport_lat</th>\n",
       "      <th>Org_airport_long</th>\n",
       "      <th>Dest_airport_lat</th>\n",
       "      <th>Dest_airport_long</th>\n",
       "    </tr>\n",
       "  </thead>\n",
       "  <tbody>\n",
       "    <tr>\n",
       "      <th>0</th>\n",
       "      <td>MHK</td>\n",
       "      <td>AMW</td>\n",
       "      <td>Manhattan, KS</td>\n",
       "      <td>Ames, IA</td>\n",
       "      <td>21</td>\n",
       "      <td>30</td>\n",
       "      <td>1</td>\n",
       "      <td>254</td>\n",
       "      <td>2008-10-01</td>\n",
       "      <td>122049</td>\n",
       "      <td>86219</td>\n",
       "      <td>39.140999</td>\n",
       "      <td>-96.670799</td>\n",
       "      <td>NaN</td>\n",
       "      <td>NaN</td>\n",
       "    </tr>\n",
       "    <tr>\n",
       "      <th>1</th>\n",
       "      <td>EUG</td>\n",
       "      <td>RDM</td>\n",
       "      <td>Eugene, OR</td>\n",
       "      <td>Bend, OR</td>\n",
       "      <td>41</td>\n",
       "      <td>396</td>\n",
       "      <td>22</td>\n",
       "      <td>103</td>\n",
       "      <td>1990-11-01</td>\n",
       "      <td>284093</td>\n",
       "      <td>76034</td>\n",
       "      <td>44.124599</td>\n",
       "      <td>-123.211998</td>\n",
       "      <td>44.254101</td>\n",
       "      <td>-121.150002</td>\n",
       "    </tr>\n",
       "    <tr>\n",
       "      <th>2</th>\n",
       "      <td>EUG</td>\n",
       "      <td>RDM</td>\n",
       "      <td>Eugene, OR</td>\n",
       "      <td>Bend, OR</td>\n",
       "      <td>88</td>\n",
       "      <td>342</td>\n",
       "      <td>19</td>\n",
       "      <td>103</td>\n",
       "      <td>1990-12-01</td>\n",
       "      <td>284093</td>\n",
       "      <td>76034</td>\n",
       "      <td>44.124599</td>\n",
       "      <td>-123.211998</td>\n",
       "      <td>44.254101</td>\n",
       "      <td>-121.150002</td>\n",
       "    </tr>\n",
       "    <tr>\n",
       "      <th>3</th>\n",
       "      <td>EUG</td>\n",
       "      <td>RDM</td>\n",
       "      <td>Eugene, OR</td>\n",
       "      <td>Bend, OR</td>\n",
       "      <td>11</td>\n",
       "      <td>72</td>\n",
       "      <td>4</td>\n",
       "      <td>103</td>\n",
       "      <td>1990-10-01</td>\n",
       "      <td>284093</td>\n",
       "      <td>76034</td>\n",
       "      <td>44.124599</td>\n",
       "      <td>-123.211998</td>\n",
       "      <td>44.254101</td>\n",
       "      <td>-121.150002</td>\n",
       "    </tr>\n",
       "    <tr>\n",
       "      <th>4</th>\n",
       "      <td>MFR</td>\n",
       "      <td>RDM</td>\n",
       "      <td>Medford, OR</td>\n",
       "      <td>Bend, OR</td>\n",
       "      <td>0</td>\n",
       "      <td>18</td>\n",
       "      <td>1</td>\n",
       "      <td>156</td>\n",
       "      <td>1990-02-01</td>\n",
       "      <td>147300</td>\n",
       "      <td>76034</td>\n",
       "      <td>42.374199</td>\n",
       "      <td>-122.873001</td>\n",
       "      <td>44.254101</td>\n",
       "      <td>-121.150002</td>\n",
       "    </tr>\n",
       "  </tbody>\n",
       "</table>\n",
       "</div>"
      ]
     },
     "execution_count": 5,
     "metadata": {},
     "output_type": "execute_result"
    }
   ],
   "execution_count": 5
  },
  {
   "metadata": {
    "ExecuteTime": {
     "end_time": "2024-12-16T14:36:36.939104Z",
     "start_time": "2024-12-16T14:36:36.934471Z"
    }
   },
   "cell_type": "code",
   "source": "df.info()",
   "id": "5671828d5662e7f3",
   "outputs": [
    {
     "name": "stdout",
     "output_type": "stream",
     "text": [
      "<class 'pandas.core.frame.DataFrame'>\n",
      "RangeIndex: 3606803 entries, 0 to 3606802\n",
      "Data columns (total 15 columns):\n",
      " #   Column                  Dtype  \n",
      "---  ------                  -----  \n",
      " 0   Origin_airport          object \n",
      " 1   Destination_airport     object \n",
      " 2   Origin_city             object \n",
      " 3   Destination_city        object \n",
      " 4   Passengers              int64  \n",
      " 5   Seats                   int64  \n",
      " 6   Flights                 int64  \n",
      " 7   Distance                int64  \n",
      " 8   Fly_date                object \n",
      " 9   Origin_population       int64  \n",
      " 10  Destination_population  int64  \n",
      " 11  Org_airport_lat         float64\n",
      " 12  Org_airport_long        float64\n",
      " 13  Dest_airport_lat        float64\n",
      " 14  Dest_airport_long       float64\n",
      "dtypes: float64(4), int64(6), object(5)\n",
      "memory usage: 412.8+ MB\n"
     ]
    }
   ],
   "execution_count": 6
  },
  {
   "metadata": {
    "ExecuteTime": {
     "end_time": "2024-12-16T14:36:39.275866Z",
     "start_time": "2024-12-16T14:36:38.909783Z"
    }
   },
   "cell_type": "code",
   "source": "df.isnull().sum()",
   "id": "e22e2228cfb4dfd2",
   "outputs": [
    {
     "data": {
      "text/plain": [
       "Origin_airport               0\n",
       "Destination_airport          0\n",
       "Origin_city                  0\n",
       "Destination_city             0\n",
       "Passengers                   0\n",
       "Seats                        0\n",
       "Flights                      0\n",
       "Distance                     0\n",
       "Fly_date                     0\n",
       "Origin_population            0\n",
       "Destination_population       0\n",
       "Org_airport_lat           6954\n",
       "Org_airport_long          6954\n",
       "Dest_airport_lat          6807\n",
       "Dest_airport_long         6807\n",
       "dtype: int64"
      ]
     },
     "execution_count": 7,
     "metadata": {},
     "output_type": "execute_result"
    }
   ],
   "execution_count": 7
  },
  {
   "metadata": {
    "ExecuteTime": {
     "end_time": "2024-12-17T15:02:52.217195Z",
     "start_time": "2024-12-17T15:02:52.066100Z"
    }
   },
   "cell_type": "code",
   "source": [
    "def create_geolocator(timeout=10):\n",
    "    return Nominatim(user_agent=\"airport_locator\", timeout=timeout)\n",
    "\n",
    "def get_lat_lon(geolocator, city, state, country, airport_code, max_retries=3):\n",
    "    \"\"\"\n",
    "    Try to collect latitude and longitude information with different ways communicating with geolocator.\n",
    "    Inputs:\n",
    "    - geolocator: Nominatim geolocator\n",
    "    - city: city name\n",
    "    - state: state name\n",
    "    - country: country name\n",
    "    - airport_code: airport code\n",
    "    - max_retries: maximum number of retries\n",
    "    Outputs:\n",
    "    - lat: latitude and lon: longitude if it's been collected successfully\n",
    "    \"\"\"\n",
    "    \n",
    "    # Try with different queries, one with the city of the airport another one with the airport code\n",
    "    queries = [\n",
    "        f\"{city} Airport, {state}, {country}\",\n",
    "        f\"{airport_code} Airport, {state}, {country}\"\n",
    "    ]\n",
    "\n",
    "    for query in queries:\n",
    "        for attempt in range(max_retries):\n",
    "            try:\n",
    "                location = geolocator.geocode(query)\n",
    "                if location:\n",
    "                    return location.latitude, location.longitude\n",
    "            except (GeocoderTimedOut, GeocoderUnavailable):\n",
    "                if attempt < max_retries - 1:\n",
    "                    # Wait two seconds before retry\n",
    "                    time.sleep(2)\n",
    "                else:\n",
    "                    continue\n",
    "    return None, None\n",
    "\n",
    "\n",
    "def update_missing_lat_lon(df):\n",
    "    \"\"\"\"\n",
    "    Function to update the NaN latitude and longitude\n",
    "    Inputs:\n",
    "        df: Original dataframe with missing values\n",
    "    Outputs:  \n",
    "        df: Updated dataframe without missing values\n",
    "    \"\"\"\n",
    "    geolocator = create_geolocator()\n",
    "\n",
    "    # Filter only the rows with NaN values for latitude\n",
    "    # not considering also the NaN in longitude because the moves together\n",
    "    df_nan_org = df[df['Org_airport_lat'].isna()]\n",
    "\n",
    "    # Find unique combinations of origin city and origin airport to avoid to recall the OpenStreetMap API multiple times for the same request\n",
    "    unique_origins = df_nan_org[['Origin_city', 'Origin_airport']].drop_duplicates()\n",
    "\n",
    "    for _, row in unique_origins.iterrows():\n",
    "        city = row[\"Origin_city\"].split(\",\")[0].strip()\n",
    "        state = row[\"Origin_city\"].split(\",\")[-1].strip()\n",
    "        country = \"USA\"\n",
    "        airport_code = row[\"Origin_airport\"]\n",
    "\n",
    "        # Collect latitude and longitude\n",
    "        lat, lon = get_lat_lon(geolocator, city, state, country, airport_code)\n",
    "\n",
    "        # Update the original DataFrame respectively to the considered airport\n",
    "        df.loc[(df['Origin_city'] == row['Origin_city']) & \n",
    "               (df['Origin_airport'] == row['Origin_airport']), \n",
    "               ['Org_airport_lat', 'Org_airport_long']] = lat, lon\n",
    "\n",
    "    # Repeat the process for Destination\n",
    "    df_nan_dest = df[df['Dest_airport_lat'].isna()]\n",
    "\n",
    "    unique_destinations = df_nan_dest[['Destination_city', 'Destination_airport']].drop_duplicates()\n",
    "\n",
    "    for _, row in unique_destinations.iterrows():\n",
    "        city = row[\"Destination_city\"].split(\",\")[0].strip()\n",
    "        state = row[\"Destination_city\"].split(\",\")[-1].strip()\n",
    "        country = \"USA\"\n",
    "        airport_code = row[\"Destination_airport\"]\n",
    "\n",
    "        lat, lon = get_lat_lon(geolocator, city, state, country, airport_code)\n",
    "        \n",
    "        df.loc[(df['Destination_city'] == row['Destination_city']) & \n",
    "               (df['Destination_airport'] == row['Destination_airport']), \n",
    "               ['Dest_airport_lat', 'Dest_airport_long']] = lat, lon\n",
    "\n",
    "    return df"
   ],
   "id": "e0f34102c4b9e405",
   "outputs": [],
   "execution_count": 30
  },
  {
   "metadata": {
    "ExecuteTime": {
     "end_time": "2024-12-16T16:59:24.962853Z",
     "start_time": "2024-12-16T16:59:24.959837Z"
    }
   },
   "cell_type": "code",
   "source": "df.shape",
   "id": "9cce922c159a58d8",
   "outputs": [
    {
     "data": {
      "text/plain": [
       "(3606803, 15)"
      ]
     },
     "execution_count": 96,
     "metadata": {},
     "output_type": "execute_result"
    }
   ],
   "execution_count": 96
  },
  {
   "metadata": {
    "ExecuteTime": {
     "end_time": "2024-12-16T16:59:02.955720Z",
     "start_time": "2024-12-16T16:44:46.621653Z"
    }
   },
   "cell_type": "code",
   "source": "df = update_missing_lat_lon(df)",
   "id": "b0b5d95bd893929f",
   "outputs": [],
   "execution_count": 94
  },
  {
   "metadata": {
    "ExecuteTime": {
     "end_time": "2024-12-16T17:04:11.798106Z",
     "start_time": "2024-12-16T17:04:11.457846Z"
    }
   },
   "cell_type": "code",
   "source": "df.isnull().sum()",
   "id": "93bc7fe6f193a3a1",
   "outputs": [
    {
     "data": {
      "text/plain": [
       "Origin_airport              0\n",
       "Destination_airport         0\n",
       "Origin_city                 0\n",
       "Destination_city            0\n",
       "Passengers                  0\n",
       "Seats                       0\n",
       "Flights                     0\n",
       "Distance                    0\n",
       "Fly_date                    0\n",
       "Origin_population           0\n",
       "Destination_population      0\n",
       "Org_airport_lat           254\n",
       "Org_airport_long          254\n",
       "Dest_airport_lat          246\n",
       "Dest_airport_long         246\n",
       "dtype: int64"
      ]
     },
     "execution_count": 4,
     "metadata": {},
     "output_type": "execute_result"
    }
   ],
   "execution_count": 4
  },
  {
   "metadata": {
    "ExecuteTime": {
     "end_time": "2024-12-16T17:03:29.099086Z",
     "start_time": "2024-12-16T17:03:16.621251Z"
    }
   },
   "cell_type": "code",
   "source": "df.to_csv('final_df.csv', index=False)",
   "id": "ce02b66c6b9f6b2c",
   "outputs": [],
   "execution_count": 105
  },
  {
   "metadata": {},
   "cell_type": "markdown",
   "source": "## 1. Flight Network Analysis (Q1)",
   "id": "5075202ded27d98d"
  },
  {
   "metadata": {},
   "cell_type": "markdown",
   "source": [
    "### Implement a function `analyze_graph_features(flight_network)` that takes the flight network as input and computes the following:\n",
    "   - Count the number of airports (nodes) and flights (edges) in the graph.\n",
    "   - Compute the density of the graph using the formula:  $Density = \\frac{2 \\cdot E}{N \\cdot (N - 1)}$\n",
    "   - Calculate both in-degree and out-degree for each airport and visualize them using histograms.\n",
    "   - Identify airports with degrees higher than the 90th percentile and list them as \"hubs.\"\n",
    "   - Determine if the graph is sparse or dense based on its density."
   ],
   "id": "c5781289435a7085"
  },
  {
   "metadata": {
    "ExecuteTime": {
     "end_time": "2024-12-17T15:42:35.477220Z",
     "start_time": "2024-12-17T15:42:31.962854Z"
    }
   },
   "cell_type": "code",
   "source": "df = pd.read_csv('final_df.csv')",
   "id": "fd1b248c2dc9054",
   "outputs": [],
   "execution_count": 2
  },
  {
   "metadata": {
    "ExecuteTime": {
     "end_time": "2024-12-17T15:42:35.482092Z",
     "start_time": "2024-12-17T15:42:35.478227Z"
    }
   },
   "cell_type": "code",
   "source": "from functions import flight_network",
   "id": "6e891e4661382ad1",
   "outputs": [],
   "execution_count": 3
  },
  {
   "metadata": {
    "ExecuteTime": {
     "end_time": "2024-12-17T15:43:28.749070Z",
     "start_time": "2024-12-17T15:42:35.482092Z"
    }
   },
   "cell_type": "code",
   "source": [
    "# Initialize an oriented graph\n",
    "graph = nx.DiGraph()\n",
    "\n",
    "# Add edges to the graph aggregating the routes with same origin and destination\n",
    "for index, row in df.iterrows():\n",
    "    origin = row['Origin_airport']\n",
    "    destination = row['Destination_airport']\n",
    "    distance = row['Distance']\n",
    "    \n",
    "    # If the edge has been collected yet skip\n",
    "    if graph.has_edge(origin, destination):\n",
    "        pass\n",
    "    else:\n",
    "        # Otherwise, add the new edge considering as a weight the distance between the nodes\n",
    "        graph.add_edge(origin, destination, weight=distance)"
   ],
   "id": "1d2a7f62d03e2d48",
   "outputs": [],
   "execution_count": 4
  },
  {
   "metadata": {
    "ExecuteTime": {
     "end_time": "2024-12-17T15:43:38.757668Z",
     "start_time": "2024-12-17T15:43:38.755266Z"
    }
   },
   "cell_type": "code",
   "source": "network = flight_network.FlightNetwork(graph, df)",
   "id": "afae3e0fb6bf85c0",
   "outputs": [],
   "execution_count": 6
  },
  {
   "metadata": {
    "ExecuteTime": {
     "end_time": "2024-12-17T15:43:48.225812Z",
     "start_time": "2024-12-17T15:43:48.222239Z"
    }
   },
   "cell_type": "code",
   "source": "number_nodes, number_edges, denisty = network.analyze_graph_features()",
   "id": "bc857ee7cfd99847",
   "outputs": [
    {
     "name": "stdout",
     "output_type": "stream",
     "text": [
      "The graph is dense.\n"
     ]
    }
   ],
   "execution_count": 8
  },
  {
   "metadata": {},
   "cell_type": "markdown",
   "source": "Checking if the dimension of the graph are reasonable",
   "id": "20c270b8baaf4a88"
  },
  {
   "metadata": {
    "ExecuteTime": {
     "end_time": "2024-12-16T17:09:50.643962Z",
     "start_time": "2024-12-16T17:09:50.496896Z"
    }
   },
   "cell_type": "code",
   "source": [
    "all_airports = pd.concat([df['Origin_airport'], df['Destination_airport']])\n",
    "\n",
    "unique_airports = all_airports.drop_duplicates()\n",
    "\n",
    "num_unique_airports = unique_airports.shape[0]\n",
    "\n",
    "print(f\"Number of unique airports(nodes): {num_unique_airports}\")"
   ],
   "id": "cd1c93845439d6bd",
   "outputs": [
    {
     "name": "stdout",
     "output_type": "stream",
     "text": [
      "Numero totale di aeroporti unici: 727\n"
     ]
    }
   ],
   "execution_count": 12
  },
  {
   "metadata": {},
   "cell_type": "code",
   "outputs": [
    {
     "name": "stdout",
     "output_type": "stream",
     "text": [
      "Numero di combinazioni uniche: 36719\n"
     ]
    }
   ],
   "execution_count": 11,
   "source": [
    "unique_combinations = df[['Origin_airport', 'Destination_airport']].drop_duplicates()\n",
    "num_unique_combinations = unique_combinations.shape[0]\n",
    "\n",
    "print(f\"Number of unique combinations(edges): {num_unique_combinations}\")"
   ],
   "id": "bd39807e0bb51e2c"
  },
  {
   "metadata": {
    "ExecuteTime": {
     "end_time": "2024-12-17T15:43:56.691002Z",
     "start_time": "2024-12-17T15:43:56.531836Z"
    }
   },
   "cell_type": "code",
   "source": "network.summarize_graph_features(number_nodes, number_edges, denisty)",
   "id": "f91144fe850cc286",
   "outputs": [
    {
     "name": "stdout",
     "output_type": "stream",
     "text": [
      "Number of nodes: 727\n",
      "Number of edges: 36719\n",
      "Density of the graph: 73336.984869326\n",
      "Hubs (Airports with degrees higher than the 90th percentile):\n",
      " - SEA\n",
      " - PDX\n",
      " - SFO\n",
      " - LAX\n",
      " - FLL\n",
      " - PHX\n",
      " - TUS\n",
      " - DFW\n",
      " - SLC\n",
      " - RNO\n",
      " - ABQ\n",
      " - LAS\n",
      " - ICT\n",
      " - OKC\n",
      " - SAN\n",
      " - OAK\n",
      " - IAH\n",
      " - ELP\n",
      " - TUL\n",
      " - OMA\n",
      " - AUS\n",
      " - COS\n",
      " - MSN\n",
      " - RFD\n",
      " - MKE\n",
      " - DSM\n",
      " - LIT\n",
      " - SHV\n",
      " - MCI\n",
      " - SAT\n",
      " - MSP\n",
      " - ORD\n",
      " - STL\n",
      " - BNA\n",
      " - MEM\n",
      " - IND\n",
      " - LRD\n",
      " - CLE\n",
      " - DTW\n",
      " - DAY\n",
      " - CVG\n",
      " - CMH\n",
      " - FWA\n",
      " - HOU\n",
      " - TOL\n",
      " - PIT\n",
      " - BOS\n",
      " - ATL\n",
      " - MDW\n",
      " - PHL\n",
      " - GSO\n",
      " - BUF\n",
      " - EWR\n",
      " - CLT\n",
      " - JFK\n",
      " - GRR\n",
      " - YIP\n",
      " - LGA\n",
      " - LEX\n",
      " - BHM\n",
      " - MCO\n",
      " - IAD\n",
      " - MSY\n",
      " - RDU\n",
      " - GSP\n",
      " - BDL\n",
      " - CAE\n",
      " - BWI\n",
      " - TYS\n",
      " - MIA\n",
      " - TPA\n",
      " - DAL\n",
      " - JAX\n"
     ]
    },
    {
     "data": {
      "text/plain": [
       "<Figure size 640x480 with 1 Axes>"
      ],
      "image/png": "[encoded data removed]"
     },
     "metadata": {},
     "output_type": "display_data"
    },
    {
     "data": {
      "text/plain": [
       "<Figure size 640x480 with 1 Axes>"
      ],
      "image/png": "[encoded data removed]"
     },
     "metadata": {},
     "output_type": "display_data"
    }
   ],
   "execution_count": 9
  },
  {
   "metadata": {
    "ExecuteTime": {
     "end_time": "2024-12-16T17:34:01.813311Z",
     "start_time": "2024-12-16T17:34:00.806452Z"
    }
   },
   "cell_type": "code",
   "source": "from functions import interactive_map",
   "id": "a6bed0f0819c92ff",
   "outputs": [],
   "execution_count": 5
  },
  {
   "metadata": {
    "ExecuteTime": {
     "end_time": "2024-12-16T17:34:01.816822Z",
     "start_time": "2024-12-16T17:34:01.813311Z"
    }
   },
   "cell_type": "code",
   "source": "#maps = interactive_map.InteractiveMap(df, graph)",
   "id": "82a38022cd6e26d8",
   "outputs": [],
   "execution_count": 6
  },
  {
   "metadata": {
    "ExecuteTime": {
     "end_time": "2024-12-16T17:35:24.292321Z",
     "start_time": "2024-12-16T17:34:01.817334Z"
    }
   },
   "cell_type": "code",
   "source": "#maps.plot()",
   "id": "e1ed21eca7f5dd7a",
   "outputs": [],
   "execution_count": 7
  },
  {
   "metadata": {
    "ExecuteTime": {
     "end_time": "2024-12-16T17:54:03.379695Z",
     "start_time": "2024-12-16T17:54:03.364787Z"
    }
   },
   "cell_type": "code",
   "source": [
    "import geopandas as gpd\n",
    "geojson_data = gpd.read_file(\"us-states.json\")"
   ],
   "id": "f8fb860e6b2fc008",
   "outputs": [],
   "execution_count": 13
  },
  {
   "metadata": {},
   "cell_type": "markdown",
   "source": "TEST WITH FOLIUM",
   "id": "39521739d439ca5b"
  },
  {
   "metadata": {
    "ExecuteTime": {
     "end_time": "2024-12-17T12:29:41.797780Z",
     "start_time": "2024-12-17T12:28:43.493966Z"
    }
   },
   "cell_type": "code",
   "source": [
    "import dash\n",
    "from dash import dcc, html\n",
    "from dash.dependencies import Input, Output\n",
    "import folium\n",
    "from folium.plugins import MarkerCluster\n",
    "import networkx as nx\n",
    "import numpy as np\n",
    "\n",
    "# Creazione del grafo non diretto\n",
    "graph = nx.Graph()\n",
    "\n",
    "# Aggiungi nodi e archi, evitando duplicati\n",
    "for index, row in df.iterrows():\n",
    "    origin = row['Origin_airport']\n",
    "    destination = row['Destination_airport']\n",
    "    passengers = row['Passengers']\n",
    "    distance = row['Distance']\n",
    "\n",
    "    # Aggiungi i nodi al grafo\n",
    "    if origin not in graph:\n",
    "        graph.add_node(origin,\n",
    "                       pos=(row['Org_airport_long'], row['Org_airport_lat']),\n",
    "                       city=row['Origin_city'],\n",
    "                       state=row['Origin_city'].split(',')[1].strip())\n",
    "    if destination not in graph:\n",
    "        graph.add_node(destination,\n",
    "                       pos=(row['Dest_airport_long'], row['Dest_airport_lat']),\n",
    "                       city=row['Destination_city'],\n",
    "                       state=row['Destination_city'].split(',')[1].strip())\n",
    "\n",
    "    # Aggiungi o aggiorna l'arco\n",
    "    if graph.has_edge(origin, destination):\n",
    "        graph[origin][destination]['passengers'] += passengers\n",
    "        graph[origin][destination]['weight'] += distance\n",
    "    else:\n",
    "        graph.add_edge(origin, destination, \n",
    "                       passengers=passengers, \n",
    "                       weight=distance)\n",
    "\n",
    "# Funzione per identificare gli hub\n",
    "def identify_hubs(graph):\n",
    "    # Calcola il grado (in-degree + out-degree per un grafo non diretto)\n",
    "    degrees = dict(graph.degree())\n",
    "\n",
    "    # Calcola il 90° percentile dei gradi\n",
    "    degree_values = list(degrees.values())\n",
    "    percentile_90 = np.percentile(degree_values, 90)\n",
    "\n",
    "    # Identifica gli hub\n",
    "    hubs = [node for node, degree in degrees.items() if degree > percentile_90]\n",
    "    return hubs\n",
    "\n",
    "# Identify graph's hubs to represent it in a different way and to let filter this nodes\n",
    "hubs = identify_hubs(graph)\n",
    "\n",
    "# Creating a Dash App based on Folium, in this way we can create a web app with much more customization\n",
    "# instead of running it directly in our notebook\n",
    "app = dash.Dash(__name__)\n",
    "\n",
    "app.layout = html.Div([\n",
    "    html.H1(\"Map of USA Flight Network\"),\n",
    "\n",
    "    # Slider for range of passengers to consider\n",
    "    html.Label(\"Select passengers range:\"),\n",
    "    dcc.RangeSlider(\n",
    "        id='passenger-slider',\n",
    "        min=0,\n",
    "        max=200,\n",
    "        step=10,\n",
    "        marks={i: str(i) for i in range(0, 201, 20)},\n",
    "        value=[0, 200],\n",
    "    ),\n",
    "\n",
    "    # Dropdown to filter the nodes type\n",
    "    html.Label(\"Select Airports to visualize:\"),\n",
    "    dcc.Dropdown(\n",
    "        id='node-filter-dropdown',\n",
    "        options=[\n",
    "            {'label': 'All airports', 'value': 'all'},\n",
    "            {'label': 'Only hub', 'value': 'hubs'},\n",
    "            {'label': 'Only not hub', 'value': 'non_hubs'}\n",
    "        ],\n",
    "        # Default values\n",
    "        value='all',\n",
    "        clearable=False,\n",
    "    ),\n",
    "\n",
    "    # Map container, HTML element where place the map\n",
    "    html.Div(id='map-container')\n",
    "])\n",
    "\n",
    "# Callback function to update the map after the filtering choices\n",
    "@app.callback(\n",
    "    Output('map-container', 'children'),\n",
    "    [Input('passenger-slider', 'value'),\n",
    "     Input('node-filter-dropdown', 'value')]\n",
    ")\n",
    "def update_map(passenger_range, node_filter):\n",
    "    # Create a folium map centered in the United States, specifying the CartoDB dark_matter tile (dark stile) \n",
    "    map = folium.Map(location=[37.0902, -95.7129], zoom_start=4, tiles='CartoDB dark_matter')\n",
    "\n",
    "    # Aggiungi cluster per i marker\n",
    "    marker_cluster = MarkerCluster().add_to(map)\n",
    "\n",
    "    # Filter the airports basing on the selected filter\n",
    "    if node_filter == \"hubs\":\n",
    "        nodes_to_display = hubs\n",
    "    elif node_filter == \"non_hubs\":\n",
    "        nodes_to_display = [node for node in graph.nodes if node not in hubs]\n",
    "    else:\n",
    "        nodes_to_display = list(graph.nodes)\n",
    "\n",
    "    # Add routes on the map (edges that connect each node)\n",
    "    for origin, destination, data in graph.edges(data=True):\n",
    "        if origin in nodes_to_display and destination in nodes_to_display:\n",
    "            passengers = data['passengers']\n",
    "            if passenger_range[0] <= passengers <= passenger_range[1]:\n",
    "                origin_node = graph.nodes[origin]\n",
    "                destination_node = graph.nodes[destination]\n",
    "\n",
    "                # Do not consider the routes with NaN latitude and longitude\n",
    "                # if we do not this, the map will not visualize raising an Exception(What type of exception?)\n",
    "                if not (\n",
    "                    np.isnan(origin_node['pos'][1]) or np.isnan(origin_node['pos'][0]) or \n",
    "                    np.isnan(destination_node['pos'][1]) or np.isnan(destination_node['pos'][0])\n",
    "                ):\n",
    "                    folium.PolyLine(\n",
    "                        locations=[(origin_node['pos'][1], origin_node['pos'][0]), \n",
    "                                   (destination_node['pos'][1], destination_node['pos'][0])],\n",
    "                        color='blue',\n",
    "                        weight=1,\n",
    "                        opacity=0.6\n",
    "                    ).add_to(marker_cluster)\n",
    "\n",
    "    # Add airports marker\n",
    "    for node in nodes_to_display:\n",
    "        node_data = graph.nodes[node]\n",
    "        lat, lon = node_data['pos'][1], node_data['pos'][0]\n",
    "\n",
    "        # Filter airports with NaN coordinates\n",
    "        if np.isnan(lat) or np.isnan(lon):\n",
    "            continue\n",
    "\n",
    "        city = node_data['city']\n",
    "        # Representation for HUB\n",
    "        if node in hubs:\n",
    "            folium.Marker(\n",
    "                location=[lat, lon],\n",
    "                # Red cloud icon\n",
    "                icon=folium.Icon(color='red', icon='cloud'),\n",
    "                # When you click on it, you can see its information\n",
    "                popup=f\"<b>HUB: {node}</b><br>{city}\"\n",
    "            ).add_to(marker_cluster)\n",
    "        # Representation for Non-hub\n",
    "        else:\n",
    "            folium.Marker(\n",
    "                location=[lat, lon],\n",
    "                # Green info-sign icon\n",
    "                icon=folium.Icon(color='green', icon='info-sign'),\n",
    "                # When you click on it, you can see its information\n",
    "                popup=f\"<b>{node}</b><br>{city}\"\n",
    "            ).add_to(marker_cluster)\n",
    "\n",
    "    # Convert the Folium map in an HTML object\n",
    "    map_html = map._repr_html_()\n",
    "    \n",
    "    # Return the map into an HTML frame, specifying the dimension\n",
    "    return html.Iframe(\n",
    "        srcDoc=map_html,\n",
    "        width=\"100%\",\n",
    "        height=\"700px\"\n",
    "    )\n",
    "\n",
    "if __name__ == '__main__':\n",
    "    app.run_server(jupyter_mode='external', debug=True)\n"
   ],
   "id": "4e30a9862592e248",
   "outputs": [
    {
     "name": "stdout",
     "output_type": "stream",
     "text": [
      "Dash app running on http://127.0.0.1:8050/\n"
     ]
    }
   ],
   "execution_count": 7
  },
  {
   "metadata": {
    "ExecuteTime": {
     "end_time": "2024-12-17T13:58:00.713785Z",
     "start_time": "2024-12-17T13:57:01.250829Z"
    }
   },
   "cell_type": "code",
   "source": [
    "# TO DO: Update the mean calculus\n",
    "# Compute the mean of passengers for each origin and destination airport\n",
    "origin_mean = df.groupby('Origin_airport')['Passengers'].mean()\n",
    "destination_mean = df.groupby('Destination_airport')['Passengers'].mean()\n",
    "\n",
    "# Concatenate the column Origin_airport and Destination_airport\n",
    "all_airports = pd.concat([df['Origin_airport'], df['Destination_airport']])\n",
    "\n",
    "# Collect all the unique airports\n",
    "unique_airports = all_airports.drop_duplicates()\n",
    "\n",
    "# Create a dictionary that contains the mean of passengers for each airport\n",
    "airport_mean_passengers = {}\n",
    "\n",
    "# Add the means for origin airports\n",
    "for airport, mean in origin_mean.items():\n",
    "    if airport not in airport_mean_passengers:\n",
    "        airport_mean_passengers[airport] = {'origin_mean': mean, 'destination_mean': None}\n",
    "\n",
    "# Add the means for destination airports\n",
    "for airport, mean in destination_mean.items():\n",
    "    if airport not in airport_mean_passengers:\n",
    "        airport_mean_passengers[airport] = {'origin_mean': None, 'destination_mean': mean}\n",
    "\n",
    "# Compute the total mean of passenger for each airport\n",
    "airport_passenger_mean = {}\n",
    "for airport, means in airport_mean_passengers.items():\n",
    "    origin_mean = means['origin_mean']\n",
    "    destination_mean = means['destination_mean']\n",
    "    \n",
    "    # If the airport appear as origin or destination, sum the means and compute the global mean\n",
    "    if origin_mean is not None and destination_mean is not None:\n",
    "        composite_mean = (origin_mean + destination_mean) / 2\n",
    "    elif origin_mean is not None:\n",
    "        composite_mean = origin_mean\n",
    "    else:\n",
    "        composite_mean = destination_mean\n",
    "    \n",
    "    airport_passenger_mean[airport] = composite_mean\n",
    "\n",
    "# Initialize a directed graph (to reduce the visual load on the map)\n",
    "graph = nx.Graph()\n",
    "\n",
    "# Add nodes and edges avoiding duplicates\n",
    "for index, row in df.iterrows():\n",
    "    origin = row['Origin_airport']\n",
    "    destination = row['Destination_airport']\n",
    "    passengers = row['Passengers']\n",
    "    distance = row['Distance']\n",
    "\n",
    "    # Add origin or destination airport to the graph\n",
    "    if origin not in graph:\n",
    "        graph.add_node(origin,\n",
    "                       pos=(row['Org_airport_long'], row['Org_airport_lat']),\n",
    "                       city=row['Origin_city'],\n",
    "                       state=row['Origin_city'].split(',')[1].strip())\n",
    "    if destination not in graph:\n",
    "        graph.add_node(destination,\n",
    "                       pos=(row['Dest_airport_long'], row['Dest_airport_lat']),\n",
    "                       city=row['Destination_city'],\n",
    "                       state=row['Destination_city'].split(',')[1].strip())\n",
    "\n",
    "    # Add or update the edge if the edge is present\n",
    "    if graph.has_edge(origin, destination):\n",
    "        graph[origin][destination]['passengers'] += passengers\n",
    "        graph[origin][destination]['weight'] += distance\n",
    "    else:\n",
    "        graph.add_edge(origin, destination, \n",
    "                       passengers=passengers, \n",
    "                       weight=distance)\n",
    "\n",
    "# Function to identify hubs(the same as the one in flight_network.py)\n",
    "# put it here to avoid the callback to the specific module\n",
    "# TO DO\n",
    "def identify_hubs(graph):\n",
    "    # Calcola il grado (in-degree + out-degree per un grafo non diretto)\n",
    "    degrees = dict(graph.degree())\n",
    "\n",
    "    # Calcola il 90° percentile dei gradi\n",
    "    degree_values = list(degrees.values())\n",
    "    percentile_90 = np.percentile(degree_values, 90)\n",
    "\n",
    "    # Identify hubs\n",
    "    hubs = [node for node, degree in degrees.items() if degree > percentile_90]\n",
    "    return hubs\n",
    "\n",
    "# Identify graph's hubs to represent it in a different way and to let filter this nodes\n",
    "hubs = identify_hubs(graph)\n",
    "\n",
    "# Creating a Dash App based on Folium, in this way we can create a web app with much more customization\n",
    "# instead of running it directly in our notebook\n",
    "app = dash.Dash(__name__)\n",
    "\n",
    "app.layout = html.Div([\n",
    "    html.H1(\"Map of USA Flight Network\"),\n",
    "\n",
    "    # Slider for range of mean number of passengers to consider\n",
    "    html.Label(\"Select average passengers range:\"),\n",
    "    dcc.RangeSlider(\n",
    "        id='passenger-slider',\n",
    "        min=0,\n",
    "        max=7000,\n",
    "        step=1000,\n",
    "        marks={i: str(i) for i in range(0, 7001, 1000)},  # Visualizza i marks ogni 1000\n",
    "        value=[0, 7000],\n",
    "    ),\n",
    "\n",
    "    # Dropdown to filter the nodes type\n",
    "    html.Label(\"Select Airports to visualize:\"),\n",
    "    dcc.Dropdown(\n",
    "        id='node-filter-dropdown',\n",
    "        options=[\n",
    "            {'label': 'All airports', 'value': 'all'},\n",
    "            {'label': 'Only hub', 'value': 'hubs'},\n",
    "            {'label': 'Only not hub', 'value': 'non_hubs'}\n",
    "        ],\n",
    "        value='all',\n",
    "        clearable=False,\n",
    "    ),\n",
    "\n",
    "    # Map container, HTML element where place the map\n",
    "    html.Div(id='map-container')\n",
    "])\n",
    "\n",
    "# Callback function to update the map after the filtering choices\n",
    "@app.callback(\n",
    "    Output('map-container', 'children'),\n",
    "    [Input('passenger-slider', 'value'),\n",
    "     Input('node-filter-dropdown', 'value')]\n",
    ")\n",
    "def update_map(passenger_range, node_filter):\n",
    "    # Create a folium map centered in the United States, specifying the CartoDB dark_matter tile (dark stile) \n",
    "    map = folium.Map(location=[37.0902, -95.7129], zoom_start=4, tiles='CartoDB dark_matter')\n",
    "\n",
    "    # Add the marker cluster (See what it do)\n",
    "    marker_cluster = MarkerCluster().add_to(map)\n",
    "\n",
    "    # Filter the airports basing on the selected filter\n",
    "    if node_filter == \"hubs\":\n",
    "        nodes_to_display = hubs\n",
    "    elif node_filter == \"non_hubs\":\n",
    "        nodes_to_display = [node for node in graph.nodes if node not in hubs]\n",
    "    else:\n",
    "        nodes_to_display = list(graph.nodes)\n",
    "\n",
    "    # Add routes on the map\n",
    "    for origin, destination, data in graph.edges(data=True):\n",
    "        # Collect the info about the passenger mean for origin and destination\n",
    "        origin_passenger_mean = airport_passenger_mean.get(origin, 0)\n",
    "        destination_passenger_mean = airport_passenger_mean.get(destination, 0)\n",
    "        \n",
    "        # Filter if the passengers mean of the node is in the range\n",
    "        if (passenger_range[0] <= origin_passenger_mean <= passenger_range[1] and\n",
    "            passenger_range[0] <= destination_passenger_mean <= passenger_range[1]):\n",
    "            origin_node = graph.nodes[origin]\n",
    "            destination_node = graph.nodes[destination]\n",
    "\n",
    "            # Do not consider the routes with NaN latitude and longitude\n",
    "            # if we do not this, the map will not visualize raising an Exception(What type of exception?)\n",
    "            if not (np.isnan(origin_node['pos'][1]) or np.isnan(origin_node['pos'][0]) or \n",
    "                    np.isnan(destination_node['pos'][1]) or np.isnan(destination_node['pos'][0])):\n",
    "                folium.PolyLine(\n",
    "                    locations=[(origin_node['pos'][1], origin_node['pos'][0]), \n",
    "                               (destination_node['pos'][1], destination_node['pos'][0])],\n",
    "                    color='blue',\n",
    "                    weight=1,\n",
    "                    opacity=0.6\n",
    "                ).add_to(marker_cluster)\n",
    "\n",
    "    # Add airports marker\n",
    "    for node in nodes_to_display:\n",
    "        node_data = graph.nodes[node]\n",
    "        lat, lon = node_data['pos'][1], node_data['pos'][0]\n",
    "\n",
    "        # Verify if the coordinates are not NaN\n",
    "        if np.isnan(lat) or np.isnan(lon):\n",
    "            continue\n",
    "\n",
    "        city = node_data['city']\n",
    "        average_passengers = airport_passenger_mean.get(node, 0)\n",
    "\n",
    "        # Check if the passengers mean is in the specified by input range\n",
    "        if passenger_range[0] <= average_passengers <= passenger_range[1]:\n",
    "            \n",
    "        # Representation for HUBs\n",
    "            if node in hubs:\n",
    "                folium.Marker(\n",
    "                    location=[lat, lon],\n",
    "                    icon=folium.Icon(color='red', icon='cloud'),\n",
    "                    popup=folium.Popup(f\"<b>HUB: {node}</b><br>{city}<br>Avg Passengers: {average_passengers:.2f}\", max_width=500)\n",
    "                ).add_to(marker_cluster)\n",
    "                \n",
    "            # Representation for Non-hub\n",
    "            else:\n",
    "                folium.Marker(\n",
    "                    location=[lat, lon],\n",
    "                    # Green info-sign icon\n",
    "                    icon=folium.Icon(color='green', icon='info-sign'),\n",
    "                    # When you click on it, you can see its information\n",
    "                    popup=folium.Popup(f\"<b>{node}</b><br>{city}<br>Avg Passengers: {average_passengers:.2f}\", max_width=500)\n",
    "                ).add_to(marker_cluster)\n",
    "\n",
    "    # Convert the Folium map in an HTML object\n",
    "    map_html = map._repr_html_()\n",
    "\n",
    "    # Return the map into an HTML Iframe, specifying the dimension\n",
    "    return html.Iframe(\n",
    "        srcDoc=map_html,\n",
    "        width=\"100%\",\n",
    "        height=\"700px\"\n",
    "    )\n",
    "\n",
    "# Run the dash app, in a web page(local)\n",
    "if __name__ == '__main__':\n",
    "    app.run_server(jupyter_mode='external', debug=True)"
   ],
   "id": "a050fbf909ea295f",
   "outputs": [
    {
     "name": "stdout",
     "output_type": "stream",
     "text": [
      "Dash app running on http://127.0.0.1:8050/\n"
     ]
    }
   ],
   "execution_count": 29
  },
  {
   "metadata": {},
   "cell_type": "markdown",
   "source": [
    "### Write a function `summarize_graph_features(flight_network)` that generates a detailed report of the graph's features. A summary report needs to include:\n",
    "   - The number of nodes and edges.\n",
    "   - The graph density.\n",
    "   - Degree distribution plots for in-degree and out-degree.\n",
    "   - A table of identified hubs."
   ],
   "id": "ddb04fa4fb82e00"
  },
  {
   "metadata": {},
   "cell_type": "markdown",
   "source": [
    "### Now let's dive deeper into the analysis of the dataset. Do the following:\n",
    "   - Compute total passenger flow between origin and destination cities.\n",
    "   - Identify and visualize the busiest routes by passenger traffic.\n",
    "   - Calculate the average passengers per flight for each route and highlight under/over-utilized connections.\n",
    "   - Create an interactive map visualizing the geographic spread of the flight network."
   ],
   "id": "4c99f555bb4e827d"
  },
  {
   "metadata": {},
   "cell_type": "markdown",
   "source": [
    "### **Questions to Address:**\n",
    "\n",
    "After completing the analysis, answer the following questions:\n",
    "- Is the graph sparse or dense?\n",
    "- What patterns do you observe in the degree distribution?\n",
    "- Which airports are identified as hubs, and why?\n",
    "- What are the busiest routes in terms of passenger traffic?\n",
    "- Which routes are under/over-utilized?\n"
   ],
   "id": "3e1b660c398feb3f"
  },
  {
   "metadata": {},
   "cell_type": "markdown",
   "source": "## 2. Nodes' Contribution (Q2)",
   "id": "45a00ef32c9acbf3"
  },
  {
   "metadata": {},
   "cell_type": "markdown",
   "source": [
    "### Implement a function `analyze_centrality(flight_network, airport)` that computes the following centrality measures for a given airport:\n",
    "   - _Betweenness centrality_: Measures how often a node appears on the shortest paths between other nodes.\n",
    "   - _Closeness centrality_: Measures how easily a node can access all other nodes in the network.\n",
    "   - _Degree centrality_: Simply counts the number of direct connections to the node.\n",
    "   - _PageRank_: Computes the \"importance\" of a node based on incoming connections and their weights."
   ],
   "id": "6f0700f3ed623752"
  },
  {
   "metadata": {},
   "cell_type": "markdown",
   "source": [
    "### Write a function `compare_centralities(flight_network)` to:\n",
    "   - Compute and compare centrality values for all nodes in the graph.\n",
    "   - Plot centrality distributions (histograms for each centrality measure).\n",
    "   - Return the top 5 airports for each centrality measure."
   ],
   "id": "9aed8f5e110645a"
  },
  {
   "metadata": {},
   "cell_type": "markdown",
   "source": "### Ask LLM (eg. ChatGPT) to suggest alternative centrality measures that might be relevant to this task. How can you check that the results given by the LLM are trustable?",
   "id": "376f30a49bf41785"
  },
  {
   "metadata": {},
   "cell_type": "markdown",
   "source": "### Implement one of these measures suggested by the LLM, compare its results to the centralities you've already computed, and analyze whether it adds any new insights.",
   "id": "67bd24a16b2e1a20"
  },
  {
   "metadata": {},
   "cell_type": "markdown",
   "source": "## 3. Finding Best Routes (Q3)",
   "id": "d37d0f3ebc4c81a5"
  },
  {
   "metadata": {},
   "cell_type": "markdown",
   "source": "### In this task, you need to implement a function that, given an origin and destination city, determines the best possible route between them. To simplify, the focus will be limited to flights operating on a specific day.",
   "id": "43d9455ef91d99c3"
  },
  {
   "metadata": {},
   "cell_type": "markdown",
   "source": "## 4. Airline Network Partitioning (Q4)",
   "id": "566ae83fff0093d3"
  },
  {
   "metadata": {},
   "cell_type": "markdown",
   "source": "### In graph theory, this task is known as a graph disconnection problem. Your goal is to write a function that removes the minimum number of flights between airports to separate the original flight network into two disconnected subgraphs.",
   "id": "ee7b8081dde04138"
  },
  {
   "metadata": {},
   "cell_type": "markdown",
   "source": "## 5. Finding and Extracting Communities (Q5)",
   "id": "40fffbf34e0c1757"
  },
  {
   "metadata": {},
   "cell_type": "markdown",
   "source": "### In this task, you are asked to analyze the graph and identify the communities based on the flight network provided. For the airline, the primary focus is on the cities, so your communities should reflect the connectivity between cities through the flights that link them.",
   "id": "6d7493b1c2b97f70"
  },
  {
   "metadata": {},
   "cell_type": "markdown",
   "source": "### Ask a LLM (ChatGPT, Claude AI, Gemini, Perplexity, etc.) to suggest an alternative algorithm for extracting communities and explain the steps required to implement it. Then, implement this algorithm and compare its results with the current method you've chosen. Discuss the differences in the outcomes and analyze which approach you think is better, providing reasons for your choice.",
   "id": "be4fb72555bb0992"
  },
  {
   "metadata": {},
   "cell_type": "markdown",
   "source": "## Bonus Question - Connected Components on MapReduce ",
   "id": "c92e7671798f336c"
  },
  {
   "metadata": {},
   "cell_type": "markdown",
   "source": "### In this task, you are required to use PySpark and the MapReduce paradigm to identify the connected components in a flight network graph. The focus should be on airports rather than cities. As you know, a connected component refers to a group of airports where every pair of airports within the group is connected either directly or indirectly.",
   "id": "ad7ee0a5a58fff3d"
  },
  {
   "metadata": {},
   "cell_type": "markdown",
   "source": "### Compare the execution time and the results of your implementation with those of the GraphFrames package for identifying connected components. If there is any difference in the results, provide an explanation for why that might occur.",
   "id": "4e4cafcd371ea804"
  },
  {
   "metadata": {},
   "cell_type": "markdown",
   "source": "## Algorithmic Question (AQ)",
   "id": "e0d1be3cc9e7dde8"
  },
  {
   "metadata": {},
   "cell_type": "markdown",
   "source": [
    "Arya needs to travel between cities using a network of flights. Each flight has a fixed cost (in euros), and she wants to find the cheapest possible way to travel from her starting city to her destination city. However, there are some constraints on the journey:\n",
    "\n",
    "1. Arya can make at most `k` stops during her trip (this means up to `k+1` flights).\n",
    "2. If no valid route exists within these constraints, the result should be `-1`.\n",
    "\n",
    "Given a graph of cities connected by flights, your job is to find the minimum cost for Arya to travel between two specified cities (`src` to `dst`) while following the constraints. \n",
    "\n",
    "### Your Task\n",
    "\n",
    "- **a)** Write a pseudocode that describes the algorithm to find the cheapest route with at most `k` stops. \n",
    "  \n",
    "- **b)** Implement the algorithm in Python and simulate the given test cases.\n",
    "\n",
    "- **c)** Analyze the algorithm's efficiency. Provide its time complexity and space complexity, and explain whether it is efficient for large graphs (e.g., `n > 100`).\n",
    "\n",
    "- **d)** Optimize the algorithm to handle larger graphs. Provide an updated pseudocode and analyze the computational complexity of your optimization.\n",
    "\n",
    "- **e)** Ask LLM (e.g., ChatGPT) for an optimized version of your algorithm. Compare its solution to yours in terms of performance, time complexity, and correctness.\n",
    "\n",
    "### Examples\n",
    "\n",
    "#### Example 1\n",
    "\n",
    "**Input:**\n",
    "\n",
    "```py\n",
    "n = 4  \n",
    "flights = [[0, 1, 100], [1, 2, 100], [2, 0, 100], [1, 3, 600], [2, 3, 200]]  \n",
    "src = 0  \n",
    "dst = 3  \n",
    "k = 1  \n",
    "```\n",
    "**Output:**\n",
    "\n",
    "```py\n",
    "700  \n",
    "```\n",
    "\n",
    "**Explanation:**  \n",
    "Arya's optimal path with at most 1 stop is `0 → 1 → 3`, costing 100 + 600 = 700 euros.  \n",
    "The path `0 → 1 → 2 → 3` is cheaper but requires 2 stops, which violates the constraints.\n",
    "\n",
    "\n",
    "#### Example 2\n",
    "\n",
    "**Input:**\n",
    "```py\n",
    "n = 3  \n",
    "flights = [[0, 1, 100], [1, 2, 100], [0, 2, 500]]  \n",
    "src = 0  \n",
    "dst = 2  \n",
    "k = 1  \n",
    "```\n",
    "**Output:**\n",
    "```py\n",
    "200  \n",
    "```\n",
    "**Explanation:**  \n",
    "Arya's optimal path with at most 1 stop is `0 → 1 → 2`, costing 100 + 100 = 200 euros.\n",
    "\n",
    "\n",
    "#### Example 3\n",
    "\n",
    "**Input:**\n",
    "```py\n",
    "n = 3  \n",
    "flights = [[0, 1, 100], [1, 2, 100], [0, 2, 500]]  \n",
    "src = 0  \n",
    "dst = 2  \n",
    "k = 0  \n",
    "```\n",
    "**Output:**\n",
    "```py\n",
    "500  \n",
    "```\n",
    "**Explanation:**  \n",
    "Arya cannot make any stops. The only valid route is `0 → 2`, costing 500 euros.\n",
    "\n",
    "#### Example 4\n",
    "\n",
    "**Input:**\n",
    "```py\n",
    "n = 4  \n",
    "flights = [[0, 1, 100], [0, 2, 200], [1, 3, 300], [2, 3, 300]]  \n",
    "src = 0  \n",
    "dst = 3  \n",
    "k = 2  \n",
    "```\n",
    "**Output:**\n",
    "```py\n",
    "400  \n",
    "```\n",
    "**Explanation:**  \n",
    "Arya can take `0 → 1 → 3` and `0 → 2 → 3`, however first one is cheaper, costing 400 euros.\n",
    "\n",
    "#### Example 5\n",
    "\n",
    "**Input:**\n",
    "```py\n",
    "n = 4  \n",
    "flights = [[0, 1, 100], [0, 2, 200], [1, 3, 300], [2, 3, 200]]  \n",
    "src = 0  \n",
    "dst = 3  \n",
    "k = 2  \n",
    "```\n",
    "**Output:**\n",
    "```py\n",
    "400  \n",
    "```\n",
    "**Explanation:**  \n",
    "Arya can take `0 → 1 → 3` and `0 → 2 → 3` like last example. However we have a tie, so it does not matter the route we take, the cost is still 400."
   ],
   "id": "75c90bc4e100abe5"
  },
  {
   "metadata": {},
   "cell_type": "code",
   "outputs": [],
   "execution_count": null,
   "source": "",
   "id": "e1a1ba9d1e9146cf"
  }
 ],
 "metadata": {
  "kernelspec": {
   "display_name": "Python 3",
   "language": "python",
   "name": "python3"
  },
  "language_info": {
   "codemirror_mode": {
    "name": "ipython",
    "version": 2
   },
   "file_extension": ".py",
   "mimetype": "text/x-python",
   "name": "python",
   "nbconvert_exporter": "python",
   "pygments_lexer": "ipython2",
   "version": "2.7.6"
  }
 },
 "nbformat": 4,
 "nbformat_minor": 5
}
